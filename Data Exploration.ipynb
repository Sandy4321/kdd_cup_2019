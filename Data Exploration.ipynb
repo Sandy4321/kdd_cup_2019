{
 "cells": [
  {
   "cell_type": "markdown",
   "metadata": {},
   "source": [
    "# Load Data"
   ]
  },
  {
   "cell_type": "code",
   "execution_count": 133,
   "metadata": {},
   "outputs": [
    {
     "name": "stdout",
     "output_type": "stream",
     "text": [
      "The autoreload extension is already loaded. To reload it, use:\n",
      "  %reload_ext autoreload\n"
     ]
    }
   ],
   "source": [
    "import numpy as np\n",
    "import csv\n",
    "import io\n",
    "from os import mkdir\n",
    "import json\n",
    "import datetime\n",
    "import pandas as pd \n",
    "import pickle\n",
    "import seaborn as sns\n",
    "from sklearn.model_selection import train_test_split\n",
    "from sklearn.metrics import f1_score, confusion_matrix\n",
    "from sklearn import preprocessing\n",
    "import lightgbm as lgb\n",
    "import matplotlib.pyplot as plt\n",
    "from util.plot_funcs import *\n",
    "from random import uniform\n",
    "from imblearn.over_sampling import RandomOverSampler\n",
    "%load_ext autoreload\n",
    "%autoreload 2\n",
    "import warnings\n",
    "pd.set_option('display.max_columns', 500)\n",
    "pd.set_option('display.max_rows', 500)\n",
    "warnings.filterwarnings('ignore')"
   ]
  },
  {
   "cell_type": "code",
   "execution_count": 2,
   "metadata": {},
   "outputs": [],
   "source": [
    "train_queries = pd.read_csv('./data_set_phase1/train_queries.csv')\n",
    "train_plans = pd.read_csv('./data_set_phase1/train_plans.csv')\n",
    "train_clicks = pd.read_csv('./data_set_phase1/train_clicks.csv')\n",
    "test_queries = pd.read_csv('./data_set_phase1/test_queries.csv')\n",
    "test_plans = pd.read_csv('./data_set_phase1/test_plans.csv')\n",
    "profiles = pd.read_csv('./data_set_phase1/profiles.csv')"
   ]
  },
  {
   "cell_type": "code",
   "execution_count": 3,
   "metadata": {},
   "outputs": [
    {
     "data": {
      "text/html": [
       "<div>\n",
       "<style scoped>\n",
       "    .dataframe tbody tr th:only-of-type {\n",
       "        vertical-align: middle;\n",
       "    }\n",
       "\n",
       "    .dataframe tbody tr th {\n",
       "        vertical-align: top;\n",
       "    }\n",
       "\n",
       "    .dataframe thead th {\n",
       "        text-align: right;\n",
       "    }\n",
       "</style>\n",
       "<table border=\"1\" class=\"dataframe\">\n",
       "  <thead>\n",
       "    <tr style=\"text-align: right;\">\n",
       "      <th></th>\n",
       "      <th>sid</th>\n",
       "      <th>click_time</th>\n",
       "      <th>click_mode</th>\n",
       "    </tr>\n",
       "  </thead>\n",
       "  <tbody>\n",
       "    <tr>\n",
       "      <th>0</th>\n",
       "      <td>2848914</td>\n",
       "      <td>2018-11-17 18:42:17</td>\n",
       "      <td>1</td>\n",
       "    </tr>\n",
       "    <tr>\n",
       "      <th>1</th>\n",
       "      <td>2629085</td>\n",
       "      <td>2018-10-12 16:28:13</td>\n",
       "      <td>3</td>\n",
       "    </tr>\n",
       "    <tr>\n",
       "      <th>2</th>\n",
       "      <td>602598</td>\n",
       "      <td>2018-11-11 16:38:42</td>\n",
       "      <td>2</td>\n",
       "    </tr>\n",
       "  </tbody>\n",
       "</table>\n",
       "</div>"
      ],
      "text/plain": [
       "       sid           click_time  click_mode\n",
       "0  2848914  2018-11-17 18:42:17           1\n",
       "1  2629085  2018-10-12 16:28:13           3\n",
       "2   602598  2018-11-11 16:38:42           2"
      ]
     },
     "execution_count": 3,
     "metadata": {},
     "output_type": "execute_result"
    }
   ],
   "source": [
    "train_clicks.head(3)"
   ]
  },
  {
   "cell_type": "code",
   "execution_count": 4,
   "metadata": {},
   "outputs": [
    {
     "data": {
      "text/html": [
       "<div>\n",
       "<style scoped>\n",
       "    .dataframe tbody tr th:only-of-type {\n",
       "        vertical-align: middle;\n",
       "    }\n",
       "\n",
       "    .dataframe tbody tr th {\n",
       "        vertical-align: top;\n",
       "    }\n",
       "\n",
       "    .dataframe thead th {\n",
       "        text-align: right;\n",
       "    }\n",
       "</style>\n",
       "<table border=\"1\" class=\"dataframe\">\n",
       "  <thead>\n",
       "    <tr style=\"text-align: right;\">\n",
       "      <th></th>\n",
       "      <th>pid</th>\n",
       "      <th>p0</th>\n",
       "      <th>p1</th>\n",
       "      <th>p2</th>\n",
       "      <th>p3</th>\n",
       "      <th>p4</th>\n",
       "      <th>p5</th>\n",
       "      <th>p6</th>\n",
       "      <th>p7</th>\n",
       "      <th>p8</th>\n",
       "      <th>p9</th>\n",
       "      <th>p10</th>\n",
       "      <th>p11</th>\n",
       "      <th>p12</th>\n",
       "      <th>p13</th>\n",
       "      <th>p14</th>\n",
       "      <th>p15</th>\n",
       "      <th>p16</th>\n",
       "      <th>p17</th>\n",
       "      <th>p18</th>\n",
       "      <th>p19</th>\n",
       "      <th>p20</th>\n",
       "      <th>p21</th>\n",
       "      <th>p22</th>\n",
       "      <th>p23</th>\n",
       "      <th>p24</th>\n",
       "      <th>p25</th>\n",
       "      <th>p26</th>\n",
       "      <th>p27</th>\n",
       "      <th>p28</th>\n",
       "      <th>p29</th>\n",
       "      <th>p30</th>\n",
       "      <th>p31</th>\n",
       "      <th>p32</th>\n",
       "      <th>p33</th>\n",
       "      <th>p34</th>\n",
       "      <th>p35</th>\n",
       "      <th>p36</th>\n",
       "      <th>p37</th>\n",
       "      <th>p38</th>\n",
       "      <th>p39</th>\n",
       "      <th>p40</th>\n",
       "      <th>p41</th>\n",
       "      <th>p42</th>\n",
       "      <th>p43</th>\n",
       "      <th>p44</th>\n",
       "      <th>p45</th>\n",
       "      <th>p46</th>\n",
       "      <th>p47</th>\n",
       "      <th>p48</th>\n",
       "      <th>p49</th>\n",
       "      <th>p50</th>\n",
       "      <th>p51</th>\n",
       "      <th>p52</th>\n",
       "      <th>p53</th>\n",
       "      <th>p54</th>\n",
       "      <th>p55</th>\n",
       "      <th>p56</th>\n",
       "      <th>p57</th>\n",
       "      <th>p58</th>\n",
       "      <th>p59</th>\n",
       "      <th>p60</th>\n",
       "      <th>p61</th>\n",
       "      <th>p62</th>\n",
       "      <th>p63</th>\n",
       "      <th>p64</th>\n",
       "      <th>p65</th>\n",
       "    </tr>\n",
       "  </thead>\n",
       "  <tbody>\n",
       "    <tr>\n",
       "      <th>0</th>\n",
       "      <td>196356</td>\n",
       "      <td>1.0</td>\n",
       "      <td>0.0</td>\n",
       "      <td>0.0</td>\n",
       "      <td>0.0</td>\n",
       "      <td>0.0</td>\n",
       "      <td>0.0</td>\n",
       "      <td>0.0</td>\n",
       "      <td>0.0</td>\n",
       "      <td>1.0</td>\n",
       "      <td>0.0</td>\n",
       "      <td>0.0</td>\n",
       "      <td>0.0</td>\n",
       "      <td>0.0</td>\n",
       "      <td>0.0</td>\n",
       "      <td>0.0</td>\n",
       "      <td>0.0</td>\n",
       "      <td>0.0</td>\n",
       "      <td>0.0</td>\n",
       "      <td>0.0</td>\n",
       "      <td>0.0</td>\n",
       "      <td>0.0</td>\n",
       "      <td>0.0</td>\n",
       "      <td>0.0</td>\n",
       "      <td>0.0</td>\n",
       "      <td>0.0</td>\n",
       "      <td>0.0</td>\n",
       "      <td>0.0</td>\n",
       "      <td>0.0</td>\n",
       "      <td>1.0</td>\n",
       "      <td>0.0</td>\n",
       "      <td>1.0</td>\n",
       "      <td>0.0</td>\n",
       "      <td>0.0</td>\n",
       "      <td>1.0</td>\n",
       "      <td>0.0</td>\n",
       "      <td>0.0</td>\n",
       "      <td>0.0</td>\n",
       "      <td>1.0</td>\n",
       "      <td>0.0</td>\n",
       "      <td>0.0</td>\n",
       "      <td>0.0</td>\n",
       "      <td>0.0</td>\n",
       "      <td>0.0</td>\n",
       "      <td>0.0</td>\n",
       "      <td>0.0</td>\n",
       "      <td>0.0</td>\n",
       "      <td>0.0</td>\n",
       "      <td>0.0</td>\n",
       "      <td>1.0</td>\n",
       "      <td>0.0</td>\n",
       "      <td>0.0</td>\n",
       "      <td>0.0</td>\n",
       "      <td>0.0</td>\n",
       "      <td>0.0</td>\n",
       "      <td>0.0</td>\n",
       "      <td>0.0</td>\n",
       "      <td>0.0</td>\n",
       "      <td>0.0</td>\n",
       "      <td>0.0</td>\n",
       "      <td>0.0</td>\n",
       "      <td>0.0</td>\n",
       "      <td>0.0</td>\n",
       "      <td>0.0</td>\n",
       "      <td>0.0</td>\n",
       "      <td>0.0</td>\n",
       "      <td>0.0</td>\n",
       "    </tr>\n",
       "    <tr>\n",
       "      <th>1</th>\n",
       "      <td>204083</td>\n",
       "      <td>1.0</td>\n",
       "      <td>0.0</td>\n",
       "      <td>0.0</td>\n",
       "      <td>0.0</td>\n",
       "      <td>0.0</td>\n",
       "      <td>0.0</td>\n",
       "      <td>0.0</td>\n",
       "      <td>1.0</td>\n",
       "      <td>0.0</td>\n",
       "      <td>0.0</td>\n",
       "      <td>0.0</td>\n",
       "      <td>0.0</td>\n",
       "      <td>0.0</td>\n",
       "      <td>0.0</td>\n",
       "      <td>0.0</td>\n",
       "      <td>0.0</td>\n",
       "      <td>0.0</td>\n",
       "      <td>0.0</td>\n",
       "      <td>0.0</td>\n",
       "      <td>0.0</td>\n",
       "      <td>0.0</td>\n",
       "      <td>0.0</td>\n",
       "      <td>0.0</td>\n",
       "      <td>0.0</td>\n",
       "      <td>0.0</td>\n",
       "      <td>0.0</td>\n",
       "      <td>1.0</td>\n",
       "      <td>0.0</td>\n",
       "      <td>0.0</td>\n",
       "      <td>0.0</td>\n",
       "      <td>1.0</td>\n",
       "      <td>0.0</td>\n",
       "      <td>0.0</td>\n",
       "      <td>1.0</td>\n",
       "      <td>0.0</td>\n",
       "      <td>0.0</td>\n",
       "      <td>1.0</td>\n",
       "      <td>0.0</td>\n",
       "      <td>0.0</td>\n",
       "      <td>0.0</td>\n",
       "      <td>0.0</td>\n",
       "      <td>0.0</td>\n",
       "      <td>0.0</td>\n",
       "      <td>0.0</td>\n",
       "      <td>0.0</td>\n",
       "      <td>0.0</td>\n",
       "      <td>0.0</td>\n",
       "      <td>0.0</td>\n",
       "      <td>0.0</td>\n",
       "      <td>0.0</td>\n",
       "      <td>0.0</td>\n",
       "      <td>0.0</td>\n",
       "      <td>0.0</td>\n",
       "      <td>0.0</td>\n",
       "      <td>0.0</td>\n",
       "      <td>0.0</td>\n",
       "      <td>0.0</td>\n",
       "      <td>0.0</td>\n",
       "      <td>0.0</td>\n",
       "      <td>1.0</td>\n",
       "      <td>0.0</td>\n",
       "      <td>0.0</td>\n",
       "      <td>0.0</td>\n",
       "      <td>1.0</td>\n",
       "      <td>0.0</td>\n",
       "      <td>0.0</td>\n",
       "    </tr>\n",
       "    <tr>\n",
       "      <th>2</th>\n",
       "      <td>170667</td>\n",
       "      <td>0.0</td>\n",
       "      <td>0.0</td>\n",
       "      <td>1.0</td>\n",
       "      <td>0.0</td>\n",
       "      <td>0.0</td>\n",
       "      <td>0.0</td>\n",
       "      <td>0.0</td>\n",
       "      <td>1.0</td>\n",
       "      <td>0.0</td>\n",
       "      <td>0.0</td>\n",
       "      <td>0.0</td>\n",
       "      <td>0.0</td>\n",
       "      <td>0.0</td>\n",
       "      <td>0.0</td>\n",
       "      <td>0.0</td>\n",
       "      <td>0.0</td>\n",
       "      <td>0.0</td>\n",
       "      <td>0.0</td>\n",
       "      <td>0.0</td>\n",
       "      <td>0.0</td>\n",
       "      <td>0.0</td>\n",
       "      <td>0.0</td>\n",
       "      <td>0.0</td>\n",
       "      <td>0.0</td>\n",
       "      <td>0.0</td>\n",
       "      <td>0.0</td>\n",
       "      <td>1.0</td>\n",
       "      <td>0.0</td>\n",
       "      <td>0.0</td>\n",
       "      <td>0.0</td>\n",
       "      <td>1.0</td>\n",
       "      <td>0.0</td>\n",
       "      <td>1.0</td>\n",
       "      <td>0.0</td>\n",
       "      <td>0.0</td>\n",
       "      <td>1.0</td>\n",
       "      <td>0.0</td>\n",
       "      <td>0.0</td>\n",
       "      <td>0.0</td>\n",
       "      <td>0.0</td>\n",
       "      <td>0.0</td>\n",
       "      <td>0.0</td>\n",
       "      <td>1.0</td>\n",
       "      <td>0.0</td>\n",
       "      <td>0.0</td>\n",
       "      <td>0.0</td>\n",
       "      <td>0.0</td>\n",
       "      <td>0.0</td>\n",
       "      <td>0.0</td>\n",
       "      <td>0.0</td>\n",
       "      <td>0.0</td>\n",
       "      <td>0.0</td>\n",
       "      <td>0.0</td>\n",
       "      <td>0.0</td>\n",
       "      <td>0.0</td>\n",
       "      <td>0.0</td>\n",
       "      <td>0.0</td>\n",
       "      <td>0.0</td>\n",
       "      <td>0.0</td>\n",
       "      <td>0.0</td>\n",
       "      <td>0.0</td>\n",
       "      <td>0.0</td>\n",
       "      <td>1.0</td>\n",
       "      <td>0.0</td>\n",
       "      <td>0.0</td>\n",
       "      <td>0.0</td>\n",
       "    </tr>\n",
       "  </tbody>\n",
       "</table>\n",
       "</div>"
      ],
      "text/plain": [
       "      pid   p0   p1   p2   p3   p4   p5   p6   p7   p8   p9  p10  p11  p12  \\\n",
       "0  196356  1.0  0.0  0.0  0.0  0.0  0.0  0.0  0.0  1.0  0.0  0.0  0.0  0.0   \n",
       "1  204083  1.0  0.0  0.0  0.0  0.0  0.0  0.0  1.0  0.0  0.0  0.0  0.0  0.0   \n",
       "2  170667  0.0  0.0  1.0  0.0  0.0  0.0  0.0  1.0  0.0  0.0  0.0  0.0  0.0   \n",
       "\n",
       "   p13  p14  p15  p16  p17  p18  p19  p20  p21  p22  p23  p24  p25  p26  p27  \\\n",
       "0  0.0  0.0  0.0  0.0  0.0  0.0  0.0  0.0  0.0  0.0  0.0  0.0  0.0  0.0  0.0   \n",
       "1  0.0  0.0  0.0  0.0  0.0  0.0  0.0  0.0  0.0  0.0  0.0  0.0  0.0  1.0  0.0   \n",
       "2  0.0  0.0  0.0  0.0  0.0  0.0  0.0  0.0  0.0  0.0  0.0  0.0  0.0  1.0  0.0   \n",
       "\n",
       "   p28  p29  p30  p31  p32  p33  p34  p35  p36  p37  p38  p39  p40  p41  p42  \\\n",
       "0  1.0  0.0  1.0  0.0  0.0  1.0  0.0  0.0  0.0  1.0  0.0  0.0  0.0  0.0  0.0   \n",
       "1  0.0  0.0  1.0  0.0  0.0  1.0  0.0  0.0  1.0  0.0  0.0  0.0  0.0  0.0  0.0   \n",
       "2  0.0  0.0  1.0  0.0  1.0  0.0  0.0  1.0  0.0  0.0  0.0  0.0  0.0  0.0  1.0   \n",
       "\n",
       "   p43  p44  p45  p46  p47  p48  p49  p50  p51  p52  p53  p54  p55  p56  p57  \\\n",
       "0  0.0  0.0  0.0  0.0  0.0  1.0  0.0  0.0  0.0  0.0  0.0  0.0  0.0  0.0  0.0   \n",
       "1  0.0  0.0  0.0  0.0  0.0  0.0  0.0  0.0  0.0  0.0  0.0  0.0  0.0  0.0  0.0   \n",
       "2  0.0  0.0  0.0  0.0  0.0  0.0  0.0  0.0  0.0  0.0  0.0  0.0  0.0  0.0  0.0   \n",
       "\n",
       "   p58  p59  p60  p61  p62  p63  p64  p65  \n",
       "0  0.0  0.0  0.0  0.0  0.0  0.0  0.0  0.0  \n",
       "1  0.0  1.0  0.0  0.0  0.0  1.0  0.0  0.0  \n",
       "2  0.0  0.0  0.0  0.0  1.0  0.0  0.0  0.0  "
      ]
     },
     "execution_count": 4,
     "metadata": {},
     "output_type": "execute_result"
    }
   ],
   "source": [
    "profiles.head(3)"
   ]
  },
  {
   "cell_type": "code",
   "execution_count": 5,
   "metadata": {},
   "outputs": [
    {
     "data": {
      "text/html": [
       "<div>\n",
       "<style scoped>\n",
       "    .dataframe tbody tr th:only-of-type {\n",
       "        vertical-align: middle;\n",
       "    }\n",
       "\n",
       "    .dataframe tbody tr th {\n",
       "        vertical-align: top;\n",
       "    }\n",
       "\n",
       "    .dataframe thead th {\n",
       "        text-align: right;\n",
       "    }\n",
       "</style>\n",
       "<table border=\"1\" class=\"dataframe\">\n",
       "  <thead>\n",
       "    <tr style=\"text-align: right;\">\n",
       "      <th></th>\n",
       "      <th>sid</th>\n",
       "      <th>pid</th>\n",
       "      <th>req_time</th>\n",
       "      <th>o</th>\n",
       "      <th>d</th>\n",
       "    </tr>\n",
       "  </thead>\n",
       "  <tbody>\n",
       "    <tr>\n",
       "      <th>0</th>\n",
       "      <td>3000821</td>\n",
       "      <td>NaN</td>\n",
       "      <td>2018-11-02 17:54:30</td>\n",
       "      <td>116.29,39.97</td>\n",
       "      <td>116.32,39.96</td>\n",
       "    </tr>\n",
       "    <tr>\n",
       "      <th>1</th>\n",
       "      <td>3085857</td>\n",
       "      <td>210736.0</td>\n",
       "      <td>2018-11-16 10:53:10</td>\n",
       "      <td>116.39,39.84</td>\n",
       "      <td>116.33,39.79</td>\n",
       "    </tr>\n",
       "    <tr>\n",
       "      <th>2</th>\n",
       "      <td>2944522</td>\n",
       "      <td>NaN</td>\n",
       "      <td>2018-10-06 10:33:58</td>\n",
       "      <td>116.31,39.93</td>\n",
       "      <td>116.27,40.00</td>\n",
       "    </tr>\n",
       "  </tbody>\n",
       "</table>\n",
       "</div>"
      ],
      "text/plain": [
       "       sid       pid             req_time             o             d\n",
       "0  3000821       NaN  2018-11-02 17:54:30  116.29,39.97  116.32,39.96\n",
       "1  3085857  210736.0  2018-11-16 10:53:10  116.39,39.84  116.33,39.79\n",
       "2  2944522       NaN  2018-10-06 10:33:58  116.31,39.93  116.27,40.00"
      ]
     },
     "execution_count": 5,
     "metadata": {},
     "output_type": "execute_result"
    }
   ],
   "source": [
    "train_queries.head(3)"
   ]
  },
  {
   "cell_type": "code",
   "execution_count": 6,
   "metadata": {},
   "outputs": [
    {
     "data": {
      "text/html": [
       "<div>\n",
       "<style scoped>\n",
       "    .dataframe tbody tr th:only-of-type {\n",
       "        vertical-align: middle;\n",
       "    }\n",
       "\n",
       "    .dataframe tbody tr th {\n",
       "        vertical-align: top;\n",
       "    }\n",
       "\n",
       "    .dataframe thead th {\n",
       "        text-align: right;\n",
       "    }\n",
       "</style>\n",
       "<table border=\"1\" class=\"dataframe\">\n",
       "  <thead>\n",
       "    <tr style=\"text-align: right;\">\n",
       "      <th></th>\n",
       "      <th>sid</th>\n",
       "      <th>plan_time</th>\n",
       "      <th>plans</th>\n",
       "    </tr>\n",
       "  </thead>\n",
       "  <tbody>\n",
       "    <tr>\n",
       "      <th>0</th>\n",
       "      <td>1709112</td>\n",
       "      <td>2018-11-04 11:45:04</td>\n",
       "      <td>[{\"distance\": 32303, \"price\": 600, \"eta\": 5087...</td>\n",
       "    </tr>\n",
       "    <tr>\n",
       "      <th>1</th>\n",
       "      <td>3327773</td>\n",
       "      <td>2018-10-16 19:09:29</td>\n",
       "      <td>[{\"distance\": 3427, \"price\": 300, \"eta\": 627, ...</td>\n",
       "    </tr>\n",
       "    <tr>\n",
       "      <th>2</th>\n",
       "      <td>3285959</td>\n",
       "      <td>2018-11-25 15:05:22</td>\n",
       "      <td>[{\"distance\": 36234, \"price\": 1100, \"eta\": 931...</td>\n",
       "    </tr>\n",
       "  </tbody>\n",
       "</table>\n",
       "</div>"
      ],
      "text/plain": [
       "       sid            plan_time  \\\n",
       "0  1709112  2018-11-04 11:45:04   \n",
       "1  3327773  2018-10-16 19:09:29   \n",
       "2  3285959  2018-11-25 15:05:22   \n",
       "\n",
       "                                               plans  \n",
       "0  [{\"distance\": 32303, \"price\": 600, \"eta\": 5087...  \n",
       "1  [{\"distance\": 3427, \"price\": 300, \"eta\": 627, ...  \n",
       "2  [{\"distance\": 36234, \"price\": 1100, \"eta\": 931...  "
      ]
     },
     "execution_count": 6,
     "metadata": {},
     "output_type": "execute_result"
    }
   ],
   "source": [
    "train_plans.head(3)"
   ]
  },
  {
   "cell_type": "code",
   "execution_count": 7,
   "metadata": {},
   "outputs": [],
   "source": [
    "with open('./data_set_phase1/weather.json', 'r') as f:\n",
    "    weather_dict = json.load(f)"
   ]
  },
  {
   "cell_type": "markdown",
   "metadata": {},
   "source": [
    "# Pre-processing"
   ]
  },
  {
   "cell_type": "code",
   "execution_count": 8,
   "metadata": {},
   "outputs": [],
   "source": [
    "def pre_process_queries(X):\n",
    "    X['pid'] = X['pid'].fillna(0)\n",
    "    X['req_time'] = pd.to_datetime(X['req_time'])\n",
    "    X['dow'] = X['req_time'].apply(lambda x: x.weekday())\n",
    "    X['hr'] = X['req_time'].apply(lambda x: x.hour)\n",
    "    X['O_lon'] = X['o'].apply(lambda x: float(x.split(',')[0]))\n",
    "    X['O_lat'] = X['o'].apply(lambda x: float(x.split(',')[1]))\n",
    "    X['D_lon'] = X['d'].apply(lambda x: float(x.split(',')[0]))\n",
    "    X['D_lat'] = X['d'].apply(lambda x: float(x.split(',')[1]))\n",
    "    \n",
    "    X['date'] =  X['req_time'].apply(lambda x:x.date())\n",
    "    #X = X.merge(weather, on = 'date')\n",
    "    \n",
    "    del X['o']\n",
    "    del X['d']\n",
    "    del X['req_time']\n",
    "    \n",
    "    return X"
   ]
  },
  {
   "cell_type": "code",
   "execution_count": 9,
   "metadata": {},
   "outputs": [
    {
     "name": "stdout",
     "output_type": "stream",
     "text": [
      "CPU times: user 5.09 s, sys: 105 ms, total: 5.19 s\n",
      "Wall time: 5.19 s\n"
     ]
    }
   ],
   "source": [
    "%%time\n",
    "train_queries = pre_process_queries(train_queries)\n",
    "test_queries = pre_process_queries(test_queries)"
   ]
  },
  {
   "cell_type": "code",
   "execution_count": 10,
   "metadata": {},
   "outputs": [],
   "source": [
    "def pre_process_plan(X):\n",
    "    try:\n",
    "        X['plans'] = X['plans'].apply(lambda x: eval(x))\n",
    "    except:\n",
    "        pass\n",
    "    \n",
    "    outputs = []\n",
    "    for _, row in X.iterrows():\n",
    "        sid = row['sid']\n",
    "        rank = 0\n",
    "        for plan in row['plans']:\n",
    "            outputs.append([sid, \n",
    "                            plan['distance'], \n",
    "                            plan['price'], \n",
    "                            plan['eta'], \n",
    "                            plan['transport_mode'],\n",
    "                            rank])\n",
    "            rank += 1\n",
    "    \n",
    "    output = pd.DataFrame(outputs, columns = ['sid','distance', 'price', 'eta','transport_mode', 'rank'])  \n",
    "    output['price'] = output['price'].replace('',-1)\n",
    "    output['distance'] = output['distance'].replace('',-1)\n",
    "    output['eta'] = output['eta'].replace('',-1)\n",
    "    return output"
   ]
  },
  {
   "cell_type": "code",
   "execution_count": 11,
   "metadata": {},
   "outputs": [
    {
     "name": "stdout",
     "output_type": "stream",
     "text": [
      "CPU times: user 1min 29s, sys: 912 ms, total: 1min 30s\n",
      "Wall time: 1min 30s\n"
     ]
    }
   ],
   "source": [
    "%%time\n",
    "train_plans_ = pre_process_plan(train_plans)\n",
    "test_plans_  = pre_process_plan(test_plans)"
   ]
  },
  {
   "cell_type": "code",
   "execution_count": 12,
   "metadata": {},
   "outputs": [],
   "source": [
    "train_plans_.drop_duplicates(subset = ['sid','transport_mode'], inplace=True)\n",
    "test_plans_.drop_duplicates(subset = ['sid','transport_mode'], inplace=True)"
   ]
  },
  {
   "cell_type": "code",
   "execution_count": 13,
   "metadata": {},
   "outputs": [
    {
     "name": "stdout",
     "output_type": "stream",
     "text": [
      "CPU times: user 30.3 s, sys: 315 ms, total: 30.6 s\n",
      "Wall time: 30.6 s\n"
     ]
    }
   ],
   "source": [
    "%%time\n",
    "profiles['profile'] = profiles.apply(lambda row: [x + 1 for x in range(66) if row['p'+str(x)] == 1], axis = 1)\n",
    "profiles = profiles.append({'pid': 0 , 'profile' : []} , ignore_index=True).fillna(0)"
   ]
  },
  {
   "cell_type": "code",
   "execution_count": 14,
   "metadata": {},
   "outputs": [],
   "source": [
    "train_clicks = train_clicks[['sid','click_mode']]\n",
    "train_clicks['label'] = 1"
   ]
  },
  {
   "cell_type": "markdown",
   "metadata": {},
   "source": [
    "# Merge"
   ]
  },
  {
   "cell_type": "code",
   "execution_count": 15,
   "metadata": {},
   "outputs": [],
   "source": [
    "train = train_plans_.merge(train_queries, on ='sid')\\\n",
    "            .merge(profiles, on = 'pid')\\\n",
    "            .merge(train_clicks[['sid']], on = 'sid')\\\n",
    "            .merge(train_clicks, left_on = ['sid', 'transport_mode'], \n",
    "                   right_on = ['sid', 'click_mode'], how = 'left')\n",
    "del train['click_mode']\n",
    "train['label'] = train['label'].fillna(0)"
   ]
  },
  {
   "cell_type": "code",
   "execution_count": 16,
   "metadata": {},
   "outputs": [],
   "source": [
    "test = test_plans_.merge(test_queries, on ='sid').merge(profiles, on = 'pid')"
   ]
  },
  {
   "cell_type": "markdown",
   "metadata": {},
   "source": [
    "# Exploration"
   ]
  },
  {
   "cell_type": "code",
   "execution_count": 17,
   "metadata": {},
   "outputs": [],
   "source": [
    "def add_num_plans(df):\n",
    "    num_plans = df.groupby(['sid'], as_index = False)['rank'].agg({'num_plans':lambda x: max(x) + 1})\n",
    "    df = df.merge(num_plans, how = 'left', on = 'sid')\n",
    "    return df"
   ]
  },
  {
   "cell_type": "code",
   "execution_count": 18,
   "metadata": {},
   "outputs": [
    {
     "name": "stdout",
     "output_type": "stream",
     "text": [
      "CPU times: user 10.9 s, sys: 3.01 s, total: 13.9 s\n",
      "Wall time: 13.9 s\n"
     ]
    }
   ],
   "source": [
    "%%time\n",
    "train = add_num_plans(train)\n",
    "test = add_num_plans(test)"
   ]
  },
  {
   "cell_type": "markdown",
   "metadata": {},
   "source": [
    "## Clicked Transport Mode"
   ]
  },
  {
   "cell_type": "code",
   "execution_count": 50,
   "metadata": {
    "deletable": false,
    "editable": false,
    "run_control": {
     "frozen": true
    },
    "scrolled": true
   },
   "outputs": [
    {
     "data": {
      "text/plain": [
       "<matplotlib.axes._subplots.AxesSubplot at 0x169f35780>"
      ]
     },
     "execution_count": 50,
     "metadata": {},
     "output_type": "execute_result"
    },
    {
     "data": {
      "image/png": "[encoded data removed]",
      "text/plain": [
       "<Figure size 432x288 with 1 Axes>"
      ]
     },
     "metadata": {
      "needs_background": "light"
     },
     "output_type": "display_data"
    }
   ],
   "source": [
    "sns.countplot(train[train['label'] == 1]['transport_mode'], color = 'blue')"
   ]
  },
  {
   "cell_type": "markdown",
   "metadata": {
    "deletable": false,
    "editable": false,
    "run_control": {
     "frozen": true
    }
   },
   "source": [
    "## Number of plans"
   ]
  },
  {
   "cell_type": "code",
   "execution_count": 52,
   "metadata": {
    "deletable": false,
    "editable": false,
    "run_control": {
     "frozen": true
    }
   },
   "outputs": [
    {
     "data": {
      "text/plain": [
       "<matplotlib.axes._subplots.AxesSubplot at 0x13ae0c9e8>"
      ]
     },
     "execution_count": 52,
     "metadata": {},
     "output_type": "execute_result"
    },
    {
     "data": {
      "image/png": "[encoded data removed]",
      "text/plain": [
       "<Figure size 432x288 with 1 Axes>"
      ]
     },
     "metadata": {
      "needs_background": "light"
     },
     "output_type": "display_data"
    }
   ],
   "source": [
    "sns.countplot(train['num_plans'], color = 'blue')"
   ]
  },
  {
   "cell_type": "markdown",
   "metadata": {
    "deletable": false,
    "editable": false,
    "run_control": {
     "frozen": true
    }
   },
   "source": [
    "## Click Rank for Multiple Plan Session"
   ]
  },
  {
   "cell_type": "code",
   "execution_count": 19,
   "metadata": {
    "deletable": false,
    "editable": false,
    "run_control": {
     "frozen": true
    }
   },
   "outputs": [
    {
     "data": {
      "text/plain": [
       "<matplotlib.axes._subplots.AxesSubplot at 0x106079c18>"
      ]
     },
     "execution_count": 19,
     "metadata": {},
     "output_type": "execute_result"
    },
    {
     "data": {
      "image/png": "[encoded data removed]",
      "text/plain": [
       "<Figure size 432x288 with 1 Axes>"
      ]
     },
     "metadata": {
      "needs_background": "light"
     },
     "output_type": "display_data"
    }
   ],
   "source": [
    "sns.countplot(train[(train['label'] == 1) & (train['num_plans'] > 1)]['rank'], color = 'blue')"
   ]
  },
  {
   "cell_type": "markdown",
   "metadata": {},
   "source": [
    "# Feature Engineering"
   ]
  },
  {
   "cell_type": "code",
   "execution_count": 20,
   "metadata": {},
   "outputs": [],
   "source": [
    "train = train[(train['num_plans'] > 1)]"
   ]
  },
  {
   "cell_type": "code",
   "execution_count": 37,
   "metadata": {},
   "outputs": [],
   "source": [
    "def add_other_modes(df):\n",
    "    temp = df.groupby('sid', as_index=False)['transport_mode']\\\n",
    "            .agg({'mode_list':lambda x: ','.join(sorted(x.astype(str), key = lambda x:int(x)))})\n",
    "    df = df.merge(temp, on = 'sid')\n",
    "    return df"
   ]
  },
  {
   "cell_type": "code",
   "execution_count": 38,
   "metadata": {},
   "outputs": [
    {
     "name": "stdout",
     "output_type": "stream",
     "text": [
      "CPU times: user 1min 41s, sys: 3.66 s, total: 1min 45s\n",
      "Wall time: 1min 45s\n"
     ]
    }
   ],
   "source": [
    "%%time\n",
    "train = add_other_modes(train)\n",
    "test = add_other_modes(test)"
   ]
  },
  {
   "cell_type": "code",
   "execution_count": 21,
   "metadata": {},
   "outputs": [],
   "source": [
    "def add_direction(df):\n",
    "    df['lon_diff'] = df['O_lon'] - df['D_lon']\n",
    "    df['lat_diff'] = df['O_lat'] - df['D_lat']\n",
    "    return df"
   ]
  },
  {
   "cell_type": "code",
   "execution_count": 22,
   "metadata": {},
   "outputs": [
    {
     "name": "stdout",
     "output_type": "stream",
     "text": [
      "CPU times: user 182 ms, sys: 8.04 ms, total: 190 ms\n",
      "Wall time: 143 ms\n"
     ]
    }
   ],
   "source": [
    "%%time\n",
    "train = add_direction(train)\n",
    "test = add_direction(test)"
   ]
  },
  {
   "cell_type": "code",
   "execution_count": 39,
   "metadata": {},
   "outputs": [],
   "source": [
    "def add_cross_stats(df):\n",
    "    for col in ['hr','dow','rank','mode_list']:\n",
    "        colname = 'mode_'+ col + '_clicks'\n",
    "        temp = train.groupby( [col, 'transport_mode'], as_index = False)\\\n",
    "                .agg({'label':np.mean}).rename(columns = {'label':colname})\n",
    "        df = df.merge(temp, on = ['transport_mode', col], how = 'left')\n",
    "        df[colname] = df[colname].fillna(0)\n",
    "    return df"
   ]
  },
  {
   "cell_type": "code",
   "execution_count": 40,
   "metadata": {},
   "outputs": [
    {
     "name": "stdout",
     "output_type": "stream",
     "text": [
      "CPU times: user 6.66 s, sys: 4.63 s, total: 11.3 s\n",
      "Wall time: 11.3 s\n"
     ]
    }
   ],
   "source": [
    "%%time\n",
    "train = add_cross_stats(train)\n",
    "test = add_cross_stats(test)"
   ]
  },
  {
   "cell_type": "code",
   "execution_count": 28,
   "metadata": {},
   "outputs": [],
   "source": [
    "def add_max_min(df):\n",
    "    cols = ['eta','distance','price']\n",
    "    temp_columns = ['sid'] + [x + '_' + y for x in cols for y in ['min', 'max']]\n",
    "    temp = df.groupby('sid', as_index = False).agg({'eta':[min, max], 'distance':[min, max], 'price':[min, max]})\n",
    "    temp.columns = temp.columns.droplevel()\n",
    "    temp.columns = temp_columns\n",
    "    \n",
    "    df = df.merge(temp, on = 'sid')\n",
    "    for col in cols:\n",
    "        for t in ['max', 'min']:\n",
    "            df[col + '_' + t] = df[col] / (df[col + '_' + t] + 0.001)\n",
    "    \n",
    "    return df"
   ]
  },
  {
   "cell_type": "code",
   "execution_count": 29,
   "metadata": {},
   "outputs": [
    {
     "name": "stdout",
     "output_type": "stream",
     "text": [
      "CPU times: user 4.9 s, sys: 3.25 s, total: 8.15 s\n",
      "Wall time: 7.79 s\n"
     ]
    }
   ],
   "source": [
    "%%time\n",
    "train = add_max_min(train)\n",
    "test = add_max_min(test)"
   ]
  },
  {
   "cell_type": "code",
   "execution_count": 50,
   "metadata": {},
   "outputs": [],
   "source": [
    "def add_divide(df):\n",
    "    df['eta_per_distance'] = df['eta'] / (df['distance'] + 0.001)\n",
    "    df['price_per_distance'] = df['price'] / (df['distance'] + 0.001)\n",
    "    df['price_per_eta'] = df['price'] / (df['eta'] + 0.001)\n",
    "    \n",
    "    temp = df.groupby('transport_mode', as_index = 'False').agg({'eta_per_distance':np.median,\n",
    "                                                                 'price_per_distance':np.median,\n",
    "                                                                 'price_per_eta':np.median}).reset_index()\n",
    "    \n",
    "    temp.columns  = ['transport_mode', 'eta_dis_avg','price_dis_avg','price_eta_avg']\n",
    "    \n",
    "    df = df.merge(temp, on = 'transport_mode')\n",
    "    df['eta_per_distance'] = df['eta_per_distance'] / df['eta_dis_avg']\n",
    "    df['price_per_distance'] = df['price_per_distance'] / df['price_dis_avg']\n",
    "    df['price_per_eta'] = df['price_per_eta'] / df['price_eta_avg']\n",
    "                           \n",
    "    del df['eta_dis_avg']                                                     \n",
    "    del df['price_dis_avg']\n",
    "    del df['price_eta_avg']\n",
    "    return df"
   ]
  },
  {
   "cell_type": "code",
   "execution_count": 51,
   "metadata": {},
   "outputs": [
    {
     "name": "stdout",
     "output_type": "stream",
     "text": [
      "CPU times: user 9.9 s, sys: 5.34 s, total: 15.2 s\n",
      "Wall time: 15 s\n"
     ]
    }
   ],
   "source": [
    "%%time\n",
    "train = add_divide(train)\n",
    "test = add_divide(test)"
   ]
  },
  {
   "cell_type": "code",
   "execution_count": 52,
   "metadata": {},
   "outputs": [],
   "source": [
    "train['price_NA'] = train['price'] == -1\n",
    "test['price_NA'] = test['price'] == -1"
   ]
  },
  {
   "cell_type": "code",
   "execution_count": 53,
   "metadata": {},
   "outputs": [],
   "source": [
    "def add_time(df):\n",
    "    df['is_night'] = df['hr'].isin([23,0,1,2,3,4,5])\n",
    "    df['is_weekend'] = df['dow'].isin([4,5])\n",
    "    return df"
   ]
  },
  {
   "cell_type": "code",
   "execution_count": 54,
   "metadata": {},
   "outputs": [
    {
     "name": "stdout",
     "output_type": "stream",
     "text": [
      "CPU times: user 29.2 ms, sys: 2.03 ms, total: 31.2 ms\n",
      "Wall time: 30.3 ms\n"
     ]
    }
   ],
   "source": [
    "%%time\n",
    "train = add_time(train)\n",
    "test = add_time(test)"
   ]
  },
  {
   "cell_type": "code",
   "execution_count": 71,
   "metadata": {},
   "outputs": [],
   "source": [
    "def remove_profile(train, test):\n",
    "    for i in range(0, 66):\n",
    "        if train['p' + str(i)].mean() < 0.05:\n",
    "            del train['p' + str(i)]\n",
    "            del test['p' + str(i)]\n",
    "    return train, test"
   ]
  },
  {
   "cell_type": "code",
   "execution_count": 72,
   "metadata": {},
   "outputs": [
    {
     "name": "stdout",
     "output_type": "stream",
     "text": [
      "CPU times: user 19.4 s, sys: 17.2 s, total: 36.6 s\n",
      "Wall time: 36.6 s\n"
     ]
    }
   ],
   "source": [
    "%%time\n",
    "train, test = remove_profile(train, test)"
   ]
  },
  {
   "cell_type": "code",
   "execution_count": 241,
   "metadata": {},
   "outputs": [],
   "source": [
    "def add_weight(df, add_weight = False):\n",
    "    if add_weight == False:\n",
    "        return df\n",
    "    else:\n",
    "        temp = pd.DataFrame(train[(train['label'] == 1)]['transport_mode'].value_counts()).reset_index().sort_values(by = 'index')\n",
    "        temp.columns = ['transport_mode', 'weight']\n",
    "        temp['weight'] = np.sqrt(1 / temp['weight'] * 10000)\n",
    "        temp.loc[temp['transport_mode'] == 3, 'weight'] = temp.loc[temp['transport_mode'] == 3, 'weight'] * 3\n",
    "        temp.loc[temp['transport_mode'] == 9, 'weight'] = temp.loc[temp['transport_mode'] == 9, 'weight'] * 3\n",
    "        temp = temp.merge(train[train['label'] == 1][['sid','transport_mode']], on = 'transport_mode')[['sid','weight']]\n",
    "        temp['label'] = 1\n",
    "        df = df.merge(temp, on = ['sid','label'], how = 'left')\n",
    "        df['weight'] = df['weight'].fillna(1)\n",
    "        return df"
   ]
  },
  {
   "cell_type": "code",
   "execution_count": 242,
   "metadata": {},
   "outputs": [
    {
     "name": "stdout",
     "output_type": "stream",
     "text": [
      "CPU times: user 3.54 s, sys: 2.09 s, total: 5.62 s\n",
      "Wall time: 5.63 s\n"
     ]
    }
   ],
   "source": [
    "%%time\n",
    "if 'weight' in train.columns:\n",
    "    del train['weight']\n",
    "train = add_weight(train, add_weight=True)"
   ]
  },
  {
   "cell_type": "markdown",
   "metadata": {},
   "source": [
    "# Save intermediate data to pickle"
   ]
  },
  {
   "cell_type": "code",
   "execution_count": 243,
   "metadata": {},
   "outputs": [
    {
     "name": "stdout",
     "output_type": "stream",
     "text": [
      "CPU times: user 2.03 s, sys: 762 ms, total: 2.8 s\n",
      "Wall time: 2.9 s\n"
     ]
    }
   ],
   "source": [
    "%%time\n",
    "data = {'train': train, 'test':test, 'all_test_sid':set(test_queries['sid'])}\n",
    "with open('./processed_data/data.pickle', 'wb') as handle:\n",
    "    pickle.dump(data, handle)"
   ]
  },
  {
   "cell_type": "code",
   "execution_count": 244,
   "metadata": {},
   "outputs": [
    {
     "name": "stdout",
     "output_type": "stream",
     "text": [
      "CPU times: user 957 ms, sys: 920 ms, total: 1.88 s\n",
      "Wall time: 1.88 s\n"
     ]
    }
   ],
   "source": [
    "%%time\n",
    "with open('./processed_data/data.pickle', 'rb') as handle:\n",
    "    data = pickle.load(handle)\n",
    "\n",
    "train = data['train']\n",
    "test = data['test']"
   ]
  },
  {
   "cell_type": "markdown",
   "metadata": {},
   "source": [
    "# Baseline LGB model"
   ]
  },
  {
   "cell_type": "markdown",
   "metadata": {},
   "source": [
    "## Train/Validation Split"
   ]
  },
  {
   "cell_type": "code",
   "execution_count": 245,
   "metadata": {},
   "outputs": [],
   "source": [
    "train_ = train.copy()\n",
    "test_ = test.copy()"
   ]
  },
  {
   "cell_type": "code",
   "execution_count": 246,
   "metadata": {},
   "outputs": [],
   "source": [
    "exclude_columns = ['sid',\n",
    "                   'pid',\n",
    "                   'profile',\n",
    "                   'price_min',\n",
    "                   'label',\n",
    "                   'weight',\n",
    "                   'mode_list',\n",
    "                   'date'\n",
    "                  ] \n",
    "features = [x for x in train_.columns if x not in exclude_columns]"
   ]
  },
  {
   "cell_type": "code",
   "execution_count": 1867,
   "metadata": {
    "deletable": false,
    "editable": false,
    "run_control": {
     "frozen": true
    }
   },
   "outputs": [],
   "source": [
    "sid_train, sid_eval = train_test_split(list(set(train_['sid'])),\n",
    "                                       test_size = 0.15, \n",
    "                                       random_state = 88)"
   ]
  },
  {
   "cell_type": "code",
   "execution_count": 247,
   "metadata": {},
   "outputs": [],
   "source": [
    "sid_train = list(set(train_[(train_['date'] <  datetime.date(2018, 11, 24)) & \\\n",
    "                            (train_['date'] >  datetime.date(2018, 10, 7))]['sid']))\n",
    "sid_eval  = list(set(train_[train_['date'] >= datetime.date(2018, 11, 24)]['sid']))"
   ]
  },
  {
   "cell_type": "code",
   "execution_count": 248,
   "metadata": {},
   "outputs": [],
   "source": [
    "T = train_[train_['sid'].isin(sid_train)]\n",
    "V = train_[train_['sid'].isin(sid_eval)]"
   ]
  },
  {
   "cell_type": "code",
   "execution_count": 249,
   "metadata": {},
   "outputs": [],
   "source": [
    "X_train = T\n",
    "X_eval  = V\n",
    "y_train = T['label']\n",
    "y_eval  = V['label']"
   ]
  },
  {
   "cell_type": "markdown",
   "metadata": {},
   "source": [
    "## Model Training"
   ]
  },
  {
   "cell_type": "code",
   "execution_count": 250,
   "metadata": {},
   "outputs": [],
   "source": [
    "params = {\n",
    "    'boosting_type': 'gbdt',\n",
    "    'objective': 'binary',\n",
    "    #'metric': 'auc',\n",
    "    'num_leaves': 31,\n",
    "    'learning_rate': 0.08,\n",
    "    'feature_fraction': 0.9,\n",
    "    'bagging_fraction': 1.0,\n",
    "    'bagging_seed':0,\n",
    "    'bagging_freq': 1,\n",
    "    'verbose': 1,\n",
    "    #'reg_alpha':1,\n",
    "    #'reg_lambda':1\n",
    "}"
   ]
  },
  {
   "cell_type": "code",
   "execution_count": 251,
   "metadata": {},
   "outputs": [],
   "source": [
    "lgb_train = lgb.Dataset(X_train[features], y_train, \n",
    "                        weight = X_train['weight'], \n",
    "                        categorical_feature = ['transport_mode'])\n",
    "lgb_evals = lgb.Dataset(X_eval[features], y_eval, reference = lgb_train)"
   ]
  },
  {
   "cell_type": "code",
   "execution_count": 252,
   "metadata": {},
   "outputs": [
    {
     "name": "stdout",
     "output_type": "stream",
     "text": [
      "Training until validation scores don't improve for 100 rounds.\n",
      "[200]\ttrain's binary_logloss: 0.260445\tvalid's binary_logloss: 0.292211\n",
      "[400]\ttrain's binary_logloss: 0.255857\tvalid's binary_logloss: 0.291063\n",
      "[600]\ttrain's binary_logloss: 0.252133\tvalid's binary_logloss: 0.290481\n",
      "[800]\ttrain's binary_logloss: 0.248593\tvalid's binary_logloss: 0.290156\n",
      "[1000]\ttrain's binary_logloss: 0.245366\tvalid's binary_logloss: 0.289769\n",
      "[1200]\ttrain's binary_logloss: 0.242275\tvalid's binary_logloss: 0.289484\n",
      "[1400]\ttrain's binary_logloss: 0.239473\tvalid's binary_logloss: 0.289292\n",
      "[1600]\ttrain's binary_logloss: 0.236818\tvalid's binary_logloss: 0.289089\n",
      "Early stopping, best iteration is:\n",
      "[1638]\ttrain's binary_logloss: 0.23628\tvalid's binary_logloss: 0.288983\n",
      "CPU times: user 15min 2s, sys: 10.5 s, total: 15min 12s\n",
      "Wall time: 1min 24s\n"
     ]
    }
   ],
   "source": [
    "%%time\n",
    "gbm_all = lgb.train(params,\n",
    "                lgb_train,\n",
    "                num_boost_round = 3000,\n",
    "                valid_sets =[ lgb_train,lgb_evals],\n",
    "                valid_names = ['train','valid'],\n",
    "                early_stopping_rounds = 100,\n",
    "                verbose_eval = 200\n",
    "                )"
   ]
  },
  {
   "cell_type": "code",
   "execution_count": 253,
   "metadata": {},
   "outputs": [],
   "source": [
    "feature_importance = sorted([(x,y) for x, y in zip(gbm_all.feature_name(), gbm_all.feature_importance())],\n",
    "                            key = lambda x: x[1], reverse=True)\n",
    "top_features = [x for x, y in feature_importance][:50]"
   ]
  },
  {
   "cell_type": "code",
   "execution_count": 254,
   "metadata": {},
   "outputs": [
    {
     "data": {
      "text/plain": [
       "<matplotlib.axes._subplots.AxesSubplot at 0x191a3c6a0>"
      ]
     },
     "execution_count": 254,
     "metadata": {},
     "output_type": "execute_result"
    },
    {
     "data": {
      "image/png": "[encoded data removed]",
      "text/plain": [
       "<Figure size 1080x576 with 1 Axes>"
      ]
     },
     "metadata": {
      "needs_background": "light"
     },
     "output_type": "display_data"
    }
   ],
   "source": [
    "lgb.plot_importance(gbm_all, figsize=(15,8), max_num_features = 30)"
   ]
  },
  {
   "cell_type": "markdown",
   "metadata": {},
   "source": [
    "**Generate predictions**"
   ]
  },
  {
   "cell_type": "code",
   "execution_count": 255,
   "metadata": {},
   "outputs": [],
   "source": [
    "def get_best_mode_dt(gp):\n",
    "    result = [(x, y) for x, y in zip(gp['transport_mode'], gp['pred_prob'])]\n",
    "    result.sort(key = lambda x: x[1], reverse = True)\n",
    "    return result[0][0]"
   ]
  },
  {
   "cell_type": "code",
   "execution_count": 256,
   "metadata": {},
   "outputs": [],
   "source": [
    "def get_predictions_lgb(df, gbm, features):\n",
    "    pred = gbm.predict(df[features])\n",
    "    df['pred_prob'] = pred\n",
    "    output = pd.DataFrame(df.groupby('sid').apply(get_best_mode_dt)).reset_index()\n",
    "    output.columns = ['sid', 'recommend_mode']\n",
    "    return df, output "
   ]
  },
  {
   "cell_type": "markdown",
   "metadata": {},
   "source": [
    "## Apply to validation set"
   ]
  },
  {
   "cell_type": "code",
   "execution_count": 257,
   "metadata": {},
   "outputs": [],
   "source": [
    "X_eval, output = get_predictions_lgb(X_eval, gbm_all, features)"
   ]
  },
  {
   "cell_type": "code",
   "execution_count": 258,
   "metadata": {},
   "outputs": [
    {
     "data": {
      "text/plain": [
       "<matplotlib.axes._subplots.AxesSubplot at 0x193179080>"
      ]
     },
     "execution_count": 258,
     "metadata": {},
     "output_type": "execute_result"
    },
    {
     "data": {
      "image/png": "[encoded data removed]",
      "text/plain": [
       "<Figure size 432x288 with 1 Axes>"
      ]
     },
     "metadata": {
      "needs_background": "light"
     },
     "output_type": "display_data"
    }
   ],
   "source": [
    "sns.countplot(output['recommend_mode'], color = 'blue')"
   ]
  },
  {
   "cell_type": "code",
   "execution_count": 259,
   "metadata": {},
   "outputs": [],
   "source": [
    "eval_true = X_eval[X_eval['label'] == 1][['sid','transport_mode']]\n",
    "eval_true.columns = ['sid','true']\n",
    "output.columns = ['sid', 'pred']\n",
    "eval_sum = eval_true.merge(output, on = 'sid')\\"
   ]
  },
  {
   "cell_type": "code",
   "execution_count": 260,
   "metadata": {},
   "outputs": [],
   "source": [
    "weight_f1 = f1_score(eval_sum['true'], eval_sum['pred'], average = 'weighted')"
   ]
  },
  {
   "cell_type": "code",
   "execution_count": 261,
   "metadata": {
    "scrolled": true
   },
   "outputs": [
    {
     "data": {
      "text/plain": [
       "0.7519845238289612"
      ]
     },
     "execution_count": 261,
     "metadata": {},
     "output_type": "execute_result"
    }
   ],
   "source": [
    "weight_f1 #0.745, 0.747, 0.748"
   ]
  },
  {
   "cell_type": "code",
   "execution_count": 262,
   "metadata": {},
   "outputs": [
    {
     "data": {
      "text/plain": [
       "<matplotlib.axes._subplots.AxesSubplot at 0x193147550>"
      ]
     },
     "execution_count": 262,
     "metadata": {},
     "output_type": "execute_result"
    },
    {
     "data": {
      "image/png": "[encoded data removed]",
      "text/plain": [
       "<Figure size 432x432 with 2 Axes>"
      ]
     },
     "metadata": {
      "needs_background": "light"
     },
     "output_type": "display_data"
    }
   ],
   "source": [
    "plot_confusion_matrix_(eval_sum['true'], eval_sum['pred'], classes=list(range(1,12)))"
   ]
  },
  {
   "cell_type": "markdown",
   "metadata": {},
   "source": [
    "## Apply to test set"
   ]
  },
  {
   "cell_type": "code",
   "execution_count": 263,
   "metadata": {},
   "outputs": [
    {
     "name": "stdout",
     "output_type": "stream",
     "text": [
      "CPU times: user 49.6 s, sys: 671 ms, total: 50.3 s\n",
      "Wall time: 12.1 s\n"
     ]
    }
   ],
   "source": [
    "%%time\n",
    "test_, output = get_predictions_lgb(test_, gbm_all, features)"
   ]
  },
  {
   "cell_type": "markdown",
   "metadata": {},
   "source": [
    "**Fill no-plan sessions with zeros**"
   ]
  },
  {
   "cell_type": "code",
   "execution_count": 264,
   "metadata": {},
   "outputs": [],
   "source": [
    "set_1 = set(test_queries['sid'])\n",
    "set_2 = set(test_['sid'])\n",
    "no_click_sids = [x for x in set_1 if x not in set_2]\n",
    "temp = pd.DataFrame({'sid': no_click_sids, 'recommend_mode':0})\n",
    "output = pd.concat([output, temp], axis = 0, ignore_index=True)"
   ]
  },
  {
   "cell_type": "code",
   "execution_count": 265,
   "metadata": {},
   "outputs": [
    {
     "data": {
      "text/plain": [
       "<matplotlib.axes._subplots.AxesSubplot at 0x19506d3c8>"
      ]
     },
     "execution_count": 265,
     "metadata": {},
     "output_type": "execute_result"
    },
    {
     "data": {
      "image/png": "[encoded data removed]",
      "text/plain": [
       "<Figure size 432x288 with 1 Axes>"
      ]
     },
     "metadata": {
      "needs_background": "light"
     },
     "output_type": "display_data"
    }
   ],
   "source": [
    "sns.countplot(output['recommend_mode'], color = 'blue')"
   ]
  },
  {
   "cell_type": "markdown",
   "metadata": {},
   "source": [
    "**Export csv**"
   ]
  },
  {
   "cell_type": "code",
   "execution_count": 268,
   "metadata": {},
   "outputs": [],
   "source": [
    "time_ = str(datetime.datetime.now())\n",
    "mkdir('./submission/' + time_)"
   ]
  },
  {
   "cell_type": "code",
   "execution_count": 269,
   "metadata": {},
   "outputs": [],
   "source": [
    "output['sid'] = output['sid'].astype(str)\n",
    "output['recommend_mode'] = output['recommend_mode'].astype(str)\n",
    "output.to_csv('./submission/' + time_ + '/submission.csv', index = False, quoting = csv.QUOTE_NONNUMERIC)"
   ]
  }
 ],
 "metadata": {
  "kernelspec": {
   "display_name": "Python 3",
   "language": "python",
   "name": "python3"
  },
  "language_info": {
   "codemirror_mode": {
    "name": "ipython",
    "version": 3
   },
   "file_extension": ".py",
   "mimetype": "text/x-python",
   "name": "python",
   "nbconvert_exporter": "python",
   "pygments_lexer": "ipython3",
   "version": "3.7.2"
  },
  "toc": {
   "base_numbering": 1,
   "nav_menu": {
    "height": "12px",
    "width": "164px"
   },
   "number_sections": true,
   "sideBar": true,
   "skip_h1_title": false,
   "title_cell": "Table of Contents",
   "title_sidebar": "Contents",
   "toc_cell": false,
   "toc_position": {
    "height": "calc(100% - 180px)",
    "left": "10px",
    "top": "150px",
    "width": "165px"
   },
   "toc_section_display": true,
   "toc_window_display": true
  }
 },
 "nbformat": 4,
 "nbformat_minor": 2
}
