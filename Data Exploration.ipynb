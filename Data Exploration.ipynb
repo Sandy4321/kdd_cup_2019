{
 "cells": [
  {
   "cell_type": "markdown",
   "metadata": {},
   "source": [
    "# Load Data"
   ]
  },
  {
   "cell_type": "code",
   "execution_count": 28,
   "metadata": {},
   "outputs": [
    {
     "name": "stdout",
     "output_type": "stream",
     "text": [
      "The autoreload extension is already loaded. To reload it, use:\n",
      "  %reload_ext autoreload\n"
     ]
    }
   ],
   "source": [
    "import numpy as np\n",
    "import csv\n",
    "import io\n",
    "from os import mkdir\n",
    "import json\n",
    "import datetime\n",
    "import pandas as pd \n",
    "import pickle\n",
    "import seaborn as sns\n",
    "from sklearn.model_selection import train_test_split\n",
    "from sklearn.metrics import f1_score, confusion_matrix\n",
    "from sklearn import preprocessing\n",
    "import lightgbm as lgb\n",
    "import matplotlib.pyplot as plt\n",
    "from math import radians, sin, asin, sqrt, atan2\n",
    "from util.plot_funcs import *\n",
    "from random import uniform\n",
    "from imblearn.over_sampling import RandomOverSampler\n",
    "%load_ext autoreload\n",
    "%autoreload 2\n",
    "import warnings\n",
    "pd.set_option('display.max_columns', 500)\n",
    "pd.set_option('display.max_rows', 500)\n",
    "warnings.filterwarnings('ignore')"
   ]
  },
  {
   "cell_type": "code",
   "execution_count": 52,
   "metadata": {},
   "outputs": [],
   "source": [
    "train_queries = pd.read_csv('./data_set_phase1/train_queries.csv')\n",
    "train_plans = pd.read_csv('./data_set_phase1/train_plans.csv')\n",
    "train_clicks = pd.read_csv('./data_set_phase1/train_clicks.csv')\n",
    "test_queries = pd.read_csv('./data_set_phase1/test_queries.csv')\n",
    "test_plans = pd.read_csv('./data_set_phase1/test_plans.csv')\n",
    "profiles = pd.read_csv('./data_set_phase1/profiles.csv')\n",
    "weather = json.load(open('./data_set_phase1/weather.json'))"
   ]
  },
  {
   "cell_type": "code",
   "execution_count": 3,
   "metadata": {},
   "outputs": [
    {
     "data": {
      "text/html": [
       "<div>\n",
       "<style scoped>\n",
       "    .dataframe tbody tr th:only-of-type {\n",
       "        vertical-align: middle;\n",
       "    }\n",
       "\n",
       "    .dataframe tbody tr th {\n",
       "        vertical-align: top;\n",
       "    }\n",
       "\n",
       "    .dataframe thead th {\n",
       "        text-align: right;\n",
       "    }\n",
       "</style>\n",
       "<table border=\"1\" class=\"dataframe\">\n",
       "  <thead>\n",
       "    <tr style=\"text-align: right;\">\n",
       "      <th></th>\n",
       "      <th>sid</th>\n",
       "      <th>click_time</th>\n",
       "      <th>click_mode</th>\n",
       "    </tr>\n",
       "  </thead>\n",
       "  <tbody>\n",
       "    <tr>\n",
       "      <th>0</th>\n",
       "      <td>2848914</td>\n",
       "      <td>2018-11-17 18:42:17</td>\n",
       "      <td>1</td>\n",
       "    </tr>\n",
       "    <tr>\n",
       "      <th>1</th>\n",
       "      <td>2629085</td>\n",
       "      <td>2018-10-12 16:28:13</td>\n",
       "      <td>3</td>\n",
       "    </tr>\n",
       "    <tr>\n",
       "      <th>2</th>\n",
       "      <td>602598</td>\n",
       "      <td>2018-11-11 16:38:42</td>\n",
       "      <td>2</td>\n",
       "    </tr>\n",
       "  </tbody>\n",
       "</table>\n",
       "</div>"
      ],
      "text/plain": [
       "       sid           click_time  click_mode\n",
       "0  2848914  2018-11-17 18:42:17           1\n",
       "1  2629085  2018-10-12 16:28:13           3\n",
       "2   602598  2018-11-11 16:38:42           2"
      ]
     },
     "execution_count": 3,
     "metadata": {},
     "output_type": "execute_result"
    }
   ],
   "source": [
    "train_clicks.head(3)"
   ]
  },
  {
   "cell_type": "code",
   "execution_count": 4,
   "metadata": {},
   "outputs": [
    {
     "data": {
      "text/html": [
       "<div>\n",
       "<style scoped>\n",
       "    .dataframe tbody tr th:only-of-type {\n",
       "        vertical-align: middle;\n",
       "    }\n",
       "\n",
       "    .dataframe tbody tr th {\n",
       "        vertical-align: top;\n",
       "    }\n",
       "\n",
       "    .dataframe thead th {\n",
       "        text-align: right;\n",
       "    }\n",
       "</style>\n",
       "<table border=\"1\" class=\"dataframe\">\n",
       "  <thead>\n",
       "    <tr style=\"text-align: right;\">\n",
       "      <th></th>\n",
       "      <th>pid</th>\n",
       "      <th>p0</th>\n",
       "      <th>p1</th>\n",
       "      <th>p2</th>\n",
       "      <th>p3</th>\n",
       "      <th>p4</th>\n",
       "      <th>p5</th>\n",
       "      <th>p6</th>\n",
       "      <th>p7</th>\n",
       "      <th>p8</th>\n",
       "      <th>p9</th>\n",
       "      <th>p10</th>\n",
       "      <th>p11</th>\n",
       "      <th>p12</th>\n",
       "      <th>p13</th>\n",
       "      <th>p14</th>\n",
       "      <th>p15</th>\n",
       "      <th>p16</th>\n",
       "      <th>p17</th>\n",
       "      <th>p18</th>\n",
       "      <th>p19</th>\n",
       "      <th>p20</th>\n",
       "      <th>p21</th>\n",
       "      <th>p22</th>\n",
       "      <th>p23</th>\n",
       "      <th>p24</th>\n",
       "      <th>p25</th>\n",
       "      <th>p26</th>\n",
       "      <th>p27</th>\n",
       "      <th>p28</th>\n",
       "      <th>p29</th>\n",
       "      <th>p30</th>\n",
       "      <th>p31</th>\n",
       "      <th>p32</th>\n",
       "      <th>p33</th>\n",
       "      <th>p34</th>\n",
       "      <th>p35</th>\n",
       "      <th>p36</th>\n",
       "      <th>p37</th>\n",
       "      <th>p38</th>\n",
       "      <th>p39</th>\n",
       "      <th>p40</th>\n",
       "      <th>p41</th>\n",
       "      <th>p42</th>\n",
       "      <th>p43</th>\n",
       "      <th>p44</th>\n",
       "      <th>p45</th>\n",
       "      <th>p46</th>\n",
       "      <th>p47</th>\n",
       "      <th>p48</th>\n",
       "      <th>p49</th>\n",
       "      <th>p50</th>\n",
       "      <th>p51</th>\n",
       "      <th>p52</th>\n",
       "      <th>p53</th>\n",
       "      <th>p54</th>\n",
       "      <th>p55</th>\n",
       "      <th>p56</th>\n",
       "      <th>p57</th>\n",
       "      <th>p58</th>\n",
       "      <th>p59</th>\n",
       "      <th>p60</th>\n",
       "      <th>p61</th>\n",
       "      <th>p62</th>\n",
       "      <th>p63</th>\n",
       "      <th>p64</th>\n",
       "      <th>p65</th>\n",
       "    </tr>\n",
       "  </thead>\n",
       "  <tbody>\n",
       "    <tr>\n",
       "      <th>0</th>\n",
       "      <td>196356</td>\n",
       "      <td>1.0</td>\n",
       "      <td>0.0</td>\n",
       "      <td>0.0</td>\n",
       "      <td>0.0</td>\n",
       "      <td>0.0</td>\n",
       "      <td>0.0</td>\n",
       "      <td>0.0</td>\n",
       "      <td>0.0</td>\n",
       "      <td>1.0</td>\n",
       "      <td>0.0</td>\n",
       "      <td>0.0</td>\n",
       "      <td>0.0</td>\n",
       "      <td>0.0</td>\n",
       "      <td>0.0</td>\n",
       "      <td>0.0</td>\n",
       "      <td>0.0</td>\n",
       "      <td>0.0</td>\n",
       "      <td>0.0</td>\n",
       "      <td>0.0</td>\n",
       "      <td>0.0</td>\n",
       "      <td>0.0</td>\n",
       "      <td>0.0</td>\n",
       "      <td>0.0</td>\n",
       "      <td>0.0</td>\n",
       "      <td>0.0</td>\n",
       "      <td>0.0</td>\n",
       "      <td>0.0</td>\n",
       "      <td>0.0</td>\n",
       "      <td>1.0</td>\n",
       "      <td>0.0</td>\n",
       "      <td>1.0</td>\n",
       "      <td>0.0</td>\n",
       "      <td>0.0</td>\n",
       "      <td>1.0</td>\n",
       "      <td>0.0</td>\n",
       "      <td>0.0</td>\n",
       "      <td>0.0</td>\n",
       "      <td>1.0</td>\n",
       "      <td>0.0</td>\n",
       "      <td>0.0</td>\n",
       "      <td>0.0</td>\n",
       "      <td>0.0</td>\n",
       "      <td>0.0</td>\n",
       "      <td>0.0</td>\n",
       "      <td>0.0</td>\n",
       "      <td>0.0</td>\n",
       "      <td>0.0</td>\n",
       "      <td>0.0</td>\n",
       "      <td>1.0</td>\n",
       "      <td>0.0</td>\n",
       "      <td>0.0</td>\n",
       "      <td>0.0</td>\n",
       "      <td>0.0</td>\n",
       "      <td>0.0</td>\n",
       "      <td>0.0</td>\n",
       "      <td>0.0</td>\n",
       "      <td>0.0</td>\n",
       "      <td>0.0</td>\n",
       "      <td>0.0</td>\n",
       "      <td>0.0</td>\n",
       "      <td>0.0</td>\n",
       "      <td>0.0</td>\n",
       "      <td>0.0</td>\n",
       "      <td>0.0</td>\n",
       "      <td>0.0</td>\n",
       "      <td>0.0</td>\n",
       "    </tr>\n",
       "    <tr>\n",
       "      <th>1</th>\n",
       "      <td>204083</td>\n",
       "      <td>1.0</td>\n",
       "      <td>0.0</td>\n",
       "      <td>0.0</td>\n",
       "      <td>0.0</td>\n",
       "      <td>0.0</td>\n",
       "      <td>0.0</td>\n",
       "      <td>0.0</td>\n",
       "      <td>1.0</td>\n",
       "      <td>0.0</td>\n",
       "      <td>0.0</td>\n",
       "      <td>0.0</td>\n",
       "      <td>0.0</td>\n",
       "      <td>0.0</td>\n",
       "      <td>0.0</td>\n",
       "      <td>0.0</td>\n",
       "      <td>0.0</td>\n",
       "      <td>0.0</td>\n",
       "      <td>0.0</td>\n",
       "      <td>0.0</td>\n",
       "      <td>0.0</td>\n",
       "      <td>0.0</td>\n",
       "      <td>0.0</td>\n",
       "      <td>0.0</td>\n",
       "      <td>0.0</td>\n",
       "      <td>0.0</td>\n",
       "      <td>0.0</td>\n",
       "      <td>1.0</td>\n",
       "      <td>0.0</td>\n",
       "      <td>0.0</td>\n",
       "      <td>0.0</td>\n",
       "      <td>1.0</td>\n",
       "      <td>0.0</td>\n",
       "      <td>0.0</td>\n",
       "      <td>1.0</td>\n",
       "      <td>0.0</td>\n",
       "      <td>0.0</td>\n",
       "      <td>1.0</td>\n",
       "      <td>0.0</td>\n",
       "      <td>0.0</td>\n",
       "      <td>0.0</td>\n",
       "      <td>0.0</td>\n",
       "      <td>0.0</td>\n",
       "      <td>0.0</td>\n",
       "      <td>0.0</td>\n",
       "      <td>0.0</td>\n",
       "      <td>0.0</td>\n",
       "      <td>0.0</td>\n",
       "      <td>0.0</td>\n",
       "      <td>0.0</td>\n",
       "      <td>0.0</td>\n",
       "      <td>0.0</td>\n",
       "      <td>0.0</td>\n",
       "      <td>0.0</td>\n",
       "      <td>0.0</td>\n",
       "      <td>0.0</td>\n",
       "      <td>0.0</td>\n",
       "      <td>0.0</td>\n",
       "      <td>0.0</td>\n",
       "      <td>0.0</td>\n",
       "      <td>1.0</td>\n",
       "      <td>0.0</td>\n",
       "      <td>0.0</td>\n",
       "      <td>0.0</td>\n",
       "      <td>1.0</td>\n",
       "      <td>0.0</td>\n",
       "      <td>0.0</td>\n",
       "    </tr>\n",
       "    <tr>\n",
       "      <th>2</th>\n",
       "      <td>170667</td>\n",
       "      <td>0.0</td>\n",
       "      <td>0.0</td>\n",
       "      <td>1.0</td>\n",
       "      <td>0.0</td>\n",
       "      <td>0.0</td>\n",
       "      <td>0.0</td>\n",
       "      <td>0.0</td>\n",
       "      <td>1.0</td>\n",
       "      <td>0.0</td>\n",
       "      <td>0.0</td>\n",
       "      <td>0.0</td>\n",
       "      <td>0.0</td>\n",
       "      <td>0.0</td>\n",
       "      <td>0.0</td>\n",
       "      <td>0.0</td>\n",
       "      <td>0.0</td>\n",
       "      <td>0.0</td>\n",
       "      <td>0.0</td>\n",
       "      <td>0.0</td>\n",
       "      <td>0.0</td>\n",
       "      <td>0.0</td>\n",
       "      <td>0.0</td>\n",
       "      <td>0.0</td>\n",
       "      <td>0.0</td>\n",
       "      <td>0.0</td>\n",
       "      <td>0.0</td>\n",
       "      <td>1.0</td>\n",
       "      <td>0.0</td>\n",
       "      <td>0.0</td>\n",
       "      <td>0.0</td>\n",
       "      <td>1.0</td>\n",
       "      <td>0.0</td>\n",
       "      <td>1.0</td>\n",
       "      <td>0.0</td>\n",
       "      <td>0.0</td>\n",
       "      <td>1.0</td>\n",
       "      <td>0.0</td>\n",
       "      <td>0.0</td>\n",
       "      <td>0.0</td>\n",
       "      <td>0.0</td>\n",
       "      <td>0.0</td>\n",
       "      <td>0.0</td>\n",
       "      <td>1.0</td>\n",
       "      <td>0.0</td>\n",
       "      <td>0.0</td>\n",
       "      <td>0.0</td>\n",
       "      <td>0.0</td>\n",
       "      <td>0.0</td>\n",
       "      <td>0.0</td>\n",
       "      <td>0.0</td>\n",
       "      <td>0.0</td>\n",
       "      <td>0.0</td>\n",
       "      <td>0.0</td>\n",
       "      <td>0.0</td>\n",
       "      <td>0.0</td>\n",
       "      <td>0.0</td>\n",
       "      <td>0.0</td>\n",
       "      <td>0.0</td>\n",
       "      <td>0.0</td>\n",
       "      <td>0.0</td>\n",
       "      <td>0.0</td>\n",
       "      <td>0.0</td>\n",
       "      <td>1.0</td>\n",
       "      <td>0.0</td>\n",
       "      <td>0.0</td>\n",
       "      <td>0.0</td>\n",
       "    </tr>\n",
       "  </tbody>\n",
       "</table>\n",
       "</div>"
      ],
      "text/plain": [
       "      pid   p0   p1   p2   p3   p4   p5   p6   p7   p8   p9  p10  p11  p12  \\\n",
       "0  196356  1.0  0.0  0.0  0.0  0.0  0.0  0.0  0.0  1.0  0.0  0.0  0.0  0.0   \n",
       "1  204083  1.0  0.0  0.0  0.0  0.0  0.0  0.0  1.0  0.0  0.0  0.0  0.0  0.0   \n",
       "2  170667  0.0  0.0  1.0  0.0  0.0  0.0  0.0  1.0  0.0  0.0  0.0  0.0  0.0   \n",
       "\n",
       "   p13  p14  p15  p16  p17  p18  p19  p20  p21  p22  p23  p24  p25  p26  p27  \\\n",
       "0  0.0  0.0  0.0  0.0  0.0  0.0  0.0  0.0  0.0  0.0  0.0  0.0  0.0  0.0  0.0   \n",
       "1  0.0  0.0  0.0  0.0  0.0  0.0  0.0  0.0  0.0  0.0  0.0  0.0  0.0  1.0  0.0   \n",
       "2  0.0  0.0  0.0  0.0  0.0  0.0  0.0  0.0  0.0  0.0  0.0  0.0  0.0  1.0  0.0   \n",
       "\n",
       "   p28  p29  p30  p31  p32  p33  p34  p35  p36  p37  p38  p39  p40  p41  p42  \\\n",
       "0  1.0  0.0  1.0  0.0  0.0  1.0  0.0  0.0  0.0  1.0  0.0  0.0  0.0  0.0  0.0   \n",
       "1  0.0  0.0  1.0  0.0  0.0  1.0  0.0  0.0  1.0  0.0  0.0  0.0  0.0  0.0  0.0   \n",
       "2  0.0  0.0  1.0  0.0  1.0  0.0  0.0  1.0  0.0  0.0  0.0  0.0  0.0  0.0  1.0   \n",
       "\n",
       "   p43  p44  p45  p46  p47  p48  p49  p50  p51  p52  p53  p54  p55  p56  p57  \\\n",
       "0  0.0  0.0  0.0  0.0  0.0  1.0  0.0  0.0  0.0  0.0  0.0  0.0  0.0  0.0  0.0   \n",
       "1  0.0  0.0  0.0  0.0  0.0  0.0  0.0  0.0  0.0  0.0  0.0  0.0  0.0  0.0  0.0   \n",
       "2  0.0  0.0  0.0  0.0  0.0  0.0  0.0  0.0  0.0  0.0  0.0  0.0  0.0  0.0  0.0   \n",
       "\n",
       "   p58  p59  p60  p61  p62  p63  p64  p65  \n",
       "0  0.0  0.0  0.0  0.0  0.0  0.0  0.0  0.0  \n",
       "1  0.0  1.0  0.0  0.0  0.0  1.0  0.0  0.0  \n",
       "2  0.0  0.0  0.0  0.0  1.0  0.0  0.0  0.0  "
      ]
     },
     "execution_count": 4,
     "metadata": {},
     "output_type": "execute_result"
    }
   ],
   "source": [
    "profiles.head(3)"
   ]
  },
  {
   "cell_type": "code",
   "execution_count": 5,
   "metadata": {},
   "outputs": [
    {
     "data": {
      "text/html": [
       "<div>\n",
       "<style scoped>\n",
       "    .dataframe tbody tr th:only-of-type {\n",
       "        vertical-align: middle;\n",
       "    }\n",
       "\n",
       "    .dataframe tbody tr th {\n",
       "        vertical-align: top;\n",
       "    }\n",
       "\n",
       "    .dataframe thead th {\n",
       "        text-align: right;\n",
       "    }\n",
       "</style>\n",
       "<table border=\"1\" class=\"dataframe\">\n",
       "  <thead>\n",
       "    <tr style=\"text-align: right;\">\n",
       "      <th></th>\n",
       "      <th>sid</th>\n",
       "      <th>pid</th>\n",
       "      <th>req_time</th>\n",
       "      <th>o</th>\n",
       "      <th>d</th>\n",
       "    </tr>\n",
       "  </thead>\n",
       "  <tbody>\n",
       "    <tr>\n",
       "      <th>0</th>\n",
       "      <td>3000821</td>\n",
       "      <td>NaN</td>\n",
       "      <td>2018-11-02 17:54:30</td>\n",
       "      <td>116.29,39.97</td>\n",
       "      <td>116.32,39.96</td>\n",
       "    </tr>\n",
       "    <tr>\n",
       "      <th>1</th>\n",
       "      <td>3085857</td>\n",
       "      <td>210736.0</td>\n",
       "      <td>2018-11-16 10:53:10</td>\n",
       "      <td>116.39,39.84</td>\n",
       "      <td>116.33,39.79</td>\n",
       "    </tr>\n",
       "    <tr>\n",
       "      <th>2</th>\n",
       "      <td>2944522</td>\n",
       "      <td>NaN</td>\n",
       "      <td>2018-10-06 10:33:58</td>\n",
       "      <td>116.31,39.93</td>\n",
       "      <td>116.27,40.00</td>\n",
       "    </tr>\n",
       "  </tbody>\n",
       "</table>\n",
       "</div>"
      ],
      "text/plain": [
       "       sid       pid             req_time             o             d\n",
       "0  3000821       NaN  2018-11-02 17:54:30  116.29,39.97  116.32,39.96\n",
       "1  3085857  210736.0  2018-11-16 10:53:10  116.39,39.84  116.33,39.79\n",
       "2  2944522       NaN  2018-10-06 10:33:58  116.31,39.93  116.27,40.00"
      ]
     },
     "execution_count": 5,
     "metadata": {},
     "output_type": "execute_result"
    }
   ],
   "source": [
    "train_queries.head(3)"
   ]
  },
  {
   "cell_type": "code",
   "execution_count": 6,
   "metadata": {},
   "outputs": [
    {
     "data": {
      "text/html": [
       "<div>\n",
       "<style scoped>\n",
       "    .dataframe tbody tr th:only-of-type {\n",
       "        vertical-align: middle;\n",
       "    }\n",
       "\n",
       "    .dataframe tbody tr th {\n",
       "        vertical-align: top;\n",
       "    }\n",
       "\n",
       "    .dataframe thead th {\n",
       "        text-align: right;\n",
       "    }\n",
       "</style>\n",
       "<table border=\"1\" class=\"dataframe\">\n",
       "  <thead>\n",
       "    <tr style=\"text-align: right;\">\n",
       "      <th></th>\n",
       "      <th>sid</th>\n",
       "      <th>plan_time</th>\n",
       "      <th>plans</th>\n",
       "    </tr>\n",
       "  </thead>\n",
       "  <tbody>\n",
       "    <tr>\n",
       "      <th>0</th>\n",
       "      <td>1709112</td>\n",
       "      <td>2018-11-04 11:45:04</td>\n",
       "      <td>[{\"distance\": 32303, \"price\": 600, \"eta\": 5087...</td>\n",
       "    </tr>\n",
       "    <tr>\n",
       "      <th>1</th>\n",
       "      <td>3327773</td>\n",
       "      <td>2018-10-16 19:09:29</td>\n",
       "      <td>[{\"distance\": 3427, \"price\": 300, \"eta\": 627, ...</td>\n",
       "    </tr>\n",
       "    <tr>\n",
       "      <th>2</th>\n",
       "      <td>3285959</td>\n",
       "      <td>2018-11-25 15:05:22</td>\n",
       "      <td>[{\"distance\": 36234, \"price\": 1100, \"eta\": 931...</td>\n",
       "    </tr>\n",
       "  </tbody>\n",
       "</table>\n",
       "</div>"
      ],
      "text/plain": [
       "       sid            plan_time  \\\n",
       "0  1709112  2018-11-04 11:45:04   \n",
       "1  3327773  2018-10-16 19:09:29   \n",
       "2  3285959  2018-11-25 15:05:22   \n",
       "\n",
       "                                               plans  \n",
       "0  [{\"distance\": 32303, \"price\": 600, \"eta\": 5087...  \n",
       "1  [{\"distance\": 3427, \"price\": 300, \"eta\": 627, ...  \n",
       "2  [{\"distance\": 36234, \"price\": 1100, \"eta\": 931...  "
      ]
     },
     "execution_count": 6,
     "metadata": {},
     "output_type": "execute_result"
    }
   ],
   "source": [
    "train_plans.head(3)"
   ]
  },
  {
   "cell_type": "code",
   "execution_count": 7,
   "metadata": {},
   "outputs": [],
   "source": [
    "with open('./data_set_phase1/weather.json', 'r') as f:\n",
    "    weather_dict = json.load(f)"
   ]
  },
  {
   "cell_type": "markdown",
   "metadata": {},
   "source": [
    "# Pre-processing"
   ]
  },
  {
   "cell_type": "code",
   "execution_count": 8,
   "metadata": {},
   "outputs": [],
   "source": [
    "def pre_process_queries(X):\n",
    "    X['pid'] = X['pid'].fillna(0)\n",
    "    X['req_time'] = pd.to_datetime(X['req_time'])\n",
    "    X['dow'] = X['req_time'].apply(lambda x: x.weekday())\n",
    "    X['hr'] = X['req_time'].apply(lambda x: x.hour)\n",
    "    X['O_lon'] = X['o'].apply(lambda x: float(x.split(',')[0]))\n",
    "    X['O_lat'] = X['o'].apply(lambda x: float(x.split(',')[1]))\n",
    "    X['D_lon'] = X['d'].apply(lambda x: float(x.split(',')[0]))\n",
    "    X['D_lat'] = X['d'].apply(lambda x: float(x.split(',')[1]))\n",
    "    \n",
    "    X['date'] =  X['req_time'].apply(lambda x:x.date())\n",
    "    #X = X.merge(weather, on = 'date')\n",
    "    \n",
    "    del X['o']\n",
    "    del X['d']\n",
    "    del X['req_time']\n",
    "    \n",
    "    return X"
   ]
  },
  {
   "cell_type": "code",
   "execution_count": 9,
   "metadata": {},
   "outputs": [
    {
     "name": "stdout",
     "output_type": "stream",
     "text": [
      "CPU times: user 5.09 s, sys: 105 ms, total: 5.19 s\n",
      "Wall time: 5.19 s\n"
     ]
    }
   ],
   "source": [
    "%%time\n",
    "train_queries = pre_process_queries(train_queries)\n",
    "test_queries = pre_process_queries(test_queries)"
   ]
  },
  {
   "cell_type": "code",
   "execution_count": 10,
   "metadata": {},
   "outputs": [],
   "source": [
    "def pre_process_plan(X):\n",
    "    try:\n",
    "        X['plans'] = X['plans'].apply(lambda x: eval(x))\n",
    "    except:\n",
    "        pass\n",
    "    \n",
    "    outputs = []\n",
    "    for _, row in X.iterrows():\n",
    "        sid = row['sid']\n",
    "        rank = 0\n",
    "        for plan in row['plans']:\n",
    "            outputs.append([sid, \n",
    "                            plan['distance'], \n",
    "                            plan['price'], \n",
    "                            plan['eta'], \n",
    "                            plan['transport_mode'],\n",
    "                            rank])\n",
    "            rank += 1\n",
    "    \n",
    "    output = pd.DataFrame(outputs, columns = ['sid','distance', 'price', 'eta','transport_mode', 'rank'])  \n",
    "    output['price'] = output['price'].replace('',-1)\n",
    "    output['distance'] = output['distance'].replace('',-1)\n",
    "    output['eta'] = output['eta'].replace('',-1)\n",
    "    return output"
   ]
  },
  {
   "cell_type": "code",
   "execution_count": 11,
   "metadata": {},
   "outputs": [
    {
     "name": "stdout",
     "output_type": "stream",
     "text": [
      "CPU times: user 1min 29s, sys: 912 ms, total: 1min 30s\n",
      "Wall time: 1min 30s\n"
     ]
    }
   ],
   "source": [
    "%%time\n",
    "train_plans_ = pre_process_plan(train_plans)\n",
    "test_plans_  = pre_process_plan(test_plans)"
   ]
  },
  {
   "cell_type": "code",
   "execution_count": 12,
   "metadata": {},
   "outputs": [],
   "source": [
    "train_plans_.drop_duplicates(subset = ['sid','transport_mode'], inplace=True)\n",
    "test_plans_.drop_duplicates(subset = ['sid','transport_mode'], inplace=True)"
   ]
  },
  {
   "cell_type": "code",
   "execution_count": 13,
   "metadata": {},
   "outputs": [
    {
     "name": "stdout",
     "output_type": "stream",
     "text": [
      "CPU times: user 30.3 s, sys: 315 ms, total: 30.6 s\n",
      "Wall time: 30.6 s\n"
     ]
    }
   ],
   "source": [
    "%%time\n",
    "profiles['profile'] = profiles.apply(lambda row: [x + 1 for x in range(66) if row['p'+str(x)] == 1], axis = 1)\n",
    "profiles = profiles.append({'pid': 0 , 'profile' : []} , ignore_index=True).fillna(0)"
   ]
  },
  {
   "cell_type": "code",
   "execution_count": 14,
   "metadata": {},
   "outputs": [],
   "source": [
    "train_clicks = train_clicks[['sid','click_mode']]\n",
    "train_clicks['label'] = 1"
   ]
  },
  {
   "cell_type": "markdown",
   "metadata": {},
   "source": [
    "# Merge"
   ]
  },
  {
   "cell_type": "code",
   "execution_count": 15,
   "metadata": {},
   "outputs": [],
   "source": [
    "train = train_plans_.merge(train_queries, on ='sid')\\\n",
    "            .merge(profiles, on = 'pid')\\\n",
    "            .merge(train_clicks[['sid']], on = 'sid')\\\n",
    "            .merge(train_clicks, left_on = ['sid', 'transport_mode'], \n",
    "                   right_on = ['sid', 'click_mode'], how = 'left')\n",
    "del train['click_mode']\n",
    "train['label'] = train['label'].fillna(0)"
   ]
  },
  {
   "cell_type": "code",
   "execution_count": 16,
   "metadata": {},
   "outputs": [],
   "source": [
    "test = test_plans_.merge(test_queries, on ='sid').merge(profiles, on = 'pid')"
   ]
  },
  {
   "cell_type": "markdown",
   "metadata": {},
   "source": [
    "# Exploration"
   ]
  },
  {
   "cell_type": "code",
   "execution_count": 17,
   "metadata": {},
   "outputs": [],
   "source": [
    "def add_num_plans(df):\n",
    "    num_plans = df.groupby(['sid'], as_index = False)['rank'].agg({'num_plans':lambda x: max(x) + 1})\n",
    "    df = df.merge(num_plans, how = 'left', on = 'sid')\n",
    "    return df"
   ]
  },
  {
   "cell_type": "code",
   "execution_count": 18,
   "metadata": {},
   "outputs": [
    {
     "name": "stdout",
     "output_type": "stream",
     "text": [
      "CPU times: user 10.9 s, sys: 3.01 s, total: 13.9 s\n",
      "Wall time: 13.9 s\n"
     ]
    }
   ],
   "source": [
    "%%time\n",
    "train = add_num_plans(train)\n",
    "test = add_num_plans(test)"
   ]
  },
  {
   "cell_type": "markdown",
   "metadata": {},
   "source": [
    "## Clicked Transport Mode"
   ]
  },
  {
   "cell_type": "code",
   "execution_count": 50,
   "metadata": {
    "deletable": false,
    "editable": false,
    "run_control": {
     "frozen": true
    },
    "scrolled": true
   },
   "outputs": [
    {
     "data": {
      "text/plain": [
       "<matplotlib.axes._subplots.AxesSubplot at 0x169f35780>"
      ]
     },
     "execution_count": 50,
     "metadata": {},
     "output_type": "execute_result"
    },
    {
     "data": {
      "image/png": "[encoded data removed]",
      "text/plain": [
       "<Figure size 432x288 with 1 Axes>"
      ]
     },
     "metadata": {
      "needs_background": "light"
     },
     "output_type": "display_data"
    }
   ],
   "source": [
    "sns.countplot(train[train['label'] == 1]['transport_mode'], color = 'blue')"
   ]
  },
  {
   "cell_type": "markdown",
   "metadata": {
    "deletable": false,
    "editable": false,
    "run_control": {
     "frozen": true
    }
   },
   "source": [
    "## Number of plans"
   ]
  },
  {
   "cell_type": "code",
   "execution_count": 52,
   "metadata": {
    "deletable": false,
    "editable": false,
    "run_control": {
     "frozen": true
    }
   },
   "outputs": [
    {
     "data": {
      "text/plain": [
       "<matplotlib.axes._subplots.AxesSubplot at 0x13ae0c9e8>"
      ]
     },
     "execution_count": 52,
     "metadata": {},
     "output_type": "execute_result"
    },
    {
     "data": {
      "image/png": "[encoded data removed]",
      "text/plain": [
       "<Figure size 432x288 with 1 Axes>"
      ]
     },
     "metadata": {
      "needs_background": "light"
     },
     "output_type": "display_data"
    }
   ],
   "source": [
    "sns.countplot(train['num_plans'], color = 'blue')"
   ]
  },
  {
   "cell_type": "markdown",
   "metadata": {
    "deletable": false,
    "editable": false,
    "run_control": {
     "frozen": true
    }
   },
   "source": [
    "## Click Rank for Multiple Plan Session"
   ]
  },
  {
   "cell_type": "code",
   "execution_count": 19,
   "metadata": {
    "deletable": false,
    "editable": false,
    "run_control": {
     "frozen": true
    }
   },
   "outputs": [
    {
     "data": {
      "text/plain": [
       "<matplotlib.axes._subplots.AxesSubplot at 0x106079c18>"
      ]
     },
     "execution_count": 19,
     "metadata": {},
     "output_type": "execute_result"
    },
    {
     "data": {
      "image/png": "[encoded data removed]",
      "text/plain": [
       "<Figure size 432x288 with 1 Axes>"
      ]
     },
     "metadata": {
      "needs_background": "light"
     },
     "output_type": "display_data"
    }
   ],
   "source": [
    "sns.countplot(train[(train['label'] == 1) & (train['num_plans'] > 1)]['rank'], color = 'blue')"
   ]
  },
  {
   "cell_type": "markdown",
   "metadata": {},
   "source": [
    "# Feature Engineering"
   ]
  },
  {
   "cell_type": "code",
   "execution_count": 20,
   "metadata": {},
   "outputs": [],
   "source": [
    "train = train[(train['num_plans'] > 1)]"
   ]
  },
  {
   "cell_type": "code",
   "execution_count": 70,
   "metadata": {},
   "outputs": [],
   "source": [
    "def add_weather(df):\n",
    "    data_date = []\n",
    "    max_temp = []\n",
    "    min_temp = []\n",
    "    curr_wea = []\n",
    "    wind = []\n",
    "    is_rain = []\n",
    "\n",
    "    data_month = df['date'].apply(lambda x:x.month)\n",
    "    data_day = df['date'].apply(lambda x:x.day)\n",
    "    for m, d in zip(data_month, data_day):\n",
    "        m = str(m) if m >= 10 else (\"0\" + str(m))\n",
    "        d = str(d) if d >= 10 else (\"0\" + str(d))\n",
    "        w_key = m + \"-\" + d\n",
    "        max_temp.append(int(weather[w_key]['max_temp']))\n",
    "        min_temp.append(int(weather[w_key]['min_temp']))\n",
    "        curr_wea.append(weather[w_key]['weather'])\n",
    "        wind.append(int(weather[w_key]['wind']))\n",
    "        is_rain.append(1 if 'x' in weather[w_key]['weather'] else 0)\n",
    "    df['max_temp'] = max_temp\n",
    "    df['min_temp'] = min_temp\n",
    "    df['curr_wea'] = curr_wea\n",
    "    df['wind'] = wind\n",
    "    df['is_rain'] = is_rain\n",
    "    \n",
    "    return df"
   ]
  },
  {
   "cell_type": "code",
   "execution_count": 72,
   "metadata": {},
   "outputs": [
    {
     "name": "stdout",
     "output_type": "stream",
     "text": [
      "CPU times: user 6.78 s, sys: 150 ms, total: 6.93 s\n",
      "Wall time: 6.93 s\n"
     ]
    }
   ],
   "source": [
    "# %%time\n",
    "# train = add_weather(train)\n",
    "# test = add_weather(test)"
   ]
  },
  {
   "cell_type": "code",
   "execution_count": 89,
   "metadata": {},
   "outputs": [],
   "source": [
    "def cal_manhattan_distance(O_lon, O_lat, D_lon, D_lat):\n",
    "    dlat = O_lat - D_lat\n",
    "    a = sin(dlat / 2) ** 2\n",
    "    c = 2 * atan2(sqrt(a), sqrt(1-a))\n",
    "    r = 6371\n",
    "    lat_d = c * r\n",
    "\n",
    "    dlon = O_lat - D_lat\n",
    "    a = sin(dlon / 2) ** 2\n",
    "    c = 2 * atan2(sqrt(a), sqrt(1-a))\n",
    "    r = 6371\n",
    "    lon_d = c * r\n",
    "\n",
    "    return lat_d + lon_d"
   ]
  },
  {
   "cell_type": "code",
   "execution_count": 90,
   "metadata": {},
   "outputs": [],
   "source": [
    "def add_manhattan_distance(df):\n",
    "    df['man_distance'] = df.apply(lambda row: cal_manhattan_distance(\n",
    "        row['O_lon'], row['O_lat'], row['D_lon'], row['D_lat']), axis = 1)\n",
    "    return df"
   ]
  },
  {
   "cell_type": "code",
   "execution_count": null,
   "metadata": {},
   "outputs": [],
   "source": [
    "%%time\n",
    "train = add_manhattan_distance(train)\n",
    "test = add_manhattan_distance(test)"
   ]
  },
  {
   "cell_type": "code",
   "execution_count": 37,
   "metadata": {},
   "outputs": [],
   "source": [
    "def add_other_modes(df):\n",
    "    temp = df.groupby('sid', as_index=False)['transport_mode']\\\n",
    "            .agg({'mode_list':lambda x: ','.join(sorted(x.astype(str), key = lambda x:int(x)))})\n",
    "    df = df.merge(temp, on = 'sid')\n",
    "    return df"
   ]
  },
  {
   "cell_type": "code",
   "execution_count": 38,
   "metadata": {},
   "outputs": [
    {
     "name": "stdout",
     "output_type": "stream",
     "text": [
      "CPU times: user 1min 41s, sys: 3.66 s, total: 1min 45s\n",
      "Wall time: 1min 45s\n"
     ]
    }
   ],
   "source": [
    "%%time\n",
    "train = add_other_modes(train)\n",
    "test = add_other_modes(test)"
   ]
  },
  {
   "cell_type": "code",
   "execution_count": 21,
   "metadata": {},
   "outputs": [],
   "source": [
    "def add_direction(df):\n",
    "    df['lon_diff'] = df['O_lon'] - df['D_lon']\n",
    "    df['lat_diff'] = df['O_lat'] - df['D_lat']\n",
    "    return df"
   ]
  },
  {
   "cell_type": "code",
   "execution_count": 22,
   "metadata": {},
   "outputs": [
    {
     "name": "stdout",
     "output_type": "stream",
     "text": [
      "CPU times: user 182 ms, sys: 8.04 ms, total: 190 ms\n",
      "Wall time: 143 ms\n"
     ]
    }
   ],
   "source": [
    "%%time\n",
    "train = add_direction(train)\n",
    "test = add_direction(test)"
   ]
  },
  {
   "cell_type": "code",
   "execution_count": 39,
   "metadata": {},
   "outputs": [],
   "source": [
    "def add_cross_stats(df):\n",
    "    for col in ['hr','dow','rank','mode_list']:\n",
    "        colname = 'mode_'+ col + '_clicks'\n",
    "        temp = train.groupby( [col, 'transport_mode'], as_index = False)\\\n",
    "                .agg({'label':np.mean}).rename(columns = {'label':colname})\n",
    "        df = df.merge(temp, on = ['transport_mode', col], how = 'left')\n",
    "        df[colname] = df[colname].fillna(0)\n",
    "    return df"
   ]
  },
  {
   "cell_type": "code",
   "execution_count": 40,
   "metadata": {},
   "outputs": [
    {
     "name": "stdout",
     "output_type": "stream",
     "text": [
      "CPU times: user 6.66 s, sys: 4.63 s, total: 11.3 s\n",
      "Wall time: 11.3 s\n"
     ]
    }
   ],
   "source": [
    "%%time\n",
    "train = add_cross_stats(train)\n",
    "test = add_cross_stats(test)"
   ]
  },
  {
   "cell_type": "code",
   "execution_count": 28,
   "metadata": {},
   "outputs": [],
   "source": [
    "def add_max_min(df):\n",
    "    cols = ['eta','distance','price']\n",
    "    temp_columns = ['sid'] + [x + '_' + y for x in cols for y in ['min', 'max']]\n",
    "    temp = df.groupby('sid', as_index = False).agg({'eta':[min, max], 'distance':[min, max], 'price':[min, max]})\n",
    "    temp.columns = temp.columns.droplevel()\n",
    "    temp.columns = temp_columns\n",
    "    \n",
    "    df = df.merge(temp, on = 'sid')\n",
    "    for col in cols:\n",
    "        for t in ['max', 'min']:\n",
    "            df[col + '_' + t] = df[col] / (df[col + '_' + t] + 0.001)\n",
    "    \n",
    "    return df"
   ]
  },
  {
   "cell_type": "code",
   "execution_count": 29,
   "metadata": {},
   "outputs": [
    {
     "name": "stdout",
     "output_type": "stream",
     "text": [
      "CPU times: user 4.9 s, sys: 3.25 s, total: 8.15 s\n",
      "Wall time: 7.79 s\n"
     ]
    }
   ],
   "source": [
    "%%time\n",
    "train = add_max_min(train)\n",
    "test = add_max_min(test)"
   ]
  },
  {
   "cell_type": "code",
   "execution_count": 50,
   "metadata": {},
   "outputs": [],
   "source": [
    "def add_divide(df):\n",
    "    df['eta_per_distance'] = df['eta'] / (df['distance'] + 0.001)\n",
    "    df['price_per_distance'] = df['price'] / (df['distance'] + 0.001)\n",
    "    df['price_per_eta'] = df['price'] / (df['eta'] + 0.001)\n",
    "    \n",
    "    temp = df.groupby('transport_mode', as_index = 'False').agg({'eta_per_distance':np.median,\n",
    "                                                                 'price_per_distance':np.median,\n",
    "                                                                 'price_per_eta':np.median}).reset_index()\n",
    "    \n",
    "    temp.columns  = ['transport_mode', 'eta_dis_avg','price_dis_avg','price_eta_avg']\n",
    "    \n",
    "    df = df.merge(temp, on = 'transport_mode')\n",
    "    df['eta_per_distance'] = df['eta_per_distance'] / df['eta_dis_avg']\n",
    "    df['price_per_distance'] = df['price_per_distance'] / df['price_dis_avg']\n",
    "    df['price_per_eta'] = df['price_per_eta'] / df['price_eta_avg']\n",
    "                           \n",
    "    del df['eta_dis_avg']                                                     \n",
    "    del df['price_dis_avg']\n",
    "    del df['price_eta_avg']\n",
    "    return df"
   ]
  },
  {
   "cell_type": "code",
   "execution_count": 51,
   "metadata": {},
   "outputs": [
    {
     "name": "stdout",
     "output_type": "stream",
     "text": [
      "CPU times: user 9.9 s, sys: 5.34 s, total: 15.2 s\n",
      "Wall time: 15 s\n"
     ]
    }
   ],
   "source": [
    "%%time\n",
    "train = add_divide(train)\n",
    "test = add_divide(test)"
   ]
  },
  {
   "cell_type": "code",
   "execution_count": 52,
   "metadata": {},
   "outputs": [],
   "source": [
    "train['price_NA'] = train['price'] == -1\n",
    "test['price_NA'] = test['price'] == -1"
   ]
  },
  {
   "cell_type": "code",
   "execution_count": 133,
   "metadata": {},
   "outputs": [],
   "source": [
    "def add_time(df):\n",
    "    df['is_night'] = df['hr'].isin([22,23,0,1,2,3,4,5])\n",
    "    df['is_weekend'] = df['dow'].isin([5,6])\n",
    "    return df"
   ]
  },
  {
   "cell_type": "code",
   "execution_count": 134,
   "metadata": {},
   "outputs": [
    {
     "name": "stdout",
     "output_type": "stream",
     "text": [
      "CPU times: user 30.8 ms, sys: 1.47 ms, total: 32.3 ms\n",
      "Wall time: 31.4 ms\n"
     ]
    }
   ],
   "source": [
    "%%time\n",
    "train = add_time(train)\n",
    "test = add_time(test)"
   ]
  },
  {
   "cell_type": "code",
   "execution_count": 125,
   "metadata": {},
   "outputs": [],
   "source": [
    "def remove_profile(train, test):\n",
    "    for i in range(0, 66):\n",
    "        try:\n",
    "            if (train['p' + str(i)].mean() < 0.05) or \\\n",
    "               (test['p' + str(i)].mean() < 0.05) or \\\n",
    "               (abs(train['p' + str(i)].mean() -  test['p' + str(i)].mean()) > 0.20):\n",
    "                    del train['p' + str(i)]\n",
    "                    del test['p' + str(i)]\n",
    "        except:\n",
    "            pass\n",
    "    return train, test"
   ]
  },
  {
   "cell_type": "code",
   "execution_count": 126,
   "metadata": {},
   "outputs": [
    {
     "name": "stdout",
     "output_type": "stream",
     "text": [
      "CPU times: user 514 ms, sys: 65.4 ms, total: 579 ms\n",
      "Wall time: 578 ms\n"
     ]
    }
   ],
   "source": [
    "%%time\n",
    "train, test = remove_profile(train, test)"
   ]
  },
  {
   "cell_type": "code",
   "execution_count": 241,
   "metadata": {},
   "outputs": [],
   "source": [
    "def add_weight(df, add_weight = False):\n",
    "    if add_weight == False:\n",
    "        return df\n",
    "    else:\n",
    "        temp = pd.DataFrame(train[(train['label'] == 1)]['transport_mode'].value_counts()).reset_index().sort_values(by = 'index')\n",
    "        temp.columns = ['transport_mode', 'weight']\n",
    "        temp['weight'] = np.sqrt(1 / temp['weight'] * 10000)\n",
    "        temp.loc[temp['transport_mode'] == 3, 'weight'] = temp.loc[temp['transport_mode'] == 3, 'weight'] * 3\n",
    "        temp.loc[temp['transport_mode'] == 9, 'weight'] = temp.loc[temp['transport_mode'] == 9, 'weight'] * 3\n",
    "        temp = temp.merge(train[train['label'] == 1][['sid','transport_mode']], on = 'transport_mode')[['sid','weight']]\n",
    "        temp['label'] = 1\n",
    "        df = df.merge(temp, on = ['sid','label'], how = 'left')\n",
    "        df['weight'] = df['weight'].fillna(1)\n",
    "        return df"
   ]
  },
  {
   "cell_type": "code",
   "execution_count": 242,
   "metadata": {},
   "outputs": [
    {
     "name": "stdout",
     "output_type": "stream",
     "text": [
      "CPU times: user 3.54 s, sys: 2.09 s, total: 5.62 s\n",
      "Wall time: 5.63 s\n"
     ]
    }
   ],
   "source": [
    "%%time\n",
    "if 'weight' in train.columns:\n",
    "    del train['weight']\n",
    "train = add_weight(train, add_weight=True)"
   ]
  },
  {
   "cell_type": "markdown",
   "metadata": {},
   "source": [
    "# Save intermediate data to pickle"
   ]
  },
  {
   "cell_type": "code",
   "execution_count": 135,
   "metadata": {},
   "outputs": [
    {
     "name": "stdout",
     "output_type": "stream",
     "text": [
      "CPU times: user 2.04 s, sys: 732 ms, total: 2.77 s\n",
      "Wall time: 3 s\n"
     ]
    }
   ],
   "source": [
    "%%time\n",
    "data = {'train': train, 'test':test, 'all_test_sid':set(test_queries['sid'])}\n",
    "with open('./processed_data/data.pickle', 'wb') as handle:\n",
    "    pickle.dump(data, handle)"
   ]
  },
  {
   "cell_type": "code",
   "execution_count": 136,
   "metadata": {},
   "outputs": [
    {
     "name": "stdout",
     "output_type": "stream",
     "text": [
      "CPU times: user 901 ms, sys: 936 ms, total: 1.84 s\n",
      "Wall time: 1.84 s\n"
     ]
    }
   ],
   "source": [
    "%%time\n",
    "with open('./processed_data/data.pickle', 'rb') as handle:\n",
    "    data = pickle.load(handle)\n",
    "\n",
    "train = data['train']\n",
    "test = data['test']\n",
    "all_test_sid = data['all_test_sid']"
   ]
  },
  {
   "cell_type": "markdown",
   "metadata": {},
   "source": [
    "# Baseline LGB model"
   ]
  },
  {
   "cell_type": "markdown",
   "metadata": {},
   "source": [
    "## Train/Validation Split"
   ]
  },
  {
   "cell_type": "code",
   "execution_count": 351,
   "metadata": {},
   "outputs": [],
   "source": [
    "train_ = train.copy()\n",
    "test_ = test.copy()\n",
    "#train_ = train[~train['is_weekend']].copy()\n",
    "#test_ = test[~test['is_weekend']].copy()"
   ]
  },
  {
   "cell_type": "code",
   "execution_count": 352,
   "metadata": {},
   "outputs": [],
   "source": [
    "exclude_columns = ['sid',\n",
    "                   'pid',\n",
    "                   'profile',\n",
    "                   'price_min',\n",
    "                   'label',\n",
    "                   'weight',\n",
    "                   'mode_list',\n",
    "                   'date'\n",
    "                  ] \n",
    "features = [x for x in train_.columns if x not in exclude_columns]"
   ]
  },
  {
   "cell_type": "code",
   "execution_count": 1867,
   "metadata": {
    "deletable": false,
    "editable": false,
    "run_control": {
     "frozen": true
    }
   },
   "outputs": [],
   "source": [
    "sid_train, sid_eval = train_test_split(list(set(train_['sid'])),\n",
    "                                       test_size = 0.15, \n",
    "                                       random_state = 88)"
   ]
  },
  {
   "cell_type": "code",
   "execution_count": 353,
   "metadata": {},
   "outputs": [],
   "source": [
    "sid_train = list(set(train_[(train_['date'] <  datetime.date(2018, 11, 24)) & \\\n",
    "                            (train_['date'] >  datetime.date(2018, 10, 7))]['sid']))\n",
    "sid_eval  = list(set(train_[train_['date'] >= datetime.date(2018, 11, 24)]['sid']))"
   ]
  },
  {
   "cell_type": "code",
   "execution_count": 354,
   "metadata": {},
   "outputs": [],
   "source": [
    "T = train_[train_['sid'].isin(sid_train)]\n",
    "V = train_[train_['sid'].isin(sid_eval)]"
   ]
  },
  {
   "cell_type": "code",
   "execution_count": 355,
   "metadata": {},
   "outputs": [],
   "source": [
    "X_train = T\n",
    "X_eval  = V\n",
    "y_train = T['label']\n",
    "y_eval  = V['label']"
   ]
  },
  {
   "cell_type": "markdown",
   "metadata": {},
   "source": [
    "## Model Development"
   ]
  },
  {
   "cell_type": "markdown",
   "metadata": {},
   "source": [
    "### Find best weights"
   ]
  },
  {
   "cell_type": "code",
   "execution_count": 434,
   "metadata": {},
   "outputs": [],
   "source": [
    "def weighted_f1(preds, data):\n",
    "    if GLOBAL[0] % 100 == 0 and data.reference is not None:\n",
    "        df = X_eval\n",
    "        df['pred_prob'] = preds\n",
    "        output = pd.DataFrame(df.groupby('sid').apply(get_best_mode_dt).reset_index())\n",
    "        output.columns = ['sid', 'recommend_mode']\n",
    "        eval_true = df[df['label'] == 1][['sid','transport_mode']]\n",
    "        eval_true.columns = ['sid','true']\n",
    "        output.columns = ['sid', 'pred']\n",
    "        eval_sum = eval_true.merge(output, on = 'sid')\n",
    "        weight_f1 = f1_score(eval_sum['true'], eval_sum['pred'], average = 'weighted')\n",
    "    else:\n",
    "        weight_f1 = -1\n",
    "    GLOBAL[0] = GLOBAL[0] + 1\n",
    "    return 'weighed-f1', weight_f1, False"
   ]
  },
  {
   "cell_type": "code",
   "execution_count": 474,
   "metadata": {},
   "outputs": [],
   "source": [
    "temp = pd.DataFrame(train_[(train_['label'] == 1)]['transport_mode'].value_counts()).reset_index().sort_values(by = 'index')\n",
    "temp.columns = ['transport_mode', 'weight']\n",
    "temp['weight'] = np.sqrt(1 / temp['weight'] * 10000)\n",
    "base_weights = temp"
   ]
  },
  {
   "cell_type": "code",
   "execution_count": 433,
   "metadata": {},
   "outputs": [],
   "source": [
    "params = {\n",
    "    'boosting_type': 'gbdt',\n",
    "    'objective': 'binary',\n",
    "    #'metric': 'auc',\n",
    "    'num_leaves': 31,\n",
    "    'learning_rate': 0.08,\n",
    "    'feature_fraction': 0.9,\n",
    "    'bagging_fraction': 1.0,\n",
    "    'bagging_seed':0,\n",
    "    'bagging_freq': 1,\n",
    "    'verbose': 1,\n",
    "    #'reg_alpha':1,\n",
    "    #'reg_lambda':1\n",
    "}"
   ]
  },
  {
   "cell_type": "code",
   "execution_count": 485,
   "metadata": {},
   "outputs": [],
   "source": [
    "def add_weight(train_, adjusts):\n",
    "    if 'weight' in train_.columns:\n",
    "        del train_['weight']\n",
    "    \n",
    "    weights = base_weights.copy()\n",
    "    for idx, adjust in zip(range(1,12), adjusts):\n",
    "        weights.loc[weights['transport_mode'] == idx, 'weight'] = \\\n",
    "        weights.loc[weights['transport_mode'] == idx, 'weight'] * adjust\n",
    "        \n",
    "    weights['label'] = 1\n",
    "    train_ = train_.merge(weights, on = ['transport_mode','label'], how = 'left')\n",
    "    train_['weight'] = train_['weight'].fillna(1)\n",
    "\n",
    "    T = train_[train_['sid'].isin(sid_train)]\n",
    "    V = train_[train_['sid'].isin(sid_eval)]\n",
    "\n",
    "    X_train = T\n",
    "    X_eval  = V\n",
    "    y_train = T['label']\n",
    "    y_eval  = V['label']\n",
    "    \n",
    "    return X_train, X_eval, y_train, y_eval"
   ]
  },
  {
   "cell_type": "code",
   "execution_count": 550,
   "metadata": {},
   "outputs": [],
   "source": [
    "def train_lgb_with_weights(idx, adjusts, num_rounds = 100):\n",
    "    X_train, X_eval, y_train, y_eval = add_weight(train_, adjusts)\n",
    "    lgb_train = lgb.Dataset(X_train[features], y_train, \n",
    "                        weight = X_train['weight'], \n",
    "                        categorical_feature = ['transport_mode'])\n",
    "    lgb_evals = lgb.Dataset(X_eval[features], y_eval, \n",
    "                            categorical_feature = ['transport_mode'], \n",
    "                            reference = lgb_train)\n",
    "    gbm_all = lgb.train(\n",
    "                    params,\n",
    "                    lgb_train,\n",
    "                    num_boost_round = num_rounds,\n",
    "                    valid_sets =[ lgb_train,lgb_evals],\n",
    "                    valid_names = ['train','valid'],\n",
    "                    feval = weighted_f1,\n",
    "                    #early_stopping_rounds = 300,\n",
    "                    verbose_eval = 100\n",
    "                   ) \n",
    "    # 100 -  0.750127\n",
    "    # 1000 - 0.752107\n",
    "    print(adjusts)\n",
    "    f1 = gbm_all.best_score['valid']['weighed-f1']\n",
    "    results[idx] = {}\n",
    "    results[idx]['model'] = gbm_all\n",
    "    results[idx]['adjusts'] = adjusts\n",
    "    results[idx]['f1'] = f1"
   ]
  },
  {
   "cell_type": "code",
   "execution_count": 508,
   "metadata": {
    "deletable": false,
    "editable": false,
    "run_control": {
     "frozen": true
    }
   },
   "outputs": [],
   "source": [
    "results = {}\n",
    "global_idx = [0]"
   ]
  },
  {
   "cell_type": "code",
   "execution_count": 591,
   "metadata": {},
   "outputs": [
    {
     "data": {
      "text/plain": [
       "{4: {'adjusts': [1, 1, 3, 2, 1, 1, 2, 1, 3, 1, 2],\n",
       "  0.7510468944359853: 0.7510468944359853},\n",
       " 5: {'adjusts': [1, 1, 3, 2, 1, 1, 2, 1, 3, 2, 1],\n",
       "  0.7518683294508802: 0.7518683294508802},\n",
       " 6: {'adjusts': [1, 1, 3, 2, 1, 1, 1, 1, 3, 1, 1],\n",
       "  0.7514532597109645: 0.7514532597109645},\n",
       " 7: {'adjusts': [1, 1, 3, 2, 1, 1, 2, 1, 3, 1, 1],\n",
       "  0.7517533578780017: 0.7517533578780017},\n",
       " 999: {'model': <lightgbm.basic.Booster at 0x19c53fef0>,\n",
       "  'adjusts': [1, 1, 3, 2, 1, 1, 2, 1, 3, 2, 1],\n",
       "  0.7539464654998743: 0.7539464654998743},\n",
       " 8: {'model': <lightgbm.basic.Booster at 0x1a2937908>,\n",
       "  'adjusts': [1, 1, 3, 2, 1, 1, 2, 1, 3, 3, 1],\n",
       "  'f1': 0.7510392164328916},\n",
       " 9: {'model': <lightgbm.basic.Booster at 0x1a293a588>,\n",
       "  'adjusts': [1, 1, 3, 2, 1, 1, 2, 1, 3, 3, 2],\n",
       "  'f1': 0.7510185211955488},\n",
       " 10: {'model': <lightgbm.basic.Booster at 0x1a293a550>,\n",
       "  'adjusts': [1, 1, 3, 2, 1, 1, 2, 1, 3, 3, 2],\n",
       "  'f1': 0.7510185211955488},\n",
       " 11: {'model': <lightgbm.basic.Booster at 0x1a293afd0>,\n",
       "  'adjusts': [1, 1, 3, 2, 1, 1, 2, 1, 3, 2, 1],\n",
       "  'f1': 0.7518683294508802},\n",
       " 12: {'model': <lightgbm.basic.Booster at 0x1a293a828>,\n",
       "  'adjusts': [1, 1, 4, 2, 1, 1, 2, 1, 3, 2, 1],\n",
       "  'f1': 0.7515042591166419},\n",
       " 13: {'model': <lightgbm.basic.Booster at 0x1a1531550>,\n",
       "  'adjusts': [1, 1, 3, 2, 1, 2, 2, 1, 3, 2, 1],\n",
       "  'f1': 0.7517930486874548},\n",
       " 14: {'model': <lightgbm.basic.Booster at 0x1a1531c88>,\n",
       "  'adjusts': [2, 1, 3, 2, 1, 1, 2, 1, 3, 2, 1],\n",
       "  'f1': 0.7516856908471583},\n",
       " 15: {'model': <lightgbm.basic.Booster at 0x1a92a2dd8>,\n",
       "  'adjusts': [1, 1, 3, 2, 1, 1, 2, 1, 3, 2, 1],\n",
       "  'f1': 0.7518683294508802},\n",
       " 16: {'model': <lightgbm.basic.Booster at 0x1a1531e80>,\n",
       "  'adjusts': [1, 1, 3, 2.5, 1, 1, 2, 1, 3, 2, 1],\n",
       "  'f1': 0.7515370851255292},\n",
       " 17: {'model': <lightgbm.basic.Booster at 0x1a293ada0>,\n",
       "  'adjusts': [1, 1, 3, 2, 1, 1, 2, 2, 3, 2, 1],\n",
       "  'f1': 0.751547186841513},\n",
       " 18: {'model': <lightgbm.basic.Booster at 0x1a293ae48>,\n",
       "  'adjusts': [1, 1, 3, 2, 1, 1.5, 2, 1, 3, 2, 1],\n",
       "  'f1': 0.7521131031933727},\n",
       " 19: {'model': <lightgbm.basic.Booster at 0x1a2936c88>,\n",
       "  'adjusts': [1, 1, 3, 2, 1, 1.5, 2, 1, 3, 2, 1],\n",
       "  'f1': 0.7521131031933727},\n",
       " 20: {'model': <lightgbm.basic.Booster at 0x1a2936a58>,\n",
       "  'adjusts': [1, 1, 3, 2, 1, 1.5, 2, 1, 3, 1.5, 1],\n",
       "  'f1': 0.7522559741895687},\n",
       " 21: {'model': <lightgbm.basic.Booster at 0x1a1531940>,\n",
       "  'adjusts': [1, 1, 3, 2, 1, 1.5, 2, 1, 3.5, 1.5, 1],\n",
       "  'f1': 0.7519996532026525},\n",
       " 22: {'model': <lightgbm.basic.Booster at 0x1a15315c0>,\n",
       "  'adjusts': [1, 1, 3, 2, 1, 1.5, 2, 1, 2.5, 1.5, 1],\n",
       "  'f1': 0.7514352876203774},\n",
       " 1000: {'model': <lightgbm.basic.Booster at 0x1a293ad30>,\n",
       "  'adjusts': [1, 1, 3, 2, 1, 1.5, 2, 1, 3, 1.5, 1],\n",
       "  'f1': 0.7542383543845192}}"
      ]
     },
     "execution_count": 591,
     "metadata": {},
     "output_type": "execute_result"
    }
   ],
   "source": [
    "results"
   ]
  },
  {
   "cell_type": "code",
   "execution_count": 554,
   "metadata": {},
   "outputs": [
    {
     "data": {
      "text/html": [
       "<div>\n",
       "<style scoped>\n",
       "    .dataframe tbody tr th:only-of-type {\n",
       "        vertical-align: middle;\n",
       "    }\n",
       "\n",
       "    .dataframe tbody tr th {\n",
       "        vertical-align: top;\n",
       "    }\n",
       "\n",
       "    .dataframe thead th {\n",
       "        text-align: right;\n",
       "    }\n",
       "</style>\n",
       "<table border=\"1\" class=\"dataframe\">\n",
       "  <thead>\n",
       "    <tr style=\"text-align: right;\">\n",
       "      <th></th>\n",
       "      <th>transport_mode</th>\n",
       "      <th>weight</th>\n",
       "    </tr>\n",
       "  </thead>\n",
       "  <tbody>\n",
       "    <tr>\n",
       "      <th>2</th>\n",
       "      <td>1</td>\n",
       "      <td>0.378216</td>\n",
       "    </tr>\n",
       "    <tr>\n",
       "      <th>0</th>\n",
       "      <td>2</td>\n",
       "      <td>0.271006</td>\n",
       "    </tr>\n",
       "    <tr>\n",
       "      <th>5</th>\n",
       "      <td>3</td>\n",
       "      <td>0.640460</td>\n",
       "    </tr>\n",
       "    <tr>\n",
       "      <th>7</th>\n",
       "      <td>4</td>\n",
       "      <td>0.891969</td>\n",
       "    </tr>\n",
       "    <tr>\n",
       "      <th>4</th>\n",
       "      <td>5</td>\n",
       "      <td>0.460825</td>\n",
       "    </tr>\n",
       "    <tr>\n",
       "      <th>8</th>\n",
       "      <td>6</td>\n",
       "      <td>0.918475</td>\n",
       "    </tr>\n",
       "    <tr>\n",
       "      <th>1</th>\n",
       "      <td>7</td>\n",
       "      <td>0.359882</td>\n",
       "    </tr>\n",
       "    <tr>\n",
       "      <th>10</th>\n",
       "      <td>8</td>\n",
       "      <td>2.320567</td>\n",
       "    </tr>\n",
       "    <tr>\n",
       "      <th>3</th>\n",
       "      <td>9</td>\n",
       "      <td>0.452382</td>\n",
       "    </tr>\n",
       "    <tr>\n",
       "      <th>6</th>\n",
       "      <td>10</td>\n",
       "      <td>0.819727</td>\n",
       "    </tr>\n",
       "    <tr>\n",
       "      <th>9</th>\n",
       "      <td>11</td>\n",
       "      <td>1.281525</td>\n",
       "    </tr>\n",
       "  </tbody>\n",
       "</table>\n",
       "</div>"
      ],
      "text/plain": [
       "    transport_mode    weight\n",
       "2                1  0.378216\n",
       "0                2  0.271006\n",
       "5                3  0.640460\n",
       "7                4  0.891969\n",
       "4                5  0.460825\n",
       "8                6  0.918475\n",
       "1                7  0.359882\n",
       "10               8  2.320567\n",
       "3                9  0.452382\n",
       "6               10  0.819727\n",
       "9               11  1.281525"
      ]
     },
     "execution_count": 554,
     "metadata": {},
     "output_type": "execute_result"
    }
   ],
   "source": [
    "base_weights.sort_values(by = 'transport_mode')"
   ]
  },
  {
   "cell_type": "code",
   "execution_count": 565,
   "metadata": {},
   "outputs": [],
   "source": [
    "adjusts_sets = [ \n",
    "   [1, 1, 3, 2, 1, 1.5, 2, 1, 3.5, 1.5, 1],\n",
    "   [1, 1, 3, 2, 1, 1.5, 2, 1, 2.5, 1.5, 1]\n",
    "#                  [1, 1, 3, 2, 1, 1, 2, 1, 3, 2, 1],\n",
    "#                  [1, 1, 3, 2, 1, 1, 2, 1, 3, 2, 1],\n",
    "#                  [1, 1, 3, 2, 1, 1, 2, 1, 3, 2, 1],\n",
    "#                  [1, 1, 3, 2, 1, 1, 2, 1, 3, 2, 1],\n",
    "#                  [1, 1, 3, 2, 1, 1, 2, 1, 3, 2, 1],\n",
    "#                  [1, 1, 3, 2, 1, 1, 2, 1, 3, 2, 1],\n",
    "#                  [1, 1, 3, 2, 1, 1, 2, 1, 3, 2, 1],\n",
    "#                  [1, 1, 3, 2, 1, 1, 2, 1, 3, 2, 1],\n",
    "#                  [1, 1, 3, 2, 1, 1, 2, 1, 3, 2, 1]\n",
    "               ]"
   ]
  },
  {
   "cell_type": "code",
   "execution_count": 566,
   "metadata": {},
   "outputs": [
    {
     "name": "stdout",
     "output_type": "stream",
     "text": [
      "[100]\ttrain's binary_logloss: 0.295404\ttrain's weighed-f1: -1\tvalid's binary_logloss: 0.289099\tvalid's weighed-f1: 0.752\n",
      "[1, 1, 3, 2, 1, 1.5, 2, 1, 3.5, 1.5, 1]\n",
      "[100]\ttrain's binary_logloss: 0.29275\ttrain's weighed-f1: -1\tvalid's binary_logloss: 0.288245\tvalid's weighed-f1: 0.751435\n",
      "[1, 1, 3, 2, 1, 1.5, 2, 1, 2.5, 1.5, 1]\n",
      "CPU times: user 6min 10s, sys: 15.2 s, total: 6min 26s\n",
      "Wall time: 1min 16s\n"
     ]
    }
   ],
   "source": [
    "%%time\n",
    "already_tested = [v['adjusts'] for k ,v in results.items()]\n",
    "for adjusts in adjusts_sets:\n",
    "    idx = global_idx[0]\n",
    "    global_idx[0] = global_idx[0] + 1\n",
    "    GLOBAL = [1]\n",
    "    train_lgb_with_weights(idx, adjusts)"
   ]
  },
  {
   "cell_type": "markdown",
   "metadata": {},
   "source": [
    "### Train model"
   ]
  },
  {
   "cell_type": "code",
   "execution_count": 573,
   "metadata": {},
   "outputs": [
    {
     "name": "stdout",
     "output_type": "stream",
     "text": [
      "[100]\ttrain's binary_logloss: 0.294189\ttrain's weighed-f1: -1\tvalid's binary_logloss: 0.288502\tvalid's weighed-f1: 0.752256\n",
      "[200]\ttrain's binary_logloss: 0.290804\ttrain's weighed-f1: -1\tvalid's binary_logloss: 0.287475\tvalid's weighed-f1: 0.752734\n",
      "[300]\ttrain's binary_logloss: 0.28811\ttrain's weighed-f1: -1\tvalid's binary_logloss: 0.286828\tvalid's weighed-f1: 0.753003\n",
      "[400]\ttrain's binary_logloss: 0.285687\ttrain's weighed-f1: -1\tvalid's binary_logloss: 0.286356\tvalid's weighed-f1: 0.753325\n",
      "[500]\ttrain's binary_logloss: 0.283365\ttrain's weighed-f1: -1\tvalid's binary_logloss: 0.286146\tvalid's weighed-f1: 0.753435\n",
      "[600]\ttrain's binary_logloss: 0.281202\ttrain's weighed-f1: -1\tvalid's binary_logloss: 0.285872\tvalid's weighed-f1: 0.753596\n",
      "[700]\ttrain's binary_logloss: 0.279151\ttrain's weighed-f1: -1\tvalid's binary_logloss: 0.28576\tvalid's weighed-f1: 0.753714\n",
      "[800]\ttrain's binary_logloss: 0.277264\ttrain's weighed-f1: -1\tvalid's binary_logloss: 0.285595\tvalid's weighed-f1: 0.753631\n",
      "[900]\ttrain's binary_logloss: 0.275305\ttrain's weighed-f1: -1\tvalid's binary_logloss: 0.285439\tvalid's weighed-f1: 0.753872\n",
      "[1000]\ttrain's binary_logloss: 0.273469\ttrain's weighed-f1: -1\tvalid's binary_logloss: 0.285331\tvalid's weighed-f1: 0.753881\n",
      "[1100]\ttrain's binary_logloss: 0.271649\ttrain's weighed-f1: -1\tvalid's binary_logloss: 0.28522\tvalid's weighed-f1: 0.753742\n",
      "[1200]\ttrain's binary_logloss: 0.269928\ttrain's weighed-f1: -1\tvalid's binary_logloss: 0.285053\tvalid's weighed-f1: 0.753858\n",
      "[1300]\ttrain's binary_logloss: 0.268349\ttrain's weighed-f1: -1\tvalid's binary_logloss: 0.284957\tvalid's weighed-f1: 0.753865\n",
      "[1400]\ttrain's binary_logloss: 0.266818\ttrain's weighed-f1: -1\tvalid's binary_logloss: 0.284753\tvalid's weighed-f1: 0.753977\n",
      "[1500]\ttrain's binary_logloss: 0.265248\ttrain's weighed-f1: -1\tvalid's binary_logloss: 0.284661\tvalid's weighed-f1: 0.754153\n",
      "[1600]\ttrain's binary_logloss: 0.263714\ttrain's weighed-f1: -1\tvalid's binary_logloss: 0.284551\tvalid's weighed-f1: 0.754\n",
      "[1700]\ttrain's binary_logloss: 0.2621\ttrain's weighed-f1: -1\tvalid's binary_logloss: 0.284483\tvalid's weighed-f1: 0.753902\n",
      "[1800]\ttrain's binary_logloss: 0.260663\ttrain's weighed-f1: -1\tvalid's binary_logloss: 0.284338\tvalid's weighed-f1: 0.753932\n",
      "[1900]\ttrain's binary_logloss: 0.259087\ttrain's weighed-f1: -1\tvalid's binary_logloss: 0.28431\tvalid's weighed-f1: 0.754238\n",
      "[1, 1, 3, 2, 1, 1.5, 2, 1, 3, 1.5, 1]\n"
     ]
    }
   ],
   "source": [
    "GLOBAL = [1]\n",
    "train_lgb_with_weights(1000, [1, 1, 3, 2, 1, 1.5, 2, 1, 3, 1.5, 1], num_rounds = 1900)"
   ]
  },
  {
   "cell_type": "code",
   "execution_count": 578,
   "metadata": {},
   "outputs": [],
   "source": [
    "gbm_all = results[1000]['model']"
   ]
  },
  {
   "cell_type": "code",
   "execution_count": 592,
   "metadata": {},
   "outputs": [
    {
     "data": {
      "text/plain": [
       "<matplotlib.axes._subplots.AxesSubplot at 0x1b83e5240>"
      ]
     },
     "execution_count": 592,
     "metadata": {},
     "output_type": "execute_result"
    },
    {
     "data": {
      "image/png": "[encoded data removed]",
      "text/plain": [
       "<Figure size 1080x576 with 1 Axes>"
      ]
     },
     "metadata": {
      "needs_background": "light"
     },
     "output_type": "display_data"
    }
   ],
   "source": [
    "feature_importance = sorted([(x,y) for x, y in zip(gbm_all.feature_name(), gbm_all.feature_importance())],\n",
    "                            key = lambda x: x[1], reverse=True)\n",
    "top_features = [x for x, y in feature_importance][:50]\n",
    "lgb.plot_importance(gbm_all, figsize=(15,8), max_num_features = 30)"
   ]
  },
  {
   "cell_type": "markdown",
   "metadata": {},
   "source": [
    "**Generate predictions**"
   ]
  },
  {
   "cell_type": "code",
   "execution_count": 580,
   "metadata": {},
   "outputs": [],
   "source": [
    "def get_best_mode_dt(gp):\n",
    "    result = [(x, y) for x, y in zip(gp['transport_mode'], gp['pred_prob'])]\n",
    "    result.sort(key = lambda x: x[1], reverse = True)\n",
    "    return result[0][0]"
   ]
  },
  {
   "cell_type": "code",
   "execution_count": 581,
   "metadata": {},
   "outputs": [],
   "source": [
    "def get_predictions_lgb(df, gbm, features):\n",
    "    pred = gbm.predict(df[features])\n",
    "    df['pred_prob'] = pred\n",
    "    output = pd.DataFrame(df.groupby('sid').apply(get_best_mode_dt)).reset_index()\n",
    "    output.columns = ['sid', 'recommend_mode']\n",
    "    return df, output "
   ]
  },
  {
   "cell_type": "markdown",
   "metadata": {},
   "source": [
    "## Apply to validation set"
   ]
  },
  {
   "cell_type": "code",
   "execution_count": 582,
   "metadata": {},
   "outputs": [],
   "source": [
    "X_eval, output = get_predictions_lgb(X_eval, gbm_all, features)"
   ]
  },
  {
   "cell_type": "code",
   "execution_count": 583,
   "metadata": {},
   "outputs": [
    {
     "data": {
      "text/plain": [
       "<matplotlib.axes._subplots.AxesSubplot at 0x1a293aac8>"
      ]
     },
     "execution_count": 583,
     "metadata": {},
     "output_type": "execute_result"
    },
    {
     "data": {
      "image/png": "[encoded data removed]",
      "text/plain": [
       "<Figure size 432x288 with 1 Axes>"
      ]
     },
     "metadata": {
      "needs_background": "light"
     },
     "output_type": "display_data"
    }
   ],
   "source": [
    "sns.countplot(output['recommend_mode'], color = 'blue')"
   ]
  },
  {
   "cell_type": "code",
   "execution_count": 18,
   "metadata": {
    "deletable": false,
    "editable": false,
    "run_control": {
     "frozen": true
    },
    "scrolled": true
   },
   "outputs": [
    {
     "data": {
      "text/plain": [
       "<matplotlib.axes._subplots.AxesSubplot at 0x13edb1828>"
      ]
     },
     "execution_count": 18,
     "metadata": {},
     "output_type": "execute_result"
    },
    {
     "data": {
      "image/png": "[encoded data removed]",
      "text/plain": [
       "<Figure size 432x288 with 1 Axes>"
      ]
     },
     "metadata": {
      "needs_background": "light"
     },
     "output_type": "display_data"
    }
   ],
   "source": [
    "sns.countplot(output['recommend_mode'], color = 'blue') #0.7519"
   ]
  },
  {
   "cell_type": "code",
   "execution_count": 584,
   "metadata": {},
   "outputs": [],
   "source": [
    "eval_true = X_eval[X_eval['label'] == 1][['sid','transport_mode']]\n",
    "eval_true.columns = ['sid','true']\n",
    "output.columns = ['sid', 'pred']\n",
    "eval_sum = eval_true.merge(output, on = 'sid')"
   ]
  },
  {
   "cell_type": "code",
   "execution_count": 585,
   "metadata": {},
   "outputs": [],
   "source": [
    "weight_f1 = f1_score(eval_sum['true'], eval_sum['pred'], average = 'weighted')"
   ]
  },
  {
   "cell_type": "code",
   "execution_count": 586,
   "metadata": {
    "scrolled": true
   },
   "outputs": [
    {
     "data": {
      "text/plain": [
       "0.7542383543845192"
      ]
     },
     "execution_count": 586,
     "metadata": {},
     "output_type": "execute_result"
    }
   ],
   "source": [
    "weight_f1 #0.7519"
   ]
  },
  {
   "cell_type": "code",
   "execution_count": 587,
   "metadata": {},
   "outputs": [
    {
     "data": {
      "text/plain": [
       "<matplotlib.axes._subplots.AxesSubplot at 0x1b5304390>"
      ]
     },
     "execution_count": 587,
     "metadata": {},
     "output_type": "execute_result"
    },
    {
     "data": {
      "image/png": "[encoded data removed]",
      "text/plain": [
       "<Figure size 432x432 with 2 Axes>"
      ]
     },
     "metadata": {
      "needs_background": "light"
     },
     "output_type": "display_data"
    }
   ],
   "source": [
    "plot_confusion_matrix_(eval_sum['true'], eval_sum['pred'], classes=list(range(1,12)))"
   ]
  },
  {
   "cell_type": "code",
   "execution_count": 23,
   "metadata": {
    "deletable": false,
    "editable": false,
    "run_control": {
     "frozen": true
    }
   },
   "outputs": [
    {
     "data": {
      "text/plain": [
       "<matplotlib.axes._subplots.AxesSubplot at 0x13b566208>"
      ]
     },
     "execution_count": 23,
     "metadata": {},
     "output_type": "execute_result"
    },
    {
     "data": {
      "image/png": "[encoded data removed]",
      "text/plain": [
       "<Figure size 432x432 with 2 Axes>"
      ]
     },
     "metadata": {
      "needs_background": "light"
     },
     "output_type": "display_data"
    }
   ],
   "source": [
    "plot_confusion_matrix_(eval_sum['true'], eval_sum['pred'], classes=list(range(1,12))) #0.7519"
   ]
  },
  {
   "cell_type": "code",
   "execution_count": null,
   "metadata": {
    "deletable": false,
    "editable": false,
    "run_control": {
     "frozen": true
    }
   },
   "outputs": [],
   "source": [
    "g = sns.catplot(x=\"transport_mode\", col=\"hr\",\n",
    "                 data=train[(train['label']==1) & (train['is_weekend'] == 1)], kind=\"count\",col_wrap=3,\n",
    "                height=2.5, aspect=1);"
   ]
  },
  {
   "cell_type": "markdown",
   "metadata": {},
   "source": [
    "## Apply to test set"
   ]
  },
  {
   "cell_type": "code",
   "execution_count": 588,
   "metadata": {},
   "outputs": [
    {
     "name": "stdout",
     "output_type": "stream",
     "text": [
      "CPU times: user 1min 5s, sys: 984 ms, total: 1min 6s\n",
      "Wall time: 15.4 s\n"
     ]
    }
   ],
   "source": [
    "%%time\n",
    "test_, output = get_predictions_lgb(test_, gbm_all, features)"
   ]
  },
  {
   "cell_type": "markdown",
   "metadata": {},
   "source": [
    "**Fill no-plan sessions with zeros**"
   ]
  },
  {
   "cell_type": "code",
   "execution_count": 589,
   "metadata": {},
   "outputs": [],
   "source": [
    "set_1 = set(test_queries['sid'])\n",
    "set_2 = set(test_['sid'])\n",
    "no_click_sids = [x for x in set_1 if x not in set_2]\n",
    "temp = pd.DataFrame({'sid': no_click_sids, 'recommend_mode':0})\n",
    "output = pd.concat([output, temp], axis = 0, ignore_index=True)"
   ]
  },
  {
   "cell_type": "code",
   "execution_count": 590,
   "metadata": {},
   "outputs": [
    {
     "data": {
      "text/plain": [
       "<matplotlib.axes._subplots.AxesSubplot at 0x1b858f208>"
      ]
     },
     "execution_count": 590,
     "metadata": {},
     "output_type": "execute_result"
    },
    {
     "data": {
      "image/png": "[encoded data removed]",
      "text/plain": [
       "<Figure size 432x288 with 1 Axes>"
      ]
     },
     "metadata": {
      "needs_background": "light"
     },
     "output_type": "display_data"
    }
   ],
   "source": [
    "sns.countplot(output['recommend_mode'], color = 'blue')"
   ]
  },
  {
   "cell_type": "code",
   "execution_count": 27,
   "metadata": {
    "deletable": false,
    "editable": false,
    "run_control": {
     "frozen": true
    }
   },
   "outputs": [
    {
     "data": {
      "text/plain": [
       "<matplotlib.axes._subplots.AxesSubplot at 0x15cfb34a8>"
      ]
     },
     "execution_count": 27,
     "metadata": {},
     "output_type": "execute_result"
    },
    {
     "data": {
      "image/png": "[encoded data removed]",
      "text/plain": [
       "<Figure size 432x288 with 1 Axes>"
      ]
     },
     "metadata": {
      "needs_background": "light"
     },
     "output_type": "display_data"
    }
   ],
   "source": [
    "sns.countplot(output['recommend_mode'], color = 'blue') #0.7519"
   ]
  },
  {
   "cell_type": "markdown",
   "metadata": {},
   "source": [
    "**Export csv**"
   ]
  },
  {
   "cell_type": "code",
   "execution_count": 547,
   "metadata": {},
   "outputs": [],
   "source": [
    "time_ = str(datetime.datetime.now())\n",
    "mkdir('./submission/' + time_)"
   ]
  },
  {
   "cell_type": "code",
   "execution_count": 548,
   "metadata": {},
   "outputs": [],
   "source": [
    "output['sid'] = output['sid'].astype(str)\n",
    "output['recommend_mode'] = output['recommend_mode'].astype(str)\n",
    "output.to_csv('./submission/' + time_ + '/submission.csv', index = False, quoting = csv.QUOTE_NONNUMERIC)"
   ]
  }
 ],
 "metadata": {
  "kernelspec": {
   "display_name": "Python 3",
   "language": "python",
   "name": "python3"
  },
  "language_info": {
   "codemirror_mode": {
    "name": "ipython",
    "version": 3
   },
   "file_extension": ".py",
   "mimetype": "text/x-python",
   "name": "python",
   "nbconvert_exporter": "python",
   "pygments_lexer": "ipython3",
   "version": "3.7.2"
  },
  "toc": {
   "base_numbering": 1,
   "nav_menu": {
    "height": "12px",
    "width": "164px"
   },
   "number_sections": true,
   "sideBar": true,
   "skip_h1_title": false,
   "title_cell": "Table of Contents",
   "title_sidebar": "Contents",
   "toc_cell": false,
   "toc_position": {
    "height": "calc(100% - 180px)",
    "left": "10px",
    "top": "150px",
    "width": "188.4px"
   },
   "toc_section_display": true,
   "toc_window_display": true
  }
 },
 "nbformat": 4,
 "nbformat_minor": 2
}
