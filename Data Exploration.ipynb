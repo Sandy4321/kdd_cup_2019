{
 "cells": [
  {
   "cell_type": "markdown",
   "metadata": {},
   "source": [
    "# Load Data"
   ]
  },
  {
   "cell_type": "code",
   "execution_count": 1,
   "metadata": {},
   "outputs": [
    {
     "name": "stderr",
     "output_type": "stream",
     "text": [
      "/Users/shiwang/Desktop/Personal/test_API/env/lib/python3.7/site-packages/lightgbm/__init__.py:46: UserWarning: Starting from version 2.2.1, the library file in distribution wheels for macOS is built by the Apple Clang (Xcode_8.3.3) compiler.\n",
      "This means that in case of installing LightGBM from PyPI via the ``pip install lightgbm`` command, you don't need to install the gcc compiler anymore.\n",
      "Instead of that, you need to install the OpenMP library, which is required for running LightGBM on the system with the Apple Clang compiler.\n",
      "You can install the OpenMP library by the following command: ``brew install libomp``.\n",
      "  \"You can install the OpenMP library by the following command: ``brew install libomp``.\", UserWarning)\n"
     ]
    }
   ],
   "source": [
    "import numpy as np\n",
    "import csv\n",
    "import io\n",
    "from os import mkdir\n",
    "import json\n",
    "import datetime\n",
    "import pandas as pd \n",
    "import pickle\n",
    "import seaborn as sns\n",
    "from sklearn.model_selection import train_test_split\n",
    "from sklearn.metrics import f1_score, confusion_matrix\n",
    "import lightgbm as lgb\n",
    "import matplotlib.pyplot as plt\n",
    "from util.plot_funcs import *\n",
    "from random import uniform\n",
    "from imblearn.over_sampling import RandomOverSampler\n",
    "%load_ext autoreload\n",
    "%autoreload 2\n",
    "import warnings\n",
    "pd.set_option('display.max_columns', 500)\n",
    "pd.set_option('display.max_rows', 500)\n",
    "warnings.filterwarnings('ignore')"
   ]
  },
  {
   "cell_type": "code",
   "execution_count": 2,
   "metadata": {},
   "outputs": [],
   "source": [
    "train_queries = pd.read_csv('./data_set_phase1/train_queries.csv')\n",
    "train_plans = pd.read_csv('./data_set_phase1/train_plans.csv')\n",
    "train_clicks = pd.read_csv('./data_set_phase1/train_clicks.csv')\n",
    "test_queries = pd.read_csv('./data_set_phase1/test_queries.csv')\n",
    "test_plans = pd.read_csv('./data_set_phase1/test_plans.csv')\n",
    "profiles = pd.read_csv('./data_set_phase1/profiles.csv')"
   ]
  },
  {
   "cell_type": "code",
   "execution_count": 3,
   "metadata": {},
   "outputs": [
    {
     "data": {
      "text/html": [
       "<div>\n",
       "<style scoped>\n",
       "    .dataframe tbody tr th:only-of-type {\n",
       "        vertical-align: middle;\n",
       "    }\n",
       "\n",
       "    .dataframe tbody tr th {\n",
       "        vertical-align: top;\n",
       "    }\n",
       "\n",
       "    .dataframe thead th {\n",
       "        text-align: right;\n",
       "    }\n",
       "</style>\n",
       "<table border=\"1\" class=\"dataframe\">\n",
       "  <thead>\n",
       "    <tr style=\"text-align: right;\">\n",
       "      <th></th>\n",
       "      <th>sid</th>\n",
       "      <th>click_time</th>\n",
       "      <th>click_mode</th>\n",
       "    </tr>\n",
       "  </thead>\n",
       "  <tbody>\n",
       "    <tr>\n",
       "      <th>0</th>\n",
       "      <td>2848914</td>\n",
       "      <td>2018-11-17 18:42:17</td>\n",
       "      <td>1</td>\n",
       "    </tr>\n",
       "    <tr>\n",
       "      <th>1</th>\n",
       "      <td>2629085</td>\n",
       "      <td>2018-10-12 16:28:13</td>\n",
       "      <td>3</td>\n",
       "    </tr>\n",
       "    <tr>\n",
       "      <th>2</th>\n",
       "      <td>602598</td>\n",
       "      <td>2018-11-11 16:38:42</td>\n",
       "      <td>2</td>\n",
       "    </tr>\n",
       "  </tbody>\n",
       "</table>\n",
       "</div>"
      ],
      "text/plain": [
       "       sid           click_time  click_mode\n",
       "0  2848914  2018-11-17 18:42:17           1\n",
       "1  2629085  2018-10-12 16:28:13           3\n",
       "2   602598  2018-11-11 16:38:42           2"
      ]
     },
     "execution_count": 3,
     "metadata": {},
     "output_type": "execute_result"
    }
   ],
   "source": [
    "train_clicks.head(3)"
   ]
  },
  {
   "cell_type": "code",
   "execution_count": 4,
   "metadata": {},
   "outputs": [
    {
     "data": {
      "text/html": [
       "<div>\n",
       "<style scoped>\n",
       "    .dataframe tbody tr th:only-of-type {\n",
       "        vertical-align: middle;\n",
       "    }\n",
       "\n",
       "    .dataframe tbody tr th {\n",
       "        vertical-align: top;\n",
       "    }\n",
       "\n",
       "    .dataframe thead th {\n",
       "        text-align: right;\n",
       "    }\n",
       "</style>\n",
       "<table border=\"1\" class=\"dataframe\">\n",
       "  <thead>\n",
       "    <tr style=\"text-align: right;\">\n",
       "      <th></th>\n",
       "      <th>pid</th>\n",
       "      <th>p0</th>\n",
       "      <th>p1</th>\n",
       "      <th>p2</th>\n",
       "      <th>p3</th>\n",
       "      <th>p4</th>\n",
       "      <th>p5</th>\n",
       "      <th>p6</th>\n",
       "      <th>p7</th>\n",
       "      <th>p8</th>\n",
       "      <th>p9</th>\n",
       "      <th>p10</th>\n",
       "      <th>p11</th>\n",
       "      <th>p12</th>\n",
       "      <th>p13</th>\n",
       "      <th>p14</th>\n",
       "      <th>p15</th>\n",
       "      <th>p16</th>\n",
       "      <th>p17</th>\n",
       "      <th>p18</th>\n",
       "      <th>p19</th>\n",
       "      <th>p20</th>\n",
       "      <th>p21</th>\n",
       "      <th>p22</th>\n",
       "      <th>p23</th>\n",
       "      <th>p24</th>\n",
       "      <th>p25</th>\n",
       "      <th>p26</th>\n",
       "      <th>p27</th>\n",
       "      <th>p28</th>\n",
       "      <th>p29</th>\n",
       "      <th>p30</th>\n",
       "      <th>p31</th>\n",
       "      <th>p32</th>\n",
       "      <th>p33</th>\n",
       "      <th>p34</th>\n",
       "      <th>p35</th>\n",
       "      <th>p36</th>\n",
       "      <th>p37</th>\n",
       "      <th>p38</th>\n",
       "      <th>p39</th>\n",
       "      <th>p40</th>\n",
       "      <th>p41</th>\n",
       "      <th>p42</th>\n",
       "      <th>p43</th>\n",
       "      <th>p44</th>\n",
       "      <th>p45</th>\n",
       "      <th>p46</th>\n",
       "      <th>p47</th>\n",
       "      <th>p48</th>\n",
       "      <th>p49</th>\n",
       "      <th>p50</th>\n",
       "      <th>p51</th>\n",
       "      <th>p52</th>\n",
       "      <th>p53</th>\n",
       "      <th>p54</th>\n",
       "      <th>p55</th>\n",
       "      <th>p56</th>\n",
       "      <th>p57</th>\n",
       "      <th>p58</th>\n",
       "      <th>p59</th>\n",
       "      <th>p60</th>\n",
       "      <th>p61</th>\n",
       "      <th>p62</th>\n",
       "      <th>p63</th>\n",
       "      <th>p64</th>\n",
       "      <th>p65</th>\n",
       "    </tr>\n",
       "  </thead>\n",
       "  <tbody>\n",
       "    <tr>\n",
       "      <th>0</th>\n",
       "      <td>196356</td>\n",
       "      <td>1.0</td>\n",
       "      <td>0.0</td>\n",
       "      <td>0.0</td>\n",
       "      <td>0.0</td>\n",
       "      <td>0.0</td>\n",
       "      <td>0.0</td>\n",
       "      <td>0.0</td>\n",
       "      <td>0.0</td>\n",
       "      <td>1.0</td>\n",
       "      <td>0.0</td>\n",
       "      <td>0.0</td>\n",
       "      <td>0.0</td>\n",
       "      <td>0.0</td>\n",
       "      <td>0.0</td>\n",
       "      <td>0.0</td>\n",
       "      <td>0.0</td>\n",
       "      <td>0.0</td>\n",
       "      <td>0.0</td>\n",
       "      <td>0.0</td>\n",
       "      <td>0.0</td>\n",
       "      <td>0.0</td>\n",
       "      <td>0.0</td>\n",
       "      <td>0.0</td>\n",
       "      <td>0.0</td>\n",
       "      <td>0.0</td>\n",
       "      <td>0.0</td>\n",
       "      <td>0.0</td>\n",
       "      <td>0.0</td>\n",
       "      <td>1.0</td>\n",
       "      <td>0.0</td>\n",
       "      <td>1.0</td>\n",
       "      <td>0.0</td>\n",
       "      <td>0.0</td>\n",
       "      <td>1.0</td>\n",
       "      <td>0.0</td>\n",
       "      <td>0.0</td>\n",
       "      <td>0.0</td>\n",
       "      <td>1.0</td>\n",
       "      <td>0.0</td>\n",
       "      <td>0.0</td>\n",
       "      <td>0.0</td>\n",
       "      <td>0.0</td>\n",
       "      <td>0.0</td>\n",
       "      <td>0.0</td>\n",
       "      <td>0.0</td>\n",
       "      <td>0.0</td>\n",
       "      <td>0.0</td>\n",
       "      <td>0.0</td>\n",
       "      <td>1.0</td>\n",
       "      <td>0.0</td>\n",
       "      <td>0.0</td>\n",
       "      <td>0.0</td>\n",
       "      <td>0.0</td>\n",
       "      <td>0.0</td>\n",
       "      <td>0.0</td>\n",
       "      <td>0.0</td>\n",
       "      <td>0.0</td>\n",
       "      <td>0.0</td>\n",
       "      <td>0.0</td>\n",
       "      <td>0.0</td>\n",
       "      <td>0.0</td>\n",
       "      <td>0.0</td>\n",
       "      <td>0.0</td>\n",
       "      <td>0.0</td>\n",
       "      <td>0.0</td>\n",
       "      <td>0.0</td>\n",
       "    </tr>\n",
       "    <tr>\n",
       "      <th>1</th>\n",
       "      <td>204083</td>\n",
       "      <td>1.0</td>\n",
       "      <td>0.0</td>\n",
       "      <td>0.0</td>\n",
       "      <td>0.0</td>\n",
       "      <td>0.0</td>\n",
       "      <td>0.0</td>\n",
       "      <td>0.0</td>\n",
       "      <td>1.0</td>\n",
       "      <td>0.0</td>\n",
       "      <td>0.0</td>\n",
       "      <td>0.0</td>\n",
       "      <td>0.0</td>\n",
       "      <td>0.0</td>\n",
       "      <td>0.0</td>\n",
       "      <td>0.0</td>\n",
       "      <td>0.0</td>\n",
       "      <td>0.0</td>\n",
       "      <td>0.0</td>\n",
       "      <td>0.0</td>\n",
       "      <td>0.0</td>\n",
       "      <td>0.0</td>\n",
       "      <td>0.0</td>\n",
       "      <td>0.0</td>\n",
       "      <td>0.0</td>\n",
       "      <td>0.0</td>\n",
       "      <td>0.0</td>\n",
       "      <td>1.0</td>\n",
       "      <td>0.0</td>\n",
       "      <td>0.0</td>\n",
       "      <td>0.0</td>\n",
       "      <td>1.0</td>\n",
       "      <td>0.0</td>\n",
       "      <td>0.0</td>\n",
       "      <td>1.0</td>\n",
       "      <td>0.0</td>\n",
       "      <td>0.0</td>\n",
       "      <td>1.0</td>\n",
       "      <td>0.0</td>\n",
       "      <td>0.0</td>\n",
       "      <td>0.0</td>\n",
       "      <td>0.0</td>\n",
       "      <td>0.0</td>\n",
       "      <td>0.0</td>\n",
       "      <td>0.0</td>\n",
       "      <td>0.0</td>\n",
       "      <td>0.0</td>\n",
       "      <td>0.0</td>\n",
       "      <td>0.0</td>\n",
       "      <td>0.0</td>\n",
       "      <td>0.0</td>\n",
       "      <td>0.0</td>\n",
       "      <td>0.0</td>\n",
       "      <td>0.0</td>\n",
       "      <td>0.0</td>\n",
       "      <td>0.0</td>\n",
       "      <td>0.0</td>\n",
       "      <td>0.0</td>\n",
       "      <td>0.0</td>\n",
       "      <td>0.0</td>\n",
       "      <td>1.0</td>\n",
       "      <td>0.0</td>\n",
       "      <td>0.0</td>\n",
       "      <td>0.0</td>\n",
       "      <td>1.0</td>\n",
       "      <td>0.0</td>\n",
       "      <td>0.0</td>\n",
       "    </tr>\n",
       "    <tr>\n",
       "      <th>2</th>\n",
       "      <td>170667</td>\n",
       "      <td>0.0</td>\n",
       "      <td>0.0</td>\n",
       "      <td>1.0</td>\n",
       "      <td>0.0</td>\n",
       "      <td>0.0</td>\n",
       "      <td>0.0</td>\n",
       "      <td>0.0</td>\n",
       "      <td>1.0</td>\n",
       "      <td>0.0</td>\n",
       "      <td>0.0</td>\n",
       "      <td>0.0</td>\n",
       "      <td>0.0</td>\n",
       "      <td>0.0</td>\n",
       "      <td>0.0</td>\n",
       "      <td>0.0</td>\n",
       "      <td>0.0</td>\n",
       "      <td>0.0</td>\n",
       "      <td>0.0</td>\n",
       "      <td>0.0</td>\n",
       "      <td>0.0</td>\n",
       "      <td>0.0</td>\n",
       "      <td>0.0</td>\n",
       "      <td>0.0</td>\n",
       "      <td>0.0</td>\n",
       "      <td>0.0</td>\n",
       "      <td>0.0</td>\n",
       "      <td>1.0</td>\n",
       "      <td>0.0</td>\n",
       "      <td>0.0</td>\n",
       "      <td>0.0</td>\n",
       "      <td>1.0</td>\n",
       "      <td>0.0</td>\n",
       "      <td>1.0</td>\n",
       "      <td>0.0</td>\n",
       "      <td>0.0</td>\n",
       "      <td>1.0</td>\n",
       "      <td>0.0</td>\n",
       "      <td>0.0</td>\n",
       "      <td>0.0</td>\n",
       "      <td>0.0</td>\n",
       "      <td>0.0</td>\n",
       "      <td>0.0</td>\n",
       "      <td>1.0</td>\n",
       "      <td>0.0</td>\n",
       "      <td>0.0</td>\n",
       "      <td>0.0</td>\n",
       "      <td>0.0</td>\n",
       "      <td>0.0</td>\n",
       "      <td>0.0</td>\n",
       "      <td>0.0</td>\n",
       "      <td>0.0</td>\n",
       "      <td>0.0</td>\n",
       "      <td>0.0</td>\n",
       "      <td>0.0</td>\n",
       "      <td>0.0</td>\n",
       "      <td>0.0</td>\n",
       "      <td>0.0</td>\n",
       "      <td>0.0</td>\n",
       "      <td>0.0</td>\n",
       "      <td>0.0</td>\n",
       "      <td>0.0</td>\n",
       "      <td>0.0</td>\n",
       "      <td>1.0</td>\n",
       "      <td>0.0</td>\n",
       "      <td>0.0</td>\n",
       "      <td>0.0</td>\n",
       "    </tr>\n",
       "  </tbody>\n",
       "</table>\n",
       "</div>"
      ],
      "text/plain": [
       "      pid   p0   p1   p2   p3   p4   p5   p6   p7   p8   p9  p10  p11  p12  \\\n",
       "0  196356  1.0  0.0  0.0  0.0  0.0  0.0  0.0  0.0  1.0  0.0  0.0  0.0  0.0   \n",
       "1  204083  1.0  0.0  0.0  0.0  0.0  0.0  0.0  1.0  0.0  0.0  0.0  0.0  0.0   \n",
       "2  170667  0.0  0.0  1.0  0.0  0.0  0.0  0.0  1.0  0.0  0.0  0.0  0.0  0.0   \n",
       "\n",
       "   p13  p14  p15  p16  p17  p18  p19  p20  p21  p22  p23  p24  p25  p26  p27  \\\n",
       "0  0.0  0.0  0.0  0.0  0.0  0.0  0.0  0.0  0.0  0.0  0.0  0.0  0.0  0.0  0.0   \n",
       "1  0.0  0.0  0.0  0.0  0.0  0.0  0.0  0.0  0.0  0.0  0.0  0.0  0.0  1.0  0.0   \n",
       "2  0.0  0.0  0.0  0.0  0.0  0.0  0.0  0.0  0.0  0.0  0.0  0.0  0.0  1.0  0.0   \n",
       "\n",
       "   p28  p29  p30  p31  p32  p33  p34  p35  p36  p37  p38  p39  p40  p41  p42  \\\n",
       "0  1.0  0.0  1.0  0.0  0.0  1.0  0.0  0.0  0.0  1.0  0.0  0.0  0.0  0.0  0.0   \n",
       "1  0.0  0.0  1.0  0.0  0.0  1.0  0.0  0.0  1.0  0.0  0.0  0.0  0.0  0.0  0.0   \n",
       "2  0.0  0.0  1.0  0.0  1.0  0.0  0.0  1.0  0.0  0.0  0.0  0.0  0.0  0.0  1.0   \n",
       "\n",
       "   p43  p44  p45  p46  p47  p48  p49  p50  p51  p52  p53  p54  p55  p56  p57  \\\n",
       "0  0.0  0.0  0.0  0.0  0.0  1.0  0.0  0.0  0.0  0.0  0.0  0.0  0.0  0.0  0.0   \n",
       "1  0.0  0.0  0.0  0.0  0.0  0.0  0.0  0.0  0.0  0.0  0.0  0.0  0.0  0.0  0.0   \n",
       "2  0.0  0.0  0.0  0.0  0.0  0.0  0.0  0.0  0.0  0.0  0.0  0.0  0.0  0.0  0.0   \n",
       "\n",
       "   p58  p59  p60  p61  p62  p63  p64  p65  \n",
       "0  0.0  0.0  0.0  0.0  0.0  0.0  0.0  0.0  \n",
       "1  0.0  1.0  0.0  0.0  0.0  1.0  0.0  0.0  \n",
       "2  0.0  0.0  0.0  0.0  1.0  0.0  0.0  0.0  "
      ]
     },
     "execution_count": 4,
     "metadata": {},
     "output_type": "execute_result"
    }
   ],
   "source": [
    "profiles.head(3)"
   ]
  },
  {
   "cell_type": "code",
   "execution_count": 5,
   "metadata": {},
   "outputs": [
    {
     "data": {
      "text/html": [
       "<div>\n",
       "<style scoped>\n",
       "    .dataframe tbody tr th:only-of-type {\n",
       "        vertical-align: middle;\n",
       "    }\n",
       "\n",
       "    .dataframe tbody tr th {\n",
       "        vertical-align: top;\n",
       "    }\n",
       "\n",
       "    .dataframe thead th {\n",
       "        text-align: right;\n",
       "    }\n",
       "</style>\n",
       "<table border=\"1\" class=\"dataframe\">\n",
       "  <thead>\n",
       "    <tr style=\"text-align: right;\">\n",
       "      <th></th>\n",
       "      <th>sid</th>\n",
       "      <th>pid</th>\n",
       "      <th>req_time</th>\n",
       "      <th>o</th>\n",
       "      <th>d</th>\n",
       "    </tr>\n",
       "  </thead>\n",
       "  <tbody>\n",
       "    <tr>\n",
       "      <th>0</th>\n",
       "      <td>3000821</td>\n",
       "      <td>NaN</td>\n",
       "      <td>2018-11-02 17:54:30</td>\n",
       "      <td>116.29,39.97</td>\n",
       "      <td>116.32,39.96</td>\n",
       "    </tr>\n",
       "    <tr>\n",
       "      <th>1</th>\n",
       "      <td>3085857</td>\n",
       "      <td>210736.0</td>\n",
       "      <td>2018-11-16 10:53:10</td>\n",
       "      <td>116.39,39.84</td>\n",
       "      <td>116.33,39.79</td>\n",
       "    </tr>\n",
       "    <tr>\n",
       "      <th>2</th>\n",
       "      <td>2944522</td>\n",
       "      <td>NaN</td>\n",
       "      <td>2018-10-06 10:33:58</td>\n",
       "      <td>116.31,39.93</td>\n",
       "      <td>116.27,40.00</td>\n",
       "    </tr>\n",
       "  </tbody>\n",
       "</table>\n",
       "</div>"
      ],
      "text/plain": [
       "       sid       pid             req_time             o             d\n",
       "0  3000821       NaN  2018-11-02 17:54:30  116.29,39.97  116.32,39.96\n",
       "1  3085857  210736.0  2018-11-16 10:53:10  116.39,39.84  116.33,39.79\n",
       "2  2944522       NaN  2018-10-06 10:33:58  116.31,39.93  116.27,40.00"
      ]
     },
     "execution_count": 5,
     "metadata": {},
     "output_type": "execute_result"
    }
   ],
   "source": [
    "train_queries.head(3)"
   ]
  },
  {
   "cell_type": "code",
   "execution_count": 6,
   "metadata": {},
   "outputs": [
    {
     "data": {
      "text/html": [
       "<div>\n",
       "<style scoped>\n",
       "    .dataframe tbody tr th:only-of-type {\n",
       "        vertical-align: middle;\n",
       "    }\n",
       "\n",
       "    .dataframe tbody tr th {\n",
       "        vertical-align: top;\n",
       "    }\n",
       "\n",
       "    .dataframe thead th {\n",
       "        text-align: right;\n",
       "    }\n",
       "</style>\n",
       "<table border=\"1\" class=\"dataframe\">\n",
       "  <thead>\n",
       "    <tr style=\"text-align: right;\">\n",
       "      <th></th>\n",
       "      <th>sid</th>\n",
       "      <th>plan_time</th>\n",
       "      <th>plans</th>\n",
       "    </tr>\n",
       "  </thead>\n",
       "  <tbody>\n",
       "    <tr>\n",
       "      <th>0</th>\n",
       "      <td>1709112</td>\n",
       "      <td>2018-11-04 11:45:04</td>\n",
       "      <td>[{\"distance\": 32303, \"price\": 600, \"eta\": 5087...</td>\n",
       "    </tr>\n",
       "    <tr>\n",
       "      <th>1</th>\n",
       "      <td>3327773</td>\n",
       "      <td>2018-10-16 19:09:29</td>\n",
       "      <td>[{\"distance\": 3427, \"price\": 300, \"eta\": 627, ...</td>\n",
       "    </tr>\n",
       "    <tr>\n",
       "      <th>2</th>\n",
       "      <td>3285959</td>\n",
       "      <td>2018-11-25 15:05:22</td>\n",
       "      <td>[{\"distance\": 36234, \"price\": 1100, \"eta\": 931...</td>\n",
       "    </tr>\n",
       "  </tbody>\n",
       "</table>\n",
       "</div>"
      ],
      "text/plain": [
       "       sid            plan_time  \\\n",
       "0  1709112  2018-11-04 11:45:04   \n",
       "1  3327773  2018-10-16 19:09:29   \n",
       "2  3285959  2018-11-25 15:05:22   \n",
       "\n",
       "                                               plans  \n",
       "0  [{\"distance\": 32303, \"price\": 600, \"eta\": 5087...  \n",
       "1  [{\"distance\": 3427, \"price\": 300, \"eta\": 627, ...  \n",
       "2  [{\"distance\": 36234, \"price\": 1100, \"eta\": 931...  "
      ]
     },
     "execution_count": 6,
     "metadata": {},
     "output_type": "execute_result"
    }
   ],
   "source": [
    "train_plans.head(3)"
   ]
  },
  {
   "cell_type": "code",
   "execution_count": 7,
   "metadata": {},
   "outputs": [],
   "source": [
    "with open('./data_set_phase1/weather.json', 'r') as f:\n",
    "    weather_dict = json.load(f)"
   ]
  },
  {
   "cell_type": "markdown",
   "metadata": {},
   "source": [
    "# Pre-processing"
   ]
  },
  {
   "cell_type": "code",
   "execution_count": 18,
   "metadata": {},
   "outputs": [],
   "source": [
    "output = []\n",
    "for k,v in weather_dict.items():\n",
    "    output.append(['2018-' + k, int(v['max_temp']), int(v['min_temp']), v['weather'], int(v['wind'])])\n",
    "weather = pd.DataFrame(output, columns = ['date', 'max_temp', 'min_temp', 'weather', 'wind'])\n",
    "weather['date'] = pd.to_datetime(weather['date']).apply(lambda x:x.date())"
   ]
  },
  {
   "cell_type": "code",
   "execution_count": 19,
   "metadata": {},
   "outputs": [],
   "source": [
    "def pre_process_queries(X):\n",
    "    X['pid'] = X['pid'].fillna(0)\n",
    "    X['req_time'] = pd.to_datetime(X['req_time'])\n",
    "    X['dow'] = X['req_time'].apply(lambda x: x.weekday())\n",
    "    X['hr'] = X['req_time'].apply(lambda x: x.hour)\n",
    "    X['O_lon'] = X['o'].apply(lambda x: float(x.split(',')[0]))\n",
    "    X['O_lat'] = X['o'].apply(lambda x: float(x.split(',')[1]))\n",
    "    X['D_lon'] = X['d'].apply(lambda x: float(x.split(',')[0]))\n",
    "    X['D_lat'] = X['d'].apply(lambda x: float(x.split(',')[1]))\n",
    "    \n",
    "    X['date'] =  X['req_time'].apply(lambda x:x.date())\n",
    "    X = X.merge(weather, on = 'date')\n",
    "    \n",
    "    del X['o']\n",
    "    del X['d']\n",
    "    del X['req_time']\n",
    "    \n",
    "    return X"
   ]
  },
  {
   "cell_type": "code",
   "execution_count": 10,
   "metadata": {},
   "outputs": [
    {
     "name": "stdout",
     "output_type": "stream",
     "text": [
      "CPU times: user 5.75 s, sys: 160 ms, total: 5.91 s\n",
      "Wall time: 5.91 s\n"
     ]
    }
   ],
   "source": [
    "%%time\n",
    "train_queries = pre_process_queries(train_queries)\n",
    "test_queries = pre_process_queries(test_queries)"
   ]
  },
  {
   "cell_type": "code",
   "execution_count": 11,
   "metadata": {},
   "outputs": [],
   "source": [
    "def pre_process_plan(X):\n",
    "    try:\n",
    "        X['plans'] = X['plans'].apply(lambda x: eval(x))\n",
    "    except:\n",
    "        pass\n",
    "    \n",
    "    outputs = []\n",
    "    for _, row in X.iterrows():\n",
    "        sid = row['sid']\n",
    "        rank = 0\n",
    "        for plan in row['plans']:\n",
    "            outputs.append([sid, \n",
    "                            plan['distance'], \n",
    "                            plan['price'], \n",
    "                            plan['eta'], \n",
    "                            plan['transport_mode'],\n",
    "                            rank])\n",
    "            rank += 1\n",
    "    \n",
    "    output = pd.DataFrame(outputs, columns = ['sid','distance', 'price', 'eta','transport_mode', 'rank'])  \n",
    "    output['price'] = output['price'].replace('',-1)\n",
    "    output['distance'] = output['distance'].replace('',-1)\n",
    "    output['eta'] = output['eta'].replace('',-1)\n",
    "    return output"
   ]
  },
  {
   "cell_type": "code",
   "execution_count": 12,
   "metadata": {},
   "outputs": [
    {
     "name": "stdout",
     "output_type": "stream",
     "text": [
      "CPU times: user 1min 33s, sys: 1.11 s, total: 1min 34s\n",
      "Wall time: 1min 34s\n"
     ]
    }
   ],
   "source": [
    "%%time\n",
    "train_plans_ = pre_process_plan(train_plans)\n",
    "test_plans_  = pre_process_plan(test_plans)"
   ]
  },
  {
   "cell_type": "code",
   "execution_count": 13,
   "metadata": {},
   "outputs": [],
   "source": [
    "train_plans_.drop_duplicates(subset = ['sid','transport_mode'], inplace=True)\n",
    "test_plans_.drop_duplicates(subset = ['sid','transport_mode'], inplace=True)"
   ]
  },
  {
   "cell_type": "code",
   "execution_count": 14,
   "metadata": {},
   "outputs": [
    {
     "name": "stdout",
     "output_type": "stream",
     "text": [
      "CPU times: user 28.9 s, sys: 56.5 ms, total: 29 s\n",
      "Wall time: 29 s\n"
     ]
    }
   ],
   "source": [
    "%%time\n",
    "profiles['profile'] = profiles.apply(lambda row: [x + 1 for x in range(66) if row['p'+str(x)] == 1], axis = 1)\n",
    "profiles = profiles.append({'pid' : 0 , 'profile' : []} , ignore_index=True).fillna(0)"
   ]
  },
  {
   "cell_type": "code",
   "execution_count": 15,
   "metadata": {},
   "outputs": [],
   "source": [
    "train_clicks = train_clicks[['sid','click_mode']]\n",
    "train_clicks['label'] = 1"
   ]
  },
  {
   "cell_type": "markdown",
   "metadata": {},
   "source": [
    "# Merge"
   ]
  },
  {
   "cell_type": "code",
   "execution_count": 16,
   "metadata": {},
   "outputs": [],
   "source": [
    "train = train_plans_.merge(train_queries, on ='sid')\\\n",
    "            .merge(profiles, on = 'pid')\\\n",
    "            .merge(train_clicks[['sid']], on = 'sid')\\\n",
    "            .merge(train_clicks, left_on = ['sid', 'transport_mode'], \n",
    "                   right_on = ['sid', 'click_mode'], how = 'left')\n",
    "del train['click_mode']\n",
    "train['label'] = train['label'].fillna(0)"
   ]
  },
  {
   "cell_type": "code",
   "execution_count": 17,
   "metadata": {},
   "outputs": [],
   "source": [
    "test = test_plans_.merge(test_queries, on ='sid')\\\n",
    "            .merge(profiles, on = 'pid')"
   ]
  },
  {
   "cell_type": "markdown",
   "metadata": {
    "heading_collapsed": true
   },
   "source": [
    "# Exploration"
   ]
  },
  {
   "cell_type": "markdown",
   "metadata": {
    "hidden": true
   },
   "source": [
    "## Clicked Transport Mode"
   ]
  },
  {
   "cell_type": "code",
   "execution_count": 18,
   "metadata": {
    "hidden": true,
    "scrolled": true
   },
   "outputs": [
    {
     "data": {
      "text/plain": [
       "<matplotlib.axes._subplots.AxesSubplot at 0x136ef2b00>"
      ]
     },
     "execution_count": 18,
     "metadata": {},
     "output_type": "execute_result"
    },
    {
     "data": {
      "image/png": "[encoded data removed]",
      "text/plain": [
       "<Figure size 432x288 with 1 Axes>"
      ]
     },
     "metadata": {
      "needs_background": "light"
     },
     "output_type": "display_data"
    }
   ],
   "source": [
    "sns.countplot(train[train['label'] == 1]['transport_mode'], color = 'blue')"
   ]
  },
  {
   "cell_type": "markdown",
   "metadata": {
    "hidden": true
   },
   "source": [
    "## Number of plans"
   ]
  },
  {
   "cell_type": "code",
   "execution_count": null,
   "metadata": {
    "deletable": false,
    "editable": false,
    "hidden": true,
    "run_control": {
     "frozen": true
    }
   },
   "outputs": [],
   "source": [
    "sns.countplot(train['num_plans'], color = 'blue')"
   ]
  },
  {
   "cell_type": "code",
   "execution_count": null,
   "metadata": {
    "deletable": false,
    "editable": false,
    "hidden": true,
    "run_control": {
     "frozen": true
    }
   },
   "outputs": [],
   "source": [
    "sns.countplot(test['num_plans'], color = 'blue')"
   ]
  },
  {
   "cell_type": "markdown",
   "metadata": {
    "deletable": false,
    "editable": false,
    "hidden": true,
    "run_control": {
     "frozen": true
    }
   },
   "source": [
    "## Click Rank for Multiple Plan Session"
   ]
  },
  {
   "cell_type": "code",
   "execution_count": null,
   "metadata": {
    "deletable": false,
    "editable": false,
    "hidden": true,
    "run_control": {
     "frozen": true
    }
   },
   "outputs": [],
   "source": [
    "sns.countplot(train[(train['label'] == 1) & (train['num_plans'] > 1)]['rank'], color = 'blue')"
   ]
  },
  {
   "cell_type": "markdown",
   "metadata": {
    "deletable": false,
    "editable": false,
    "hidden": true,
    "run_control": {
     "frozen": true
    }
   },
   "source": [
    "## Distributions"
   ]
  },
  {
   "cell_type": "code",
   "execution_count": null,
   "metadata": {
    "deletable": false,
    "editable": false,
    "hidden": true,
    "run_control": {
     "frozen": true
    }
   },
   "outputs": [],
   "source": [
    "train[['eta','distance', 'price', 'O_lon','O_lat', 'D_lon', 'D_lat']].quantile([0, .05, .25, .50, .75, .95, 1])"
   ]
  },
  {
   "cell_type": "code",
   "execution_count": null,
   "metadata": {
    "deletable": false,
    "editable": false,
    "hidden": true,
    "run_control": {
     "frozen": true
    }
   },
   "outputs": [],
   "source": [
    "sns.countplot(train['dow'], color = 'blue')"
   ]
  },
  {
   "cell_type": "code",
   "execution_count": null,
   "metadata": {
    "deletable": false,
    "editable": false,
    "hidden": true,
    "run_control": {
     "frozen": true
    }
   },
   "outputs": [],
   "source": [
    "sns.countplot(train['hr'], color = 'blue')"
   ]
  },
  {
   "cell_type": "markdown",
   "metadata": {},
   "source": [
    "# Feature Engineering"
   ]
  },
  {
   "cell_type": "code",
   "execution_count": 20,
   "metadata": {},
   "outputs": [],
   "source": [
    "def add_direction(df):\n",
    "    df['lon_diff'] = df['O_lon'] - df['D_lon']\n",
    "    df['lat_diff'] = df['O_lat'] - df['D_lat']\n",
    "    return df"
   ]
  },
  {
   "cell_type": "code",
   "execution_count": 21,
   "metadata": {},
   "outputs": [
    {
     "name": "stdout",
     "output_type": "stream",
     "text": [
      "CPU times: user 68.4 ms, sys: 15.7 ms, total: 84 ms\n",
      "Wall time: 41.4 ms\n"
     ]
    }
   ],
   "source": [
    "%%time\n",
    "train = add_direction(train)\n",
    "test = add_direction(test)"
   ]
  },
  {
   "cell_type": "code",
   "execution_count": 22,
   "metadata": {},
   "outputs": [],
   "source": [
    "def add_time_stats(df):\n",
    "    for col in ['hr','dow']:\n",
    "        colname = 'mode_'+col+'_clicks'\n",
    "        subset = train[(train['label'] == 1)]\n",
    "        temp_1 = subset.groupby( [col], as_index = False).agg({'sid':len}).rename(columns = {'sid':col+'_clicks'})\n",
    "        temp_2 = subset.groupby( [col, 'transport_mode'], as_index = False)\\\n",
    "                .agg({'sid':len}).rename(columns = {'sid':colname})\n",
    "        temp = temp_1.merge(temp_2, on = col)\n",
    "        temp[colname] = temp[colname] / temp[col+'_clicks']\n",
    "        temp[colname] = temp[colname].fillna(0)\n",
    "        del temp[col+'_clicks']\n",
    "        df = df.merge(temp, on = ['transport_mode', col], how = 'left')\n",
    "    return df"
   ]
  },
  {
   "cell_type": "code",
   "execution_count": 24,
   "metadata": {},
   "outputs": [
    {
     "name": "stdout",
     "output_type": "stream",
     "text": [
      "CPU times: user 6.74 s, sys: 5.63 s, total: 12.4 s\n",
      "Wall time: 12.4 s\n"
     ]
    }
   ],
   "source": [
    "%%time\n",
    "train = add_time_stats(train)\n",
    "test = add_time_stats(test)"
   ]
  },
  {
   "cell_type": "code",
   "execution_count": 25,
   "metadata": {},
   "outputs": [],
   "source": [
    "def add_num_plans(df):\n",
    "    num_plans = df.groupby(['sid'], as_index = False)['rank'].agg({'num_plans':lambda x: max(x) + 1})\n",
    "    df = df.merge(num_plans, how = 'left', on = 'sid')\n",
    "    return df"
   ]
  },
  {
   "cell_type": "code",
   "execution_count": 26,
   "metadata": {},
   "outputs": [
    {
     "name": "stdout",
     "output_type": "stream",
     "text": [
      "CPU times: user 10.8 s, sys: 3.19 s, total: 14 s\n",
      "Wall time: 14 s\n"
     ]
    }
   ],
   "source": [
    "%%time\n",
    "train = add_num_plans(train)\n",
    "test = add_num_plans(test)"
   ]
  },
  {
   "cell_type": "code",
   "execution_count": 28,
   "metadata": {},
   "outputs": [],
   "source": [
    "def add_dummy(df, col, prefix):\n",
    "    temp = pd.get_dummies(df[col], prefix=prefix)\n",
    "    df = pd.concat([df, temp], axis = 1)\n",
    "    return df"
   ]
  },
  {
   "cell_type": "code",
   "execution_count": 29,
   "metadata": {},
   "outputs": [
    {
     "name": "stdout",
     "output_type": "stream",
     "text": [
      "CPU times: user 2.01 s, sys: 1.66 s, total: 3.67 s\n",
      "Wall time: 3.67 s\n"
     ]
    }
   ],
   "source": [
    "%%time\n",
    "train = add_dummy(train, 'weather', 'weather')\n",
    "test = add_dummy(test, 'weather', 'weather')"
   ]
  },
  {
   "cell_type": "code",
   "execution_count": null,
   "metadata": {},
   "outputs": [],
   "source": [
    "%%time\n",
    "train = add_dummy(train, 'weather', 'weather')\n",
    "test = add_dummy(test, 'weather', 'weather')"
   ]
  },
  {
   "cell_type": "code",
   "execution_count": 1645,
   "metadata": {},
   "outputs": [
    {
     "name": "stdout",
     "output_type": "stream",
     "text": [
      "CPU times: user 998 ms, sys: 810 ms, total: 1.81 s\n",
      "Wall time: 1.81 s\n"
     ]
    }
   ],
   "source": [
    "%%time\n",
    "train = add_dummy(train, 'transport_mode', 'mode')\n",
    "test = add_dummy(test, 'transport_mode', 'mode')"
   ]
  },
  {
   "cell_type": "code",
   "execution_count": 30,
   "metadata": {},
   "outputs": [],
   "source": [
    "def add_max_min(df):\n",
    "    cols = ['eta','distance','price']\n",
    "    temp_columns = ['sid'] + [x + '_' + y for x in cols for y in ['min', 'max']]\n",
    "    temp = df.groupby('sid', as_index = False).agg({'eta':[min, max], 'distance':[min, max], 'price':[min, max]})\n",
    "    temp.columns = temp.columns.droplevel()\n",
    "    temp.columns = temp_columns\n",
    "    \n",
    "    df = df.merge(temp, on = 'sid')\n",
    "    for col in cols:\n",
    "        for t in ['max', 'min']:\n",
    "            df[col + '_' + t] = df[col] == df[col + '_' + t]\n",
    "    \n",
    "    return df"
   ]
  },
  {
   "cell_type": "code",
   "execution_count": 31,
   "metadata": {},
   "outputs": [
    {
     "name": "stdout",
     "output_type": "stream",
     "text": [
      "CPU times: user 5.76 s, sys: 4.59 s, total: 10.3 s\n",
      "Wall time: 10.3 s\n"
     ]
    }
   ],
   "source": [
    "%%time\n",
    "train = add_max_min(train)\n",
    "test = add_max_min(test)"
   ]
  },
  {
   "cell_type": "code",
   "execution_count": 1256,
   "metadata": {},
   "outputs": [],
   "source": [
    "def add_avg_diff(df):\n",
    "    cols = ['eta','distance','price']\n",
    "    temp_columns = ['sid'] + [x + '_avg_diff' for x in cols]\n",
    "    temp = df.groupby('sid', as_index = False).agg({'eta':np.mean, 'distance':np.mean, 'price':np.mean})\n",
    "    temp.columns = temp_columns\n",
    "    \n",
    "    df = df.merge(temp, on = 'sid')\n",
    "    for col in cols:\n",
    "        avg = df[col + '_avg_diff']\n",
    "        df[col + '_avg_diff'] = df[col] - avg\n",
    "        df[col + '_avg_diff_per'] = (df[col] - avg) / (avg + 0.001)\n",
    "    \n",
    "    return df"
   ]
  },
  {
   "cell_type": "code",
   "execution_count": 33,
   "metadata": {},
   "outputs": [
    {
     "name": "stdout",
     "output_type": "stream",
     "text": [
      "CPU times: user 5.16 s, sys: 4.4 s, total: 9.57 s\n",
      "Wall time: 9.23 s\n"
     ]
    }
   ],
   "source": [
    "%%time\n",
    "train = add_avg_diff(train)\n",
    "test = add_avg_diff(test)"
   ]
  },
  {
   "cell_type": "code",
   "execution_count": 34,
   "metadata": {},
   "outputs": [],
   "source": [
    "def add_other_modes(df):\n",
    "    temp = df.groupby('sid', as_index=False)['transport_mode']\\\n",
    "            .agg({'mode_list_from_0':lambda x: [xx for xx in x]})\n",
    "    df = df.merge(temp, on = 'sid')\n",
    "    temp = df.groupby('sid', as_index=False)['transport_mode']\\\n",
    "            .agg({'mode_list':lambda x: ','.join(sorted(x.astype(str), key = lambda x:int(x)))})\n",
    "    df = df.merge(temp, on = 'sid')\n",
    "    output = []\n",
    "    for this_mode, all_modes in zip(df['transport_mode'], df['mode_list_from_0']):\n",
    "        other_modes = [x for x in all_modes if x != this_mode]\n",
    "        temp = [0] * 11\n",
    "        for other_mode in other_modes:\n",
    "            temp[other_mode - 1] = 1\n",
    "        output.append(temp)\n",
    "        \n",
    "    output = pd.DataFrame(output, columns = ['other_mode_' + str(i) for i in range(1,12)])\n",
    "    df = pd.concat([df, output], axis = 1)\n",
    "    return df"
   ]
  },
  {
   "cell_type": "code",
   "execution_count": 35,
   "metadata": {},
   "outputs": [
    {
     "name": "stdout",
     "output_type": "stream",
     "text": [
      "CPU times: user 2min 40s, sys: 12.9 s, total: 2min 53s\n",
      "Wall time: 2min 53s\n"
     ]
    }
   ],
   "source": [
    "%%time\n",
    "train = add_other_modes(train)\n",
    "test = add_other_modes(test)"
   ]
  },
  {
   "cell_type": "code",
   "execution_count": 36,
   "metadata": {},
   "outputs": [],
   "source": [
    "def add_mode_clicks(df):\n",
    "    temp = pd.DataFrame(train[(train['label'] == 1)]['transport_mode'].value_counts().reset_index())\n",
    "    temp.columns = ['transport_mode', 'num_clicks']\n",
    "    temp['mode_per_click'] = temp['num_clicks'] / sum(temp['num_clicks']) * 100\n",
    "    del temp['num_clicks']\n",
    "    df = df.merge(temp, on = 'transport_mode')\n",
    "    return df"
   ]
  },
  {
   "cell_type": "code",
   "execution_count": 37,
   "metadata": {},
   "outputs": [
    {
     "name": "stdout",
     "output_type": "stream",
     "text": [
      "CPU times: user 12.4 s, sys: 6.87 s, total: 19.2 s\n",
      "Wall time: 19.2 s\n"
     ]
    }
   ],
   "source": [
    "%%time\n",
    "train = add_mode_clicks(train)\n",
    "test = add_mode_clicks(test)"
   ]
  },
  {
   "cell_type": "code",
   "execution_count": 38,
   "metadata": {},
   "outputs": [],
   "source": [
    "def add_rank_mode_clicks(df):\n",
    "    subset = train[(train['label'] == 1) & (train['num_plans'] > 1)]\n",
    "    temp_1 = subset.groupby( ['rank'], as_index = False).agg({'sid':len}).rename(columns = {'sid':'rank_clicks'})\n",
    "    temp_2 = subset.groupby( ['rank', 'transport_mode'], as_index = False)\\\n",
    "            .agg({'sid':len}).rename(columns = {'sid':'mode_rank_clicks'})\n",
    "    temp = temp_1.merge(temp_2, on = 'rank')\n",
    "    temp['mode_rank_clicks'] = temp['mode_rank_clicks'] / temp['rank_clicks']\n",
    "    temp['mode_rank_clicks'] = temp['mode_rank_clicks'].fillna(0)\n",
    "    del temp['rank_clicks']\n",
    "    df = df.merge(temp, on = ['transport_mode', 'rank'], how = 'left')\n",
    "    return df"
   ]
  },
  {
   "cell_type": "code",
   "execution_count": 39,
   "metadata": {},
   "outputs": [
    {
     "name": "stdout",
     "output_type": "stream",
     "text": [
      "CPU times: user 7.83 s, sys: 5.8 s, total: 13.6 s\n",
      "Wall time: 13.6 s\n"
     ]
    }
   ],
   "source": [
    "%%time\n",
    "train = add_rank_mode_clicks(train)\n",
    "test = add_rank_mode_clicks(test)"
   ]
  },
  {
   "cell_type": "code",
   "execution_count": 40,
   "metadata": {},
   "outputs": [],
   "source": [
    "def add_mode_rank_per_click(df):\n",
    "    temp = train[(train['num_plans'] > 1)].groupby( ['rank', 'transport_mode'], as_index = False)\\\n",
    "        .agg({'label':np.mean}).rename(columns = {'label':'mode_rank_per_click'})\n",
    "    df = df.merge(temp, on = ['transport_mode', 'rank'], how = 'left')\n",
    "    return df"
   ]
  },
  {
   "cell_type": "code",
   "execution_count": 41,
   "metadata": {},
   "outputs": [
    {
     "name": "stdout",
     "output_type": "stream",
     "text": [
      "CPU times: user 9.19 s, sys: 6.71 s, total: 15.9 s\n",
      "Wall time: 15.9 s\n"
     ]
    }
   ],
   "source": [
    "%%time\n",
    "train = add_mode_rank_per_click(train)\n",
    "test = add_mode_rank_per_click(test)"
   ]
  },
  {
   "cell_type": "code",
   "execution_count": 1995,
   "metadata": {},
   "outputs": [],
   "source": [
    "def add_weight(df, add_weight = False):\n",
    "    if add_weight == False:\n",
    "        return df\n",
    "    else:\n",
    "        temp = pd.DataFrame(train[(train['label'] == 1)]['transport_mode'].value_counts()).reset_index().sort_values(by = 'index')\n",
    "        temp.columns = ['transport_mode', 'weight']\n",
    "        temp['weight'] = np.sqrt(1 / temp['weight'] * 10000)\n",
    "        temp.loc[temp['transport_mode'] == 3, 'weight'] = temp.loc[temp['transport_mode'] == 3, 'weight'] * 3\n",
    "        #temp.loc[temp['transport_mode'] == 3, 'weight'] = temp.loc[temp['transport_mode'] == 4, 'weight'] * 3\n",
    "        #temp.loc[temp['transport_mode'] == 3, 'weight'] = temp.loc[temp['transport_mode'] == 9, 'weight'] * 2\n",
    "        temp = temp.merge(train[train['label'] == 1][['sid','transport_mode']], on = 'transport_mode')[['sid','weight']]\n",
    "        temp['label'] = 1\n",
    "        df = df.merge(temp, on = ['sid','label'], how = 'left')\n",
    "        df['weight'] = df['weight'].fillna(1)\n",
    "        return df"
   ]
  },
  {
   "cell_type": "code",
   "execution_count": 492,
   "metadata": {
    "deletable": false,
    "editable": false,
    "run_control": {
     "frozen": true
    }
   },
   "outputs": [],
   "source": [
    "def add_weight(df, add_weight = False):\n",
    "    if add_weight == False:\n",
    "        return df\n",
    "    else:\n",
    "        temp = train.groupby(['transport_mode'], as_index = False)['label'].agg({'count':len, 'positive':sum})\n",
    "        temp['weight'] = 2 * (temp['count'] - temp['positive']) / temp['positive']\n",
    "        temp['label'] = 1\n",
    "        del temp['count']\n",
    "        del temp['positive']\n",
    "        df = df.merge(temp, on = ['transport_mode','label'], how = 'left')\n",
    "        df['weight'] = df['weight'].fillna(1)\n",
    "        return df"
   ]
  },
  {
   "cell_type": "code",
   "execution_count": 1379,
   "metadata": {
    "deletable": false,
    "editable": false,
    "run_control": {
     "frozen": true
    }
   },
   "outputs": [],
   "source": [
    "def add_weight(df, add_weight = False):\n",
    "    if add_weight == False:\n",
    "        return df\n",
    "    else:\n",
    "        df['weight'] = 1\n",
    "        df.loc[(df['label'] == 1) & (df['transport_mode']== 3),'weight'] = 5\n",
    "        df.loc[(df['label'] == 1) & (df['transport_mode']== 2),'weight'] = 0.5\n",
    "        df.loc[(df['label'] == 0) & (df['transport_mode']== 2),'weight'] = 3\n",
    "        df.loc[(df['label'] == 1) & (df['transport_mode']== 7),'weight'] = 0.5\n",
    "        df.loc[(df['label'] == 1) & (df['transport_mode']== 4),'weight'] = 3\n",
    "        df.loc[(df['label'] == 1) & (df['transport_mode']== 6),'weight'] = 3\n",
    "        df.loc[(df['label'] == 1) & (df['transport_mode']== 9),'weight'] = 5\n",
    "        return df"
   ]
  },
  {
   "cell_type": "code",
   "execution_count": 1996,
   "metadata": {},
   "outputs": [],
   "source": [
    "if 'weight' in train.columns:\n",
    "    del train['weight']"
   ]
  },
  {
   "cell_type": "code",
   "execution_count": 1997,
   "metadata": {},
   "outputs": [
    {
     "name": "stdout",
     "output_type": "stream",
     "text": [
      "CPU times: user 8.25 s, sys: 4.66 s, total: 12.9 s\n",
      "Wall time: 12.9 s\n"
     ]
    }
   ],
   "source": [
    "%%time\n",
    "train = add_weight(train, add_weight=True)"
   ]
  },
  {
   "cell_type": "code",
   "execution_count": 1341,
   "metadata": {},
   "outputs": [],
   "source": [
    "def add_mode_list_mode_click(df):\n",
    "    temp   = train[(train['label'] == 1)][['sid','transport_mode', 'mode_list']]\n",
    "    temp_3 = temp.groupby(['mode_list'], as_index=False)['sid'].agg({'tot_clicks':len})\n",
    "    temp_4 = temp.groupby(['mode_list','transport_mode'], as_index=False)['sid']\\\n",
    "                .agg({'mode_list_mode_click':len})\n",
    "    output = temp_3.merge(temp_4, on = 'mode_list')\n",
    "    output['mode_list_mode_click'] = output['mode_list_mode_click'] / output['tot_clicks']\n",
    "    df = df.merge(output, on = ['mode_list', 'transport_mode'])\n",
    "    return df"
   ]
  },
  {
   "cell_type": "code",
   "execution_count": 1342,
   "metadata": {},
   "outputs": [
    {
     "name": "stdout",
     "output_type": "stream",
     "text": [
      "CPU times: user 12.6 s, sys: 9.09 s, total: 21.7 s\n",
      "Wall time: 21.7 s\n"
     ]
    }
   ],
   "source": [
    "%%time\n",
    "train = add_mode_list_mode_click(train)\n",
    "test = add_mode_list_mode_click(test)"
   ]
  },
  {
   "cell_type": "code",
   "execution_count": 1343,
   "metadata": {},
   "outputs": [],
   "source": [
    "def add_all_min(df):\n",
    "    df['all_min'] = (df['eta_avg_diff']<0).astype(int) + (df['distance_avg_diff']<0).astype(int) + (df['price_avg_diff']<0).astype(int)\n",
    "    return df"
   ]
  },
  {
   "cell_type": "code",
   "execution_count": 48,
   "metadata": {},
   "outputs": [
    {
     "name": "stdout",
     "output_type": "stream",
     "text": [
      "CPU times: user 56.9 ms, sys: 7.38 ms, total: 64.3 ms\n",
      "Wall time: 31.5 ms\n"
     ]
    }
   ],
   "source": [
    "%%time\n",
    "train = add_all_min(train)\n",
    "test = add_all_min(test)"
   ]
  },
  {
   "cell_type": "code",
   "execution_count": 1859,
   "metadata": {},
   "outputs": [],
   "source": [
    "def add_divide(df):\n",
    "    df['eta_per_distance'] = df['eta'] / (df['distance'] + 0.001)\n",
    "    df['price_per_distance'] = df['price'] / (df['distance'] + 0.001)\n",
    "    df['price_per_eta'] = df['price'] / (df['eta'] + 0.001)\n",
    "    \n",
    "    temp = df.groupby('transport_mode', as_index = 'False').agg({'eta_per_distance':np.mean,\n",
    "                                                                    'price_per_distance':np.mean,\n",
    "                                                                    'price_per_eta':np.mean}).reset_index()\n",
    "    temp.columns  = ['transport_mode', 'eta_dis_avg','price_dis_avg','price_eta_avg']\n",
    "    \n",
    "    df = df.merge(temp, on = 'transport_mode')\n",
    "    df['eta_per_distance'] = df['eta_per_distance'] - df['eta_dis_avg']\n",
    "    df['price_per_distance'] = df['price_per_distance'] - df['price_dis_avg']\n",
    "    df['price_per_eta'] = df['price_per_eta'] - df['price_eta_avg']\n",
    "                           \n",
    "    del df['eta_dis_avg']                                                     \n",
    "    del df['price_dis_avg']\n",
    "    del df['price_eta_avg']\n",
    "    return df"
   ]
  },
  {
   "cell_type": "code",
   "execution_count": 1860,
   "metadata": {},
   "outputs": [
    {
     "name": "stdout",
     "output_type": "stream",
     "text": [
      "CPU times: user 7.63 s, sys: 6.47 s, total: 14.1 s\n",
      "Wall time: 13.8 s\n"
     ]
    }
   ],
   "source": [
    "%%time\n",
    "train = add_divide(train)\n",
    "test = add_divide(test)"
   ]
  },
  {
   "cell_type": "code",
   "execution_count": 883,
   "metadata": {},
   "outputs": [],
   "source": [
    "train['price_NA'] = train['price'] == -1\n",
    "test['price_NA'] = test['price'] == -1"
   ]
  },
  {
   "cell_type": "code",
   "execution_count": 1433,
   "metadata": {},
   "outputs": [],
   "source": [
    "def add_time(df):\n",
    "    df['is_night'] = df['hr'].isin([23,0,1,2,3,4,5])\n",
    "    df['is_weekend'] = df['dow'].isin([4,5])\n",
    "    return df"
   ]
  },
  {
   "cell_type": "code",
   "execution_count": 1434,
   "metadata": {},
   "outputs": [
    {
     "name": "stdout",
     "output_type": "stream",
     "text": [
      "CPU times: user 27.7 ms, sys: 884 µs, total: 28.6 ms\n",
      "Wall time: 27.7 ms\n"
     ]
    }
   ],
   "source": [
    "%%time\n",
    "train = add_time(train)\n",
    "test = add_time(test)"
   ]
  },
  {
   "cell_type": "markdown",
   "metadata": {},
   "source": [
    "# Save intermediate data to pickle"
   ]
  },
  {
   "cell_type": "code",
   "execution_count": 1998,
   "metadata": {},
   "outputs": [
    {
     "name": "stdout",
     "output_type": "stream",
     "text": [
      "CPU times: user 2.97 s, sys: 1.54 s, total: 4.51 s\n",
      "Wall time: 4.85 s\n"
     ]
    }
   ],
   "source": [
    "%%time\n",
    "data = {'train': train, 'test':test, 'all_test_sid':set(test_queries['sid'])}\n",
    "with open('./processed_data/data.pickle', 'wb') as handle:\n",
    "    pickle.dump(data, handle)"
   ]
  },
  {
   "cell_type": "code",
   "execution_count": 1999,
   "metadata": {},
   "outputs": [
    {
     "name": "stdout",
     "output_type": "stream",
     "text": [
      "CPU times: user 1.54 s, sys: 1.86 s, total: 3.4 s\n",
      "Wall time: 3.4 s\n"
     ]
    }
   ],
   "source": [
    "%%time\n",
    "with open('./processed_data/data.pickle', 'rb') as handle:\n",
    "    data = pickle.load(handle)\n",
    "\n",
    "train = data['train']\n",
    "test = data['test']"
   ]
  },
  {
   "cell_type": "markdown",
   "metadata": {},
   "source": [
    "# Scale/Standardize"
   ]
  },
  {
   "cell_type": "code",
   "execution_count": 2000,
   "metadata": {},
   "outputs": [],
   "source": [
    "train_ = train[(train['num_plans'] > 1)]\n",
    "test_ = test.copy()"
   ]
  },
  {
   "cell_type": "code",
   "execution_count": 2001,
   "metadata": {},
   "outputs": [],
   "source": [
    "continuous_features = [\n",
    " 'price_avg_diff',\n",
    " 'price_avg_diff_per',\n",
    " 'eta_per_distance',\n",
    " 'price_per_distance',\n",
    " 'price_per_eta',\n",
    " 'eta_avg_diff',\n",
    " 'eta_avg_diff_per',\n",
    " 'distance_avg_diff',\n",
    " 'distance_avg_diff_per',\n",
    " 'O_lon',\n",
    " 'O_lat',\n",
    " 'D_lat',\n",
    " 'D_lon',\n",
    " 'lat_diff',\n",
    " 'lon_diff'\n",
    "]"
   ]
  },
  {
   "cell_type": "code",
   "execution_count": 1865,
   "metadata": {
    "deletable": false,
    "editable": false,
    "run_control": {
     "frozen": true
    }
   },
   "outputs": [
    {
     "name": "stdout",
     "output_type": "stream",
     "text": [
      "price_avg_diff -213.96073768060643 1504.3676506530935\n",
      "price_avg_diff_per -1.1051251617994144 1.2903448333471232\n",
      "eta_per_distance -0.3604407633620088 0.8556338678943897\n",
      "price_per_distance -10.54305936902242 27.721991364400033\n",
      "price_per_eta -1.0744730330018974 2.7653061851593463\n",
      "eta_avg_diff -26.25954571768727 739.8777191176094\n",
      "eta_avg_diff_per -0.4756775976184652 6.27371396960742\n",
      "distance_avg_diff -54.598561682182556 1023.9481207687788\n",
      "distance_avg_diff_per -2.5791468239526583 29.756440082779378\n",
      "O_lon 116.38354296405443 0.07391321544893589\n",
      "O_lat 39.93695284944339 0.06283527059547236\n",
      "D_lat 39.9364300017024 0.06166410588138646\n",
      "D_lon 116.38280717294954 0.07418815778996804\n",
      "lat_diff -0.0008574475124226891 0.0652846050789256\n",
      "lon_diff 0.0014577024509894877 0.0800510727122792\n"
     ]
    }
   ],
   "source": [
    "for col in continuous_features:\n",
    "    data = pd.concat([train_[col], test_[col]])\n",
    "    data = data[(data < data.quantile(.95)) & (data > data.quantile(.05))]\n",
    "    mean_ = data.mean()\n",
    "    std_  = data.std()\n",
    "    train_[col] = np.minimum(mean_ + 3 * std_, train_[col])\n",
    "    train_[col] = np.maximum(mean_ - 3 * std_, train_[col])\n",
    "    test_[col]  = np.minimum(mean_ + 3 * std_, test_[col])\n",
    "    test_[col]  = np.maximum(mean_ - 3 * std_, test_[col])\n",
    "    print(col, mean_, std_)"
   ]
  },
  {
   "cell_type": "markdown",
   "metadata": {},
   "source": [
    "# Baseline LGB model"
   ]
  },
  {
   "cell_type": "markdown",
   "metadata": {},
   "source": [
    "## Train/Validation Split"
   ]
  },
  {
   "cell_type": "code",
   "execution_count": 2002,
   "metadata": {},
   "outputs": [],
   "source": [
    "exclude_columns = ['sid','pid','profile',\n",
    "                   'transport_mode','label','weight','tot_clicks',\n",
    "                   'mode_list','mode_list_from_0','weather_xq', \n",
    "                   'weather','date', 'weather_xq', 'weather_xydy',\n",
    "                    #'price_avg_diff_per',\n",
    "                    # 'eta_avg_diff_per',\n",
    "                    # 'distance_avg_diff_per',\n",
    "                   'mode_list_mode_click',\n",
    "                    #'eta_per_distance',\n",
    "                    #'price_per_distance',\n",
    "                    #'price_per_eta',\n",
    "                   #'mode_rank_per_click',\n",
    "                   #'mode_rank_clicks',\n",
    "                   #'rank',\n",
    "                   #'mode_per_click'\n",
    "                   #'eta','distance','price'\n",
    "                  ] \n",
    "features = [x for x in train_.columns if x not in exclude_columns]"
   ]
  },
  {
   "cell_type": "code",
   "execution_count": 2003,
   "metadata": {},
   "outputs": [],
   "source": [
    "sid_train = list(set(train_[train_['date'] <  datetime.date(2018, 11, 24)]['sid']))\n",
    "sid_eval  = list(set(train_[train_['date'] >= datetime.date(2018, 11, 24)]['sid']))"
   ]
  },
  {
   "cell_type": "code",
   "execution_count": 1867,
   "metadata": {
    "deletable": false,
    "editable": false,
    "run_control": {
     "frozen": true
    }
   },
   "outputs": [],
   "source": [
    "sid_train, sid_eval = train_test_split(list(set(train_['sid'])),\n",
    "                                       test_size = 0.15, \n",
    "                                       random_state = 88)"
   ]
  },
  {
   "cell_type": "code",
   "execution_count": 2004,
   "metadata": {},
   "outputs": [],
   "source": [
    "T = train_[train_['sid'].isin(sid_train)]\n",
    "V = train_[train_['sid'].isin(sid_eval)]"
   ]
  },
  {
   "cell_type": "code",
   "execution_count": 2005,
   "metadata": {},
   "outputs": [],
   "source": [
    "X_train = T\n",
    "X_eval  = V\n",
    "y_train = T['label']\n",
    "y_eval  = V['label']"
   ]
  },
  {
   "cell_type": "markdown",
   "metadata": {},
   "source": [
    "## Model Training"
   ]
  },
  {
   "cell_type": "code",
   "execution_count": 2006,
   "metadata": {},
   "outputs": [],
   "source": [
    "params = {\n",
    "    'boosting_type': 'gbdt',\n",
    "    'objective': 'binary',\n",
    "    'metric': 'auc',\n",
    "    'num_leaves': 31,\n",
    "    'learning_rate': 0.1,\n",
    "    'feature_fraction': 1.0,\n",
    "    'bagging_fraction': 1.0,\n",
    "    'bagging_seed':0,\n",
    "    'bagging_freq': 1,\n",
    "    'verbose': 1,\n",
    "    #'reg_alpha':1,\n",
    "    #'reg_lambda':1\n",
    "}"
   ]
  },
  {
   "cell_type": "code",
   "execution_count": 2007,
   "metadata": {},
   "outputs": [],
   "source": [
    "lgb_train = lgb.Dataset(X_train[features], y_train, weight = X_train['weight'])\n",
    "lgb_evals = lgb.Dataset(X_eval[features], y_eval, reference = lgb_train)"
   ]
  },
  {
   "cell_type": "code",
   "execution_count": 2008,
   "metadata": {},
   "outputs": [
    {
     "name": "stdout",
     "output_type": "stream",
     "text": [
      "Training until validation scores don't improve for 100 rounds.\n",
      "[300]\ttrain's auc: 0.883092\tvalid's auc: 0.915589\n",
      "[600]\ttrain's auc: 0.891107\tvalid's auc: 0.916465\n",
      "[900]\ttrain's auc: 0.897642\tvalid's auc: 0.916943\n",
      "[1200]\ttrain's auc: 0.903823\tvalid's auc: 0.917232\n",
      "Early stopping, best iteration is:\n",
      "[1109]\ttrain's auc: 0.901932\tvalid's auc: 0.917332\n",
      "CPU times: user 41min 45s, sys: 1min 13s, total: 42min 58s\n",
      "Wall time: 4min 7s\n"
     ]
    }
   ],
   "source": [
    "%%time\n",
    "gbm_all = lgb.train(params,\n",
    "                lgb_train,\n",
    "                num_boost_round = 3000,\n",
    "                valid_sets =[ lgb_train,lgb_evals],\n",
    "                valid_names = ['train','valid'],\n",
    "                early_stopping_rounds = 100,\n",
    "                verbose_eval = 300\n",
    "                )"
   ]
  },
  {
   "cell_type": "code",
   "execution_count": 2022,
   "metadata": {},
   "outputs": [],
   "source": [
    "feature_importance = sorted([(x,y) for x, y in zip(gbm_all.feature_name(), gbm_all.feature_importance())],\n",
    "                            key = lambda x: x[1], reverse=True)"
   ]
  },
  {
   "cell_type": "code",
   "execution_count": 334,
   "metadata": {
    "deletable": false,
    "editable": false,
    "run_control": {
     "frozen": true
    }
   },
   "outputs": [],
   "source": [
    "top_features = [x for x, y in feature_importance][:50]"
   ]
  },
  {
   "cell_type": "code",
   "execution_count": 2023,
   "metadata": {},
   "outputs": [
    {
     "data": {
      "text/plain": [
       "<matplotlib.axes._subplots.AxesSubplot at 0x2d225d400>"
      ]
     },
     "execution_count": 2023,
     "metadata": {},
     "output_type": "execute_result"
    },
    {
     "data": {
      "image/png": "[encoded data removed]",
      "text/plain": [
       "<Figure size 1080x576 with 1 Axes>"
      ]
     },
     "metadata": {
      "needs_background": "light"
     },
     "output_type": "display_data"
    }
   ],
   "source": [
    "lgb.plot_importance(gbm_all, figsize=(15,8), max_num_features = 30)"
   ]
  },
  {
   "cell_type": "markdown",
   "metadata": {},
   "source": [
    "**Generate predictions**"
   ]
  },
  {
   "cell_type": "code",
   "execution_count": 2011,
   "metadata": {},
   "outputs": [],
   "source": [
    "def get_best_mode_dt(gp):\n",
    "    result = [(x, y) for x, y in zip(gp['transport_mode'], gp['pred_prob'])]\n",
    "    result.sort(key = lambda x: x[1], reverse = True)\n",
    "    return result[0][0]"
   ]
  },
  {
   "cell_type": "code",
   "execution_count": 2012,
   "metadata": {},
   "outputs": [],
   "source": [
    "def get_predictions_lgb(df, gbm, features):\n",
    "    pred = gbm.predict(df[features])\n",
    "    df['pred_prob'] = pred\n",
    "    output = pd.DataFrame(df.groupby('sid').apply(get_best_mode_dt)).reset_index()\n",
    "    output.columns = ['sid', 'recommend_mode']\n",
    "    return df, output "
   ]
  },
  {
   "cell_type": "markdown",
   "metadata": {},
   "source": [
    "## Apply to validation set"
   ]
  },
  {
   "cell_type": "code",
   "execution_count": 2013,
   "metadata": {},
   "outputs": [],
   "source": [
    "X_eval, output = get_predictions_lgb(X_eval, gbm_all, features)"
   ]
  },
  {
   "cell_type": "code",
   "execution_count": 2014,
   "metadata": {},
   "outputs": [
    {
     "data": {
      "text/plain": [
       "<matplotlib.axes._subplots.AxesSubplot at 0x1be836518>"
      ]
     },
     "execution_count": 2014,
     "metadata": {},
     "output_type": "execute_result"
    },
    {
     "data": {
      "image/png": "[encoded data removed]",
      "text/plain": [
       "<Figure size 432x288 with 1 Axes>"
      ]
     },
     "metadata": {
      "needs_background": "light"
     },
     "output_type": "display_data"
    }
   ],
   "source": [
    "sns.countplot(output['recommend_mode'], color = 'blue')"
   ]
  },
  {
   "cell_type": "code",
   "execution_count": 2015,
   "metadata": {},
   "outputs": [],
   "source": [
    "eval_true = X_eval[X_eval['label'] == 1][['sid','transport_mode']]\n",
    "eval_true.columns = ['sid','true']\n",
    "output.columns = ['sid', 'pred']\n",
    "eval_sum = eval_true.merge(output, on = 'sid')\\"
   ]
  },
  {
   "cell_type": "code",
   "execution_count": 2016,
   "metadata": {},
   "outputs": [],
   "source": [
    "weight_f1 = f1_score(eval_sum['true'], eval_sum['pred'], average = 'weighted')"
   ]
  },
  {
   "cell_type": "code",
   "execution_count": 2017,
   "metadata": {
    "scrolled": true
   },
   "outputs": [
    {
     "data": {
      "text/plain": [
       "0.7494839777320313"
      ]
     },
     "execution_count": 2017,
     "metadata": {},
     "output_type": "execute_result"
    }
   ],
   "source": [
    "weight_f1 #0.745, 0.747, 0.748"
   ]
  },
  {
   "cell_type": "code",
   "execution_count": 2018,
   "metadata": {},
   "outputs": [
    {
     "data": {
      "text/plain": [
       "<matplotlib.axes._subplots.AxesSubplot at 0x1e05ca5c0>"
      ]
     },
     "execution_count": 2018,
     "metadata": {},
     "output_type": "execute_result"
    },
    {
     "data": {
      "image/png": "[encoded data removed]",
      "text/plain": [
       "<Figure size 432x432 with 2 Axes>"
      ]
     },
     "metadata": {
      "needs_background": "light"
     },
     "output_type": "display_data"
    }
   ],
   "source": [
    "plot_confusion_matrix_(eval_sum['true'], eval_sum['pred'], classes=list(range(1,12)))"
   ]
  },
  {
   "cell_type": "markdown",
   "metadata": {},
   "source": [
    "## Apply to test set"
   ]
  },
  {
   "cell_type": "code",
   "execution_count": 2019,
   "metadata": {},
   "outputs": [
    {
     "name": "stdout",
     "output_type": "stream",
     "text": [
      "CPU times: user 43.7 s, sys: 1.62 s, total: 45.3 s\n",
      "Wall time: 16.6 s\n"
     ]
    }
   ],
   "source": [
    "%%time\n",
    "test_, output = get_predictions_lgb(test_, gbm_all, features)"
   ]
  },
  {
   "cell_type": "code",
   "execution_count": 900,
   "metadata": {
    "deletable": false,
    "editable": false,
    "run_control": {
     "frozen": true
    }
   },
   "outputs": [
    {
     "name": "stdout",
     "output_type": "stream",
     "text": [
      "CPU times: user 15.4 s, sys: 1.76 s, total: 17.2 s\n",
      "Wall time: 14.1 s\n"
     ]
    }
   ],
   "source": [
    "%%time\n",
    "data = {'gbm': gbm, 'features': features, 'train': train, 'test': test}\n",
    "with open('./model/model_0501_692.pickle', 'wb') as handle:\n",
    "    pickle.dump(data, handle)"
   ]
  },
  {
   "cell_type": "markdown",
   "metadata": {},
   "source": [
    "**Fill no-plan sessions with zeros**"
   ]
  },
  {
   "cell_type": "code",
   "execution_count": 2024,
   "metadata": {},
   "outputs": [],
   "source": [
    "set_1 = set(test_queries['sid'])\n",
    "set_2 = set(test_['sid'])\n",
    "no_click_sids = [x for x in set_1 if x not in set_2]\n",
    "temp = pd.DataFrame({'sid': no_click_sids, 'recommend_mode':0})\n",
    "output = pd.concat([output, temp], axis = 0, ignore_index=True)"
   ]
  },
  {
   "cell_type": "code",
   "execution_count": 2025,
   "metadata": {},
   "outputs": [
    {
     "data": {
      "text/plain": [
       "<matplotlib.axes._subplots.AxesSubplot at 0x1dd1d7898>"
      ]
     },
     "execution_count": 2025,
     "metadata": {},
     "output_type": "execute_result"
    },
    {
     "data": {
      "image/png": "[encoded data removed]",
      "text/plain": [
       "<Figure size 432x288 with 1 Axes>"
      ]
     },
     "metadata": {
      "needs_background": "light"
     },
     "output_type": "display_data"
    }
   ],
   "source": [
    "sns.countplot(output['recommend_mode'], color = 'blue')"
   ]
  },
  {
   "cell_type": "code",
   "execution_count": 1296,
   "metadata": {
    "deletable": false,
    "editable": false,
    "run_control": {
     "frozen": true
    }
   },
   "outputs": [
    {
     "data": {
      "text/plain": [
       "<matplotlib.axes._subplots.AxesSubplot at 0x1e9367eb8>"
      ]
     },
     "execution_count": 1296,
     "metadata": {},
     "output_type": "execute_result"
    },
    {
     "data": {
      "image/png": "[encoded data removed]",
      "text/plain": [
       "<Figure size 432x288 with 1 Axes>"
      ]
     },
     "metadata": {
      "needs_background": "light"
     },
     "output_type": "display_data"
    }
   ],
   "source": [
    "sns.countplot(temp['recommend_mode'])"
   ]
  },
  {
   "cell_type": "code",
   "execution_count": 2026,
   "metadata": {},
   "outputs": [],
   "source": [
    "def percent_counts(df):\n",
    "    temp = df.value_counts().reset_index()\n",
    "    temp.columns = ['mode','count']\n",
    "    temp['count'] = temp['count'] / sum(temp['count'])\n",
    "    display(temp)"
   ]
  },
  {
   "cell_type": "code",
   "execution_count": 2027,
   "metadata": {},
   "outputs": [
    {
     "data": {
      "text/html": [
       "<div>\n",
       "<style scoped>\n",
       "    .dataframe tbody tr th:only-of-type {\n",
       "        vertical-align: middle;\n",
       "    }\n",
       "\n",
       "    .dataframe tbody tr th {\n",
       "        vertical-align: top;\n",
       "    }\n",
       "\n",
       "    .dataframe thead th {\n",
       "        text-align: right;\n",
       "    }\n",
       "</style>\n",
       "<table border=\"1\" class=\"dataframe\">\n",
       "  <thead>\n",
       "    <tr style=\"text-align: right;\">\n",
       "      <th></th>\n",
       "      <th>mode</th>\n",
       "      <th>count</th>\n",
       "    </tr>\n",
       "  </thead>\n",
       "  <tbody>\n",
       "    <tr>\n",
       "      <th>0</th>\n",
       "      <td>2</td>\n",
       "      <td>0.301081</td>\n",
       "    </tr>\n",
       "    <tr>\n",
       "      <th>1</th>\n",
       "      <td>7</td>\n",
       "      <td>0.172519</td>\n",
       "    </tr>\n",
       "    <tr>\n",
       "      <th>2</th>\n",
       "      <td>1</td>\n",
       "      <td>0.155225</td>\n",
       "    </tr>\n",
       "    <tr>\n",
       "      <th>3</th>\n",
       "      <td>9</td>\n",
       "      <td>0.107788</td>\n",
       "    </tr>\n",
       "    <tr>\n",
       "      <th>4</th>\n",
       "      <td>5</td>\n",
       "      <td>0.104735</td>\n",
       "    </tr>\n",
       "    <tr>\n",
       "      <th>5</th>\n",
       "      <td>3</td>\n",
       "      <td>0.054322</td>\n",
       "    </tr>\n",
       "    <tr>\n",
       "      <th>6</th>\n",
       "      <td>10</td>\n",
       "      <td>0.032828</td>\n",
       "    </tr>\n",
       "    <tr>\n",
       "      <th>7</th>\n",
       "      <td>4</td>\n",
       "      <td>0.027807</td>\n",
       "    </tr>\n",
       "    <tr>\n",
       "      <th>8</th>\n",
       "      <td>6</td>\n",
       "      <td>0.026168</td>\n",
       "    </tr>\n",
       "    <tr>\n",
       "      <th>9</th>\n",
       "      <td>11</td>\n",
       "      <td>0.013432</td>\n",
       "    </tr>\n",
       "    <tr>\n",
       "      <th>10</th>\n",
       "      <td>8</td>\n",
       "      <td>0.004096</td>\n",
       "    </tr>\n",
       "  </tbody>\n",
       "</table>\n",
       "</div>"
      ],
      "text/plain": [
       "    mode     count\n",
       "0      2  0.301081\n",
       "1      7  0.172519\n",
       "2      1  0.155225\n",
       "3      9  0.107788\n",
       "4      5  0.104735\n",
       "5      3  0.054322\n",
       "6     10  0.032828\n",
       "7      4  0.027807\n",
       "8      6  0.026168\n",
       "9     11  0.013432\n",
       "10     8  0.004096"
      ]
     },
     "metadata": {},
     "output_type": "display_data"
    }
   ],
   "source": [
    "percent_counts(train[train['label'] == 1]['transport_mode'])"
   ]
  },
  {
   "cell_type": "code",
   "execution_count": 2028,
   "metadata": {},
   "outputs": [
    {
     "data": {
      "text/html": [
       "<div>\n",
       "<style scoped>\n",
       "    .dataframe tbody tr th:only-of-type {\n",
       "        vertical-align: middle;\n",
       "    }\n",
       "\n",
       "    .dataframe tbody tr th {\n",
       "        vertical-align: top;\n",
       "    }\n",
       "\n",
       "    .dataframe thead th {\n",
       "        text-align: right;\n",
       "    }\n",
       "</style>\n",
       "<table border=\"1\" class=\"dataframe\">\n",
       "  <thead>\n",
       "    <tr style=\"text-align: right;\">\n",
       "      <th></th>\n",
       "      <th>mode</th>\n",
       "      <th>count</th>\n",
       "    </tr>\n",
       "  </thead>\n",
       "  <tbody>\n",
       "    <tr>\n",
       "      <th>0</th>\n",
       "      <td>2</td>\n",
       "      <td>0.349526</td>\n",
       "    </tr>\n",
       "    <tr>\n",
       "      <th>1</th>\n",
       "      <td>7</td>\n",
       "      <td>0.225380</td>\n",
       "    </tr>\n",
       "    <tr>\n",
       "      <th>2</th>\n",
       "      <td>1</td>\n",
       "      <td>0.176978</td>\n",
       "    </tr>\n",
       "    <tr>\n",
       "      <th>3</th>\n",
       "      <td>5</td>\n",
       "      <td>0.109388</td>\n",
       "    </tr>\n",
       "    <tr>\n",
       "      <th>4</th>\n",
       "      <td>10</td>\n",
       "      <td>0.037742</td>\n",
       "    </tr>\n",
       "    <tr>\n",
       "      <th>5</th>\n",
       "      <td>0</td>\n",
       "      <td>0.037336</td>\n",
       "    </tr>\n",
       "    <tr>\n",
       "      <th>6</th>\n",
       "      <td>3</td>\n",
       "      <td>0.029817</td>\n",
       "    </tr>\n",
       "    <tr>\n",
       "      <th>7</th>\n",
       "      <td>9</td>\n",
       "      <td>0.010660</td>\n",
       "    </tr>\n",
       "    <tr>\n",
       "      <th>8</th>\n",
       "      <td>8</td>\n",
       "      <td>0.009017</td>\n",
       "    </tr>\n",
       "    <tr>\n",
       "      <th>9</th>\n",
       "      <td>4</td>\n",
       "      <td>0.006178</td>\n",
       "    </tr>\n",
       "    <tr>\n",
       "      <th>10</th>\n",
       "      <td>6</td>\n",
       "      <td>0.004233</td>\n",
       "    </tr>\n",
       "    <tr>\n",
       "      <th>11</th>\n",
       "      <td>11</td>\n",
       "      <td>0.003744</td>\n",
       "    </tr>\n",
       "  </tbody>\n",
       "</table>\n",
       "</div>"
      ],
      "text/plain": [
       "    mode     count\n",
       "0      2  0.349526\n",
       "1      7  0.225380\n",
       "2      1  0.176978\n",
       "3      5  0.109388\n",
       "4     10  0.037742\n",
       "5      0  0.037336\n",
       "6      3  0.029817\n",
       "7      9  0.010660\n",
       "8      8  0.009017\n",
       "9      4  0.006178\n",
       "10     6  0.004233\n",
       "11    11  0.003744"
      ]
     },
     "metadata": {},
     "output_type": "display_data"
    }
   ],
   "source": [
    "percent_counts(output['recommend_mode'])"
   ]
  },
  {
   "cell_type": "markdown",
   "metadata": {},
   "source": [
    "**Export csv**"
   ]
  },
  {
   "cell_type": "code",
   "execution_count": 2029,
   "metadata": {},
   "outputs": [],
   "source": [
    "time_ = str(datetime.datetime.now())\n",
    "mkdir('./submission/' + time_)"
   ]
  },
  {
   "cell_type": "code",
   "execution_count": 2030,
   "metadata": {},
   "outputs": [],
   "source": [
    "output['sid'] = output['sid'].astype(str)\n",
    "output['recommend_mode'] = output['recommend_mode'].astype(str)\n",
    "output.to_csv('./submission/' + time_ + '/submission.csv', index = False, quoting = csv.QUOTE_NONNUMERIC)"
   ]
  },
  {
   "cell_type": "code",
   "execution_count": null,
   "metadata": {},
   "outputs": [],
   "source": []
  },
  {
   "cell_type": "code",
   "execution_count": null,
   "metadata": {},
   "outputs": [],
   "source": []
  }
 ],
 "metadata": {
  "kernelspec": {
   "display_name": "Python 3",
   "language": "python",
   "name": "python3"
  },
  "language_info": {
   "codemirror_mode": {
    "name": "ipython",
    "version": 3
   },
   "file_extension": ".py",
   "mimetype": "text/x-python",
   "name": "python",
   "nbconvert_exporter": "python",
   "pygments_lexer": "ipython3",
   "version": "3.7.2"
  },
  "toc": {
   "base_numbering": 1,
   "nav_menu": {
    "height": "12px",
    "width": "164px"
   },
   "number_sections": true,
   "sideBar": true,
   "skip_h1_title": false,
   "title_cell": "Table of Contents",
   "title_sidebar": "Contents",
   "toc_cell": false,
   "toc_position": {
    "height": "calc(100% - 180px)",
    "left": "10px",
    "top": "150px",
    "width": "336px"
   },
   "toc_section_display": true,
   "toc_window_display": true
  }
 },
 "nbformat": 4,
 "nbformat_minor": 2
}
